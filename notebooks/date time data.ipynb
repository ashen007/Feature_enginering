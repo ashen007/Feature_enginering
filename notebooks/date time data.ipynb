{
 "cells": [
  {
   "cell_type": "code",
   "execution_count": 28,
   "metadata": {
    "collapsed": true
   },
   "outputs": [],
   "source": [
    "import numpy as np\n",
    "import pandas as pd\n",
    "import datetime"
   ]
  },
  {
   "cell_type": "markdown",
   "source": [
    "## Extracting date and time parts from a datetime variable\n",
    "The datetime variables can take dates, time, or date and time as values. The datetime variables are not used in their\n",
    "raw format to build machine learning algorithms. Instead, we create additional features from them, and, in fact, we can\n",
    "enrich the dataset dramatically by extracting information from the date and time."
   ],
   "metadata": {
    "collapsed": false,
    "pycharm": {
     "name": "#%% md\n"
    }
   }
  },
  {
   "cell_type": "code",
   "execution_count": 29,
   "outputs": [
    {
     "data": {
      "text/plain": "      Artist                    Album                 Track       Day Month  \\\n0  James Bay           Electric Light             Wild Love  Saturday   Dec   \n1  James Bay           Electric Light         Pink Lemonade  Saturday   Dec   \n2  James Bay           Electric Light  Wasted on Each Other  Saturday   Dec   \n3  James Bay           Electric Light                 Intro  Saturday   Dec   \n4     Hozier  Hozier (Deluxe Version)    Cherry Wine (Live)  Saturday   Dec   \n\n   Date  Year   Time  Duration  Listeners  PlayCount  \\\n0    19  2020  13:06  197000.0    53277.0   277241.0   \n1    19  2020  13:02  255000.0    51547.0   356515.0   \n2    19  2020  12:58       0.0    15399.0    81110.0   \n3    19  2020  12:54   59000.0    10021.0    30385.0   \n4    19  2020  12:53  240000.0    76909.0   341694.0   \n\n                                     Tags  \n0      british,2010s,snl,2018,2018 single  \n1   2018,rock,british,indie rock,pop rock  \n2                                     NaN  \n3                                     NaN  \n4  soul,indie rock,acoustic,Awesome,irish  ",
      "text/html": "<div>\n<style scoped>\n    .dataframe tbody tr th:only-of-type {\n        vertical-align: middle;\n    }\n\n    .dataframe tbody tr th {\n        vertical-align: top;\n    }\n\n    .dataframe thead th {\n        text-align: right;\n    }\n</style>\n<table border=\"1\" class=\"dataframe\">\n  <thead>\n    <tr style=\"text-align: right;\">\n      <th></th>\n      <th>Artist</th>\n      <th>Album</th>\n      <th>Track</th>\n      <th>Day</th>\n      <th>Month</th>\n      <th>Date</th>\n      <th>Year</th>\n      <th>Time</th>\n      <th>Duration</th>\n      <th>Listeners</th>\n      <th>PlayCount</th>\n      <th>Tags</th>\n    </tr>\n  </thead>\n  <tbody>\n    <tr>\n      <th>0</th>\n      <td>James Bay</td>\n      <td>Electric Light</td>\n      <td>Wild Love</td>\n      <td>Saturday</td>\n      <td>Dec</td>\n      <td>19</td>\n      <td>2020</td>\n      <td>13:06</td>\n      <td>197000.0</td>\n      <td>53277.0</td>\n      <td>277241.0</td>\n      <td>british,2010s,snl,2018,2018 single</td>\n    </tr>\n    <tr>\n      <th>1</th>\n      <td>James Bay</td>\n      <td>Electric Light</td>\n      <td>Pink Lemonade</td>\n      <td>Saturday</td>\n      <td>Dec</td>\n      <td>19</td>\n      <td>2020</td>\n      <td>13:02</td>\n      <td>255000.0</td>\n      <td>51547.0</td>\n      <td>356515.0</td>\n      <td>2018,rock,british,indie rock,pop rock</td>\n    </tr>\n    <tr>\n      <th>2</th>\n      <td>James Bay</td>\n      <td>Electric Light</td>\n      <td>Wasted on Each Other</td>\n      <td>Saturday</td>\n      <td>Dec</td>\n      <td>19</td>\n      <td>2020</td>\n      <td>12:58</td>\n      <td>0.0</td>\n      <td>15399.0</td>\n      <td>81110.0</td>\n      <td>NaN</td>\n    </tr>\n    <tr>\n      <th>3</th>\n      <td>James Bay</td>\n      <td>Electric Light</td>\n      <td>Intro</td>\n      <td>Saturday</td>\n      <td>Dec</td>\n      <td>19</td>\n      <td>2020</td>\n      <td>12:54</td>\n      <td>59000.0</td>\n      <td>10021.0</td>\n      <td>30385.0</td>\n      <td>NaN</td>\n    </tr>\n    <tr>\n      <th>4</th>\n      <td>Hozier</td>\n      <td>Hozier (Deluxe Version)</td>\n      <td>Cherry Wine (Live)</td>\n      <td>Saturday</td>\n      <td>Dec</td>\n      <td>19</td>\n      <td>2020</td>\n      <td>12:53</td>\n      <td>240000.0</td>\n      <td>76909.0</td>\n      <td>341694.0</td>\n      <td>soul,indie rock,acoustic,Awesome,irish</td>\n    </tr>\n  </tbody>\n</table>\n</div>"
     },
     "execution_count": 29,
     "metadata": {},
     "output_type": "execute_result"
    }
   ],
   "source": [
    "data = pd.read_csv('../../../Last_fm/lastfm_records.csv')\n",
    "data.head(5)"
   ],
   "metadata": {
    "collapsed": false,
    "pycharm": {
     "name": "#%%\n"
    }
   }
  },
  {
   "cell_type": "code",
   "execution_count": 30,
   "outputs": [
    {
     "data": {
      "text/plain": "Artist        object\nAlbum         object\nTrack         object\nDay           object\nMonth         object\nDate           int64\nYear           int64\nTime          object\nDuration     float64\nListeners    float64\nPlayCount    float64\nTags          object\ndtype: object"
     },
     "execution_count": 30,
     "metadata": {},
     "output_type": "execute_result"
    }
   ],
   "source": [
    "data.dtypes"
   ],
   "metadata": {
    "collapsed": false,
    "pycharm": {
     "name": "#%%\n"
    }
   }
  },
  {
   "cell_type": "code",
   "execution_count": 31,
   "outputs": [
    {
     "data": {
      "text/plain": "              Artist                              Album  \\\n0          James Bay                     Electric Light   \n1          James Bay                     Electric Light   \n2          James Bay                     Electric Light   \n3          James Bay                     Electric Light   \n4             Hozier            Hozier (Deluxe Version)   \n...              ...                                ...   \n50130  One Direction  Made in the A.M. (Deluxe Edition)   \n50131  One Direction  Made in the A.M. (Deluxe Edition)   \n50132  One Direction  Made in the A.M. (Deluxe Edition)   \n50133  One Direction  Made in the A.M. (Deluxe Edition)   \n50134  One Direction  Made in the A.M. (Deluxe Edition)   \n\n                            Track       Day  Duration  Listeners  PlayCount  \\\n0                       Wild Love  Saturday  197000.0    53277.0   277241.0   \n1                   Pink Lemonade  Saturday  255000.0    51547.0   356515.0   \n2            Wasted on Each Other  Saturday       0.0    15399.0    81110.0   \n3                           Intro  Saturday   59000.0    10021.0    30385.0   \n4              Cherry Wine (Live)  Saturday  240000.0    76909.0   341694.0   \n...                           ...       ...       ...        ...        ...   \n50130  I Want To Write You A Song  Thursday  179000.0    53009.0   400721.0   \n50131            Love You Goodbye  Thursday  196000.0    73592.0   551937.0   \n50132              What A Feeling  Thursday  200000.0    79500.0   806809.0   \n50133            Love You Goodbye  Thursday  196000.0    73592.0   551937.0   \n50134                   Hey Angel   Tuesday  240000.0    57338.0   389943.0   \n\n                                                    Tags        Listened_at  \n0                     british,2010s,snl,2018,2018 single  19-Dec-2020 13:06  \n1                  2018,rock,british,indie rock,pop rock  19-Dec-2020 13:02  \n2                                                    NaN  19-Dec-2020 12:58  \n3                                                    NaN  19-Dec-2020 12:54  \n4                 soul,indie rock,acoustic,Awesome,irish  19-Dec-2020 12:53  \n...                                                  ...                ...  \n50130                  pop,british,UK,acoustic,beautiful   3-Dec-2015 02:02  \n50131            love at first listen,pop,british,sad,UK   3-Dec-2015 01:58  \n50132  pop,british,easy listening,fav,love at first l...   3-Dec-2015 01:55  \n50133            love at first listen,pop,british,sad,UK   3-Dec-2015 01:52  \n50134    pop,british,pop rock,love at first listen,angel   1-Dec-2015 20:48  \n\n[50135 rows x 9 columns]",
      "text/html": "<div>\n<style scoped>\n    .dataframe tbody tr th:only-of-type {\n        vertical-align: middle;\n    }\n\n    .dataframe tbody tr th {\n        vertical-align: top;\n    }\n\n    .dataframe thead th {\n        text-align: right;\n    }\n</style>\n<table border=\"1\" class=\"dataframe\">\n  <thead>\n    <tr style=\"text-align: right;\">\n      <th></th>\n      <th>Artist</th>\n      <th>Album</th>\n      <th>Track</th>\n      <th>Day</th>\n      <th>Duration</th>\n      <th>Listeners</th>\n      <th>PlayCount</th>\n      <th>Tags</th>\n      <th>Listened_at</th>\n    </tr>\n  </thead>\n  <tbody>\n    <tr>\n      <th>0</th>\n      <td>James Bay</td>\n      <td>Electric Light</td>\n      <td>Wild Love</td>\n      <td>Saturday</td>\n      <td>197000.0</td>\n      <td>53277.0</td>\n      <td>277241.0</td>\n      <td>british,2010s,snl,2018,2018 single</td>\n      <td>19-Dec-2020 13:06</td>\n    </tr>\n    <tr>\n      <th>1</th>\n      <td>James Bay</td>\n      <td>Electric Light</td>\n      <td>Pink Lemonade</td>\n      <td>Saturday</td>\n      <td>255000.0</td>\n      <td>51547.0</td>\n      <td>356515.0</td>\n      <td>2018,rock,british,indie rock,pop rock</td>\n      <td>19-Dec-2020 13:02</td>\n    </tr>\n    <tr>\n      <th>2</th>\n      <td>James Bay</td>\n      <td>Electric Light</td>\n      <td>Wasted on Each Other</td>\n      <td>Saturday</td>\n      <td>0.0</td>\n      <td>15399.0</td>\n      <td>81110.0</td>\n      <td>NaN</td>\n      <td>19-Dec-2020 12:58</td>\n    </tr>\n    <tr>\n      <th>3</th>\n      <td>James Bay</td>\n      <td>Electric Light</td>\n      <td>Intro</td>\n      <td>Saturday</td>\n      <td>59000.0</td>\n      <td>10021.0</td>\n      <td>30385.0</td>\n      <td>NaN</td>\n      <td>19-Dec-2020 12:54</td>\n    </tr>\n    <tr>\n      <th>4</th>\n      <td>Hozier</td>\n      <td>Hozier (Deluxe Version)</td>\n      <td>Cherry Wine (Live)</td>\n      <td>Saturday</td>\n      <td>240000.0</td>\n      <td>76909.0</td>\n      <td>341694.0</td>\n      <td>soul,indie rock,acoustic,Awesome,irish</td>\n      <td>19-Dec-2020 12:53</td>\n    </tr>\n    <tr>\n      <th>...</th>\n      <td>...</td>\n      <td>...</td>\n      <td>...</td>\n      <td>...</td>\n      <td>...</td>\n      <td>...</td>\n      <td>...</td>\n      <td>...</td>\n      <td>...</td>\n    </tr>\n    <tr>\n      <th>50130</th>\n      <td>One Direction</td>\n      <td>Made in the A.M. (Deluxe Edition)</td>\n      <td>I Want To Write You A Song</td>\n      <td>Thursday</td>\n      <td>179000.0</td>\n      <td>53009.0</td>\n      <td>400721.0</td>\n      <td>pop,british,UK,acoustic,beautiful</td>\n      <td>3-Dec-2015 02:02</td>\n    </tr>\n    <tr>\n      <th>50131</th>\n      <td>One Direction</td>\n      <td>Made in the A.M. (Deluxe Edition)</td>\n      <td>Love You Goodbye</td>\n      <td>Thursday</td>\n      <td>196000.0</td>\n      <td>73592.0</td>\n      <td>551937.0</td>\n      <td>love at first listen,pop,british,sad,UK</td>\n      <td>3-Dec-2015 01:58</td>\n    </tr>\n    <tr>\n      <th>50132</th>\n      <td>One Direction</td>\n      <td>Made in the A.M. (Deluxe Edition)</td>\n      <td>What A Feeling</td>\n      <td>Thursday</td>\n      <td>200000.0</td>\n      <td>79500.0</td>\n      <td>806809.0</td>\n      <td>pop,british,easy listening,fav,love at first l...</td>\n      <td>3-Dec-2015 01:55</td>\n    </tr>\n    <tr>\n      <th>50133</th>\n      <td>One Direction</td>\n      <td>Made in the A.M. (Deluxe Edition)</td>\n      <td>Love You Goodbye</td>\n      <td>Thursday</td>\n      <td>196000.0</td>\n      <td>73592.0</td>\n      <td>551937.0</td>\n      <td>love at first listen,pop,british,sad,UK</td>\n      <td>3-Dec-2015 01:52</td>\n    </tr>\n    <tr>\n      <th>50134</th>\n      <td>One Direction</td>\n      <td>Made in the A.M. (Deluxe Edition)</td>\n      <td>Hey Angel</td>\n      <td>Tuesday</td>\n      <td>240000.0</td>\n      <td>57338.0</td>\n      <td>389943.0</td>\n      <td>pop,british,pop rock,love at first listen,angel</td>\n      <td>1-Dec-2015 20:48</td>\n    </tr>\n  </tbody>\n</table>\n<p>50135 rows × 9 columns</p>\n</div>"
     },
     "execution_count": 31,
     "metadata": {},
     "output_type": "execute_result"
    }
   ],
   "source": [
    "data['Listened_at'] = data[['Month','Date','Year','Time']].apply(lambda x: '{}-{}-{} {}'.format(x[1],x[0],x[2],x[3]),axis=1)\n",
    "data.drop(labels=['Month','Date','Year','Time'],axis=1,inplace=True)\n",
    "data"
   ],
   "metadata": {
    "collapsed": false,
    "pycharm": {
     "name": "#%%\n"
    }
   }
  },
  {
   "cell_type": "code",
   "execution_count": 32,
   "outputs": [
    {
     "data": {
      "text/plain": "0       2020-12-19 13:06:00\n1       2020-12-19 13:02:00\n2       2020-12-19 12:58:00\n3       2020-12-19 12:54:00\n4       2020-12-19 12:53:00\n                ...        \n50130   2015-12-03 02:02:00\n50131   2015-12-03 01:58:00\n50132   2015-12-03 01:55:00\n50133   2015-12-03 01:52:00\n50134   2015-12-01 20:48:00\nName: Listened_at, Length: 50135, dtype: datetime64[ns]"
     },
     "execution_count": 32,
     "metadata": {},
     "output_type": "execute_result"
    }
   ],
   "source": [
    "listened_at = pd.to_datetime(data['Listened_at'])\n",
    "listened_at"
   ],
   "metadata": {
    "collapsed": false,
    "pycharm": {
     "name": "#%%\n"
    }
   }
  },
  {
   "cell_type": "code",
   "execution_count": 33,
   "outputs": [],
   "source": [
    "date = listened_at.dt.date\n",
    "time = listened_at.dt.time"
   ],
   "metadata": {
    "collapsed": false,
    "pycharm": {
     "name": "#%%\n"
    }
   }
  },
  {
   "cell_type": "code",
   "execution_count": 34,
   "outputs": [
    {
     "data": {
      "text/plain": "(0        2020-12-19\n 1        2020-12-19\n 2        2020-12-19\n 3        2020-12-19\n 4        2020-12-19\n             ...    \n 50130    2015-12-03\n 50131    2015-12-03\n 50132    2015-12-03\n 50133    2015-12-03\n 50134    2015-12-01\n Name: Listened_at, Length: 50135, dtype: object,\n 0        13:06:00\n 1        13:02:00\n 2        12:58:00\n 3        12:54:00\n 4        12:53:00\n            ...   \n 50130    02:02:00\n 50131    01:58:00\n 50132    01:55:00\n 50133    01:52:00\n 50134    20:48:00\n Name: Listened_at, Length: 50135, dtype: object)"
     },
     "execution_count": 34,
     "metadata": {},
     "output_type": "execute_result"
    }
   ],
   "source": [
    "date,time"
   ],
   "metadata": {
    "collapsed": false,
    "pycharm": {
     "name": "#%%\n"
    }
   }
  },
  {
   "cell_type": "markdown",
   "source": [
    "## Deriving representations of the year and month"
   ],
   "metadata": {
    "collapsed": false,
    "pycharm": {
     "name": "#%% md\n"
    }
   }
  },
  {
   "cell_type": "code",
   "execution_count": 41,
   "outputs": [
    {
     "data": {
      "text/plain": "              listened_at  year  month  quarter  week\n0     2020-12-19 13:06:00  2020     12        4    51\n1     2020-12-19 13:02:00  2020     12        4    51\n2     2020-12-19 12:58:00  2020     12        4    51\n3     2020-12-19 12:54:00  2020     12        4    51\n4     2020-12-19 12:53:00  2020     12        4    51\n...                   ...   ...    ...      ...   ...\n50130 2015-12-03 02:02:00  2015     12        4    49\n50131 2015-12-03 01:58:00  2015     12        4    49\n50132 2015-12-03 01:55:00  2015     12        4    49\n50133 2015-12-03 01:52:00  2015     12        4    49\n50134 2015-12-01 20:48:00  2015     12        4    49\n\n[50135 rows x 5 columns]",
      "text/html": "<div>\n<style scoped>\n    .dataframe tbody tr th:only-of-type {\n        vertical-align: middle;\n    }\n\n    .dataframe tbody tr th {\n        vertical-align: top;\n    }\n\n    .dataframe thead th {\n        text-align: right;\n    }\n</style>\n<table border=\"1\" class=\"dataframe\">\n  <thead>\n    <tr style=\"text-align: right;\">\n      <th></th>\n      <th>listened_at</th>\n      <th>year</th>\n      <th>month</th>\n      <th>quarter</th>\n      <th>week</th>\n    </tr>\n  </thead>\n  <tbody>\n    <tr>\n      <th>0</th>\n      <td>2020-12-19 13:06:00</td>\n      <td>2020</td>\n      <td>12</td>\n      <td>4</td>\n      <td>51</td>\n    </tr>\n    <tr>\n      <th>1</th>\n      <td>2020-12-19 13:02:00</td>\n      <td>2020</td>\n      <td>12</td>\n      <td>4</td>\n      <td>51</td>\n    </tr>\n    <tr>\n      <th>2</th>\n      <td>2020-12-19 12:58:00</td>\n      <td>2020</td>\n      <td>12</td>\n      <td>4</td>\n      <td>51</td>\n    </tr>\n    <tr>\n      <th>3</th>\n      <td>2020-12-19 12:54:00</td>\n      <td>2020</td>\n      <td>12</td>\n      <td>4</td>\n      <td>51</td>\n    </tr>\n    <tr>\n      <th>4</th>\n      <td>2020-12-19 12:53:00</td>\n      <td>2020</td>\n      <td>12</td>\n      <td>4</td>\n      <td>51</td>\n    </tr>\n    <tr>\n      <th>...</th>\n      <td>...</td>\n      <td>...</td>\n      <td>...</td>\n      <td>...</td>\n      <td>...</td>\n    </tr>\n    <tr>\n      <th>50130</th>\n      <td>2015-12-03 02:02:00</td>\n      <td>2015</td>\n      <td>12</td>\n      <td>4</td>\n      <td>49</td>\n    </tr>\n    <tr>\n      <th>50131</th>\n      <td>2015-12-03 01:58:00</td>\n      <td>2015</td>\n      <td>12</td>\n      <td>4</td>\n      <td>49</td>\n    </tr>\n    <tr>\n      <th>50132</th>\n      <td>2015-12-03 01:55:00</td>\n      <td>2015</td>\n      <td>12</td>\n      <td>4</td>\n      <td>49</td>\n    </tr>\n    <tr>\n      <th>50133</th>\n      <td>2015-12-03 01:52:00</td>\n      <td>2015</td>\n      <td>12</td>\n      <td>4</td>\n      <td>49</td>\n    </tr>\n    <tr>\n      <th>50134</th>\n      <td>2015-12-01 20:48:00</td>\n      <td>2015</td>\n      <td>12</td>\n      <td>4</td>\n      <td>49</td>\n    </tr>\n  </tbody>\n</table>\n<p>50135 rows × 5 columns</p>\n</div>"
     },
     "execution_count": 41,
     "metadata": {},
     "output_type": "execute_result"
    }
   ],
   "source": [
    "df = pd.DataFrame(listened_at.values,columns=['listened_at'])\n",
    "df['year'] = listened_at.dt.year\n",
    "df['month'] = listened_at.dt.month\n",
    "df['quarter'] = listened_at.dt.quarter\n",
    "df['week'] = listened_at.dt.isocalendar().week\n",
    "\n",
    "df"
   ],
   "metadata": {
    "collapsed": false,
    "pycharm": {
     "name": "#%%\n"
    }
   }
  },
  {
   "cell_type": "markdown",
   "source": [
    "## Creating representations of day and week"
   ],
   "metadata": {
    "collapsed": false,
    "pycharm": {
     "name": "#%% md\n"
    }
   }
  },
  {
   "cell_type": "code",
   "execution_count": 47,
   "outputs": [
    {
     "data": {
      "text/plain": "              listened_at  year  month  quarter  week  day  day_of_week  \\\n0     2020-12-19 13:06:00  2020     12        4    51   19            5   \n1     2020-12-19 13:02:00  2020     12        4    51   19            5   \n2     2020-12-19 12:58:00  2020     12        4    51   19            5   \n3     2020-12-19 12:54:00  2020     12        4    51   19            5   \n4     2020-12-19 12:53:00  2020     12        4    51   19            5   \n...                   ...   ...    ...      ...   ...  ...          ...   \n50130 2015-12-03 02:02:00  2015     12        4    49    3            3   \n50131 2015-12-03 01:58:00  2015     12        4    49    3            3   \n50132 2015-12-03 01:55:00  2015     12        4    49    3            3   \n50133 2015-12-03 01:52:00  2015     12        4    49    3            3   \n50134 2015-12-01 20:48:00  2015     12        4    49    1            1   \n\n       week_day  \n0      Saturday  \n1      Saturday  \n2      Saturday  \n3      Saturday  \n4      Saturday  \n...         ...  \n50130  Thursday  \n50131  Thursday  \n50132  Thursday  \n50133  Thursday  \n50134   Tuesday  \n\n[50135 rows x 8 columns]",
      "text/html": "<div>\n<style scoped>\n    .dataframe tbody tr th:only-of-type {\n        vertical-align: middle;\n    }\n\n    .dataframe tbody tr th {\n        vertical-align: top;\n    }\n\n    .dataframe thead th {\n        text-align: right;\n    }\n</style>\n<table border=\"1\" class=\"dataframe\">\n  <thead>\n    <tr style=\"text-align: right;\">\n      <th></th>\n      <th>listened_at</th>\n      <th>year</th>\n      <th>month</th>\n      <th>quarter</th>\n      <th>week</th>\n      <th>day</th>\n      <th>day_of_week</th>\n      <th>week_day</th>\n    </tr>\n  </thead>\n  <tbody>\n    <tr>\n      <th>0</th>\n      <td>2020-12-19 13:06:00</td>\n      <td>2020</td>\n      <td>12</td>\n      <td>4</td>\n      <td>51</td>\n      <td>19</td>\n      <td>5</td>\n      <td>Saturday</td>\n    </tr>\n    <tr>\n      <th>1</th>\n      <td>2020-12-19 13:02:00</td>\n      <td>2020</td>\n      <td>12</td>\n      <td>4</td>\n      <td>51</td>\n      <td>19</td>\n      <td>5</td>\n      <td>Saturday</td>\n    </tr>\n    <tr>\n      <th>2</th>\n      <td>2020-12-19 12:58:00</td>\n      <td>2020</td>\n      <td>12</td>\n      <td>4</td>\n      <td>51</td>\n      <td>19</td>\n      <td>5</td>\n      <td>Saturday</td>\n    </tr>\n    <tr>\n      <th>3</th>\n      <td>2020-12-19 12:54:00</td>\n      <td>2020</td>\n      <td>12</td>\n      <td>4</td>\n      <td>51</td>\n      <td>19</td>\n      <td>5</td>\n      <td>Saturday</td>\n    </tr>\n    <tr>\n      <th>4</th>\n      <td>2020-12-19 12:53:00</td>\n      <td>2020</td>\n      <td>12</td>\n      <td>4</td>\n      <td>51</td>\n      <td>19</td>\n      <td>5</td>\n      <td>Saturday</td>\n    </tr>\n    <tr>\n      <th>...</th>\n      <td>...</td>\n      <td>...</td>\n      <td>...</td>\n      <td>...</td>\n      <td>...</td>\n      <td>...</td>\n      <td>...</td>\n      <td>...</td>\n    </tr>\n    <tr>\n      <th>50130</th>\n      <td>2015-12-03 02:02:00</td>\n      <td>2015</td>\n      <td>12</td>\n      <td>4</td>\n      <td>49</td>\n      <td>3</td>\n      <td>3</td>\n      <td>Thursday</td>\n    </tr>\n    <tr>\n      <th>50131</th>\n      <td>2015-12-03 01:58:00</td>\n      <td>2015</td>\n      <td>12</td>\n      <td>4</td>\n      <td>49</td>\n      <td>3</td>\n      <td>3</td>\n      <td>Thursday</td>\n    </tr>\n    <tr>\n      <th>50132</th>\n      <td>2015-12-03 01:55:00</td>\n      <td>2015</td>\n      <td>12</td>\n      <td>4</td>\n      <td>49</td>\n      <td>3</td>\n      <td>3</td>\n      <td>Thursday</td>\n    </tr>\n    <tr>\n      <th>50133</th>\n      <td>2015-12-03 01:52:00</td>\n      <td>2015</td>\n      <td>12</td>\n      <td>4</td>\n      <td>49</td>\n      <td>3</td>\n      <td>3</td>\n      <td>Thursday</td>\n    </tr>\n    <tr>\n      <th>50134</th>\n      <td>2015-12-01 20:48:00</td>\n      <td>2015</td>\n      <td>12</td>\n      <td>4</td>\n      <td>49</td>\n      <td>1</td>\n      <td>1</td>\n      <td>Tuesday</td>\n    </tr>\n  </tbody>\n</table>\n<p>50135 rows × 8 columns</p>\n</div>"
     },
     "execution_count": 47,
     "metadata": {},
     "output_type": "execute_result"
    }
   ],
   "source": [
    "df['day'] = listened_at.dt.day\n",
    "df['day_of_week'] = listened_at.dt.dayofweek\n",
    "df['week_day'] = listened_at.dt.day_name()\n",
    "df"
   ],
   "metadata": {
    "collapsed": false,
    "pycharm": {
     "name": "#%%\n"
    }
   }
  },
  {
   "cell_type": "markdown",
   "source": [
    "## Extracting time parts from a time variable"
   ],
   "metadata": {
    "collapsed": false,
    "pycharm": {
     "name": "#%% md\n"
    }
   }
  },
  {
   "cell_type": "code",
   "execution_count": 49,
   "outputs": [
    {
     "data": {
      "text/plain": "              listened_at  year  month  quarter  week  day  day_of_week  \\\n0     2020-12-19 13:06:00  2020     12        4    51   19            5   \n1     2020-12-19 13:02:00  2020     12        4    51   19            5   \n2     2020-12-19 12:58:00  2020     12        4    51   19            5   \n3     2020-12-19 12:54:00  2020     12        4    51   19            5   \n4     2020-12-19 12:53:00  2020     12        4    51   19            5   \n...                   ...   ...    ...      ...   ...  ...          ...   \n50130 2015-12-03 02:02:00  2015     12        4    49    3            3   \n50131 2015-12-03 01:58:00  2015     12        4    49    3            3   \n50132 2015-12-03 01:55:00  2015     12        4    49    3            3   \n50133 2015-12-03 01:52:00  2015     12        4    49    3            3   \n50134 2015-12-01 20:48:00  2015     12        4    49    1            1   \n\n       week_day  hour  minute  seconds  \n0      Saturday    13       6        0  \n1      Saturday    13       2        0  \n2      Saturday    12      58        0  \n3      Saturday    12      54        0  \n4      Saturday    12      53        0  \n...         ...   ...     ...      ...  \n50130  Thursday     2       2        0  \n50131  Thursday     1      58        0  \n50132  Thursday     1      55        0  \n50133  Thursday     1      52        0  \n50134   Tuesday    20      48        0  \n\n[50135 rows x 11 columns]",
      "text/html": "<div>\n<style scoped>\n    .dataframe tbody tr th:only-of-type {\n        vertical-align: middle;\n    }\n\n    .dataframe tbody tr th {\n        vertical-align: top;\n    }\n\n    .dataframe thead th {\n        text-align: right;\n    }\n</style>\n<table border=\"1\" class=\"dataframe\">\n  <thead>\n    <tr style=\"text-align: right;\">\n      <th></th>\n      <th>listened_at</th>\n      <th>year</th>\n      <th>month</th>\n      <th>quarter</th>\n      <th>week</th>\n      <th>day</th>\n      <th>day_of_week</th>\n      <th>week_day</th>\n      <th>hour</th>\n      <th>minute</th>\n      <th>seconds</th>\n    </tr>\n  </thead>\n  <tbody>\n    <tr>\n      <th>0</th>\n      <td>2020-12-19 13:06:00</td>\n      <td>2020</td>\n      <td>12</td>\n      <td>4</td>\n      <td>51</td>\n      <td>19</td>\n      <td>5</td>\n      <td>Saturday</td>\n      <td>13</td>\n      <td>6</td>\n      <td>0</td>\n    </tr>\n    <tr>\n      <th>1</th>\n      <td>2020-12-19 13:02:00</td>\n      <td>2020</td>\n      <td>12</td>\n      <td>4</td>\n      <td>51</td>\n      <td>19</td>\n      <td>5</td>\n      <td>Saturday</td>\n      <td>13</td>\n      <td>2</td>\n      <td>0</td>\n    </tr>\n    <tr>\n      <th>2</th>\n      <td>2020-12-19 12:58:00</td>\n      <td>2020</td>\n      <td>12</td>\n      <td>4</td>\n      <td>51</td>\n      <td>19</td>\n      <td>5</td>\n      <td>Saturday</td>\n      <td>12</td>\n      <td>58</td>\n      <td>0</td>\n    </tr>\n    <tr>\n      <th>3</th>\n      <td>2020-12-19 12:54:00</td>\n      <td>2020</td>\n      <td>12</td>\n      <td>4</td>\n      <td>51</td>\n      <td>19</td>\n      <td>5</td>\n      <td>Saturday</td>\n      <td>12</td>\n      <td>54</td>\n      <td>0</td>\n    </tr>\n    <tr>\n      <th>4</th>\n      <td>2020-12-19 12:53:00</td>\n      <td>2020</td>\n      <td>12</td>\n      <td>4</td>\n      <td>51</td>\n      <td>19</td>\n      <td>5</td>\n      <td>Saturday</td>\n      <td>12</td>\n      <td>53</td>\n      <td>0</td>\n    </tr>\n    <tr>\n      <th>...</th>\n      <td>...</td>\n      <td>...</td>\n      <td>...</td>\n      <td>...</td>\n      <td>...</td>\n      <td>...</td>\n      <td>...</td>\n      <td>...</td>\n      <td>...</td>\n      <td>...</td>\n      <td>...</td>\n    </tr>\n    <tr>\n      <th>50130</th>\n      <td>2015-12-03 02:02:00</td>\n      <td>2015</td>\n      <td>12</td>\n      <td>4</td>\n      <td>49</td>\n      <td>3</td>\n      <td>3</td>\n      <td>Thursday</td>\n      <td>2</td>\n      <td>2</td>\n      <td>0</td>\n    </tr>\n    <tr>\n      <th>50131</th>\n      <td>2015-12-03 01:58:00</td>\n      <td>2015</td>\n      <td>12</td>\n      <td>4</td>\n      <td>49</td>\n      <td>3</td>\n      <td>3</td>\n      <td>Thursday</td>\n      <td>1</td>\n      <td>58</td>\n      <td>0</td>\n    </tr>\n    <tr>\n      <th>50132</th>\n      <td>2015-12-03 01:55:00</td>\n      <td>2015</td>\n      <td>12</td>\n      <td>4</td>\n      <td>49</td>\n      <td>3</td>\n      <td>3</td>\n      <td>Thursday</td>\n      <td>1</td>\n      <td>55</td>\n      <td>0</td>\n    </tr>\n    <tr>\n      <th>50133</th>\n      <td>2015-12-03 01:52:00</td>\n      <td>2015</td>\n      <td>12</td>\n      <td>4</td>\n      <td>49</td>\n      <td>3</td>\n      <td>3</td>\n      <td>Thursday</td>\n      <td>1</td>\n      <td>52</td>\n      <td>0</td>\n    </tr>\n    <tr>\n      <th>50134</th>\n      <td>2015-12-01 20:48:00</td>\n      <td>2015</td>\n      <td>12</td>\n      <td>4</td>\n      <td>49</td>\n      <td>1</td>\n      <td>1</td>\n      <td>Tuesday</td>\n      <td>20</td>\n      <td>48</td>\n      <td>0</td>\n    </tr>\n  </tbody>\n</table>\n<p>50135 rows × 11 columns</p>\n</div>"
     },
     "execution_count": 49,
     "metadata": {},
     "output_type": "execute_result"
    }
   ],
   "source": [
    "df['hour'] = listened_at.dt.hour\n",
    "df['minute'] = listened_at.dt.minute\n",
    "df['seconds'] = listened_at.dt.second\n",
    "df"
   ],
   "metadata": {
    "collapsed": false,
    "pycharm": {
     "name": "#%%\n"
    }
   }
  },
  {
   "cell_type": "markdown",
   "source": [
    "## Capturing the elapsed time between datetime variables\n",
    "The datetime variables offer value individually, and they offer more value collectively when used together with other\n",
    "datetime variables to derive important insights"
   ],
   "metadata": {
    "collapsed": false,
    "pycharm": {
     "name": "#%% md\n"
    }
   }
  },
  {
   "cell_type": "code",
   "execution_count": 50,
   "outputs": [
    {
     "data": {
      "text/plain": "              listened_at  year  month  quarter  week  day  day_of_week  \\\n0     2020-12-19 13:06:00  2020     12        4    51   19            5   \n1     2020-12-19 13:02:00  2020     12        4    51   19            5   \n2     2020-12-19 12:58:00  2020     12        4    51   19            5   \n3     2020-12-19 12:54:00  2020     12        4    51   19            5   \n4     2020-12-19 12:53:00  2020     12        4    51   19            5   \n...                   ...   ...    ...      ...   ...  ...          ...   \n50130 2015-12-03 02:02:00  2015     12        4    49    3            3   \n50131 2015-12-03 01:58:00  2015     12        4    49    3            3   \n50132 2015-12-03 01:55:00  2015     12        4    49    3            3   \n50133 2015-12-03 01:52:00  2015     12        4    49    3            3   \n50134 2015-12-01 20:48:00  2015     12        4    49    1            1   \n\n       week_day  hour  minute  seconds from_today  \n0      Saturday    13       6        0   122 days  \n1      Saturday    13       2        0   122 days  \n2      Saturday    12      58        0   122 days  \n3      Saturday    12      54        0   122 days  \n4      Saturday    12      53        0   122 days  \n...         ...   ...     ...      ...        ...  \n50130  Thursday     2       2        0  1965 days  \n50131  Thursday     1      58        0  1965 days  \n50132  Thursday     1      55        0  1965 days  \n50133  Thursday     1      52        0  1965 days  \n50134   Tuesday    20      48        0  1967 days  \n\n[50135 rows x 12 columns]",
      "text/html": "<div>\n<style scoped>\n    .dataframe tbody tr th:only-of-type {\n        vertical-align: middle;\n    }\n\n    .dataframe tbody tr th {\n        vertical-align: top;\n    }\n\n    .dataframe thead th {\n        text-align: right;\n    }\n</style>\n<table border=\"1\" class=\"dataframe\">\n  <thead>\n    <tr style=\"text-align: right;\">\n      <th></th>\n      <th>listened_at</th>\n      <th>year</th>\n      <th>month</th>\n      <th>quarter</th>\n      <th>week</th>\n      <th>day</th>\n      <th>day_of_week</th>\n      <th>week_day</th>\n      <th>hour</th>\n      <th>minute</th>\n      <th>seconds</th>\n      <th>from_today</th>\n    </tr>\n  </thead>\n  <tbody>\n    <tr>\n      <th>0</th>\n      <td>2020-12-19 13:06:00</td>\n      <td>2020</td>\n      <td>12</td>\n      <td>4</td>\n      <td>51</td>\n      <td>19</td>\n      <td>5</td>\n      <td>Saturday</td>\n      <td>13</td>\n      <td>6</td>\n      <td>0</td>\n      <td>122 days</td>\n    </tr>\n    <tr>\n      <th>1</th>\n      <td>2020-12-19 13:02:00</td>\n      <td>2020</td>\n      <td>12</td>\n      <td>4</td>\n      <td>51</td>\n      <td>19</td>\n      <td>5</td>\n      <td>Saturday</td>\n      <td>13</td>\n      <td>2</td>\n      <td>0</td>\n      <td>122 days</td>\n    </tr>\n    <tr>\n      <th>2</th>\n      <td>2020-12-19 12:58:00</td>\n      <td>2020</td>\n      <td>12</td>\n      <td>4</td>\n      <td>51</td>\n      <td>19</td>\n      <td>5</td>\n      <td>Saturday</td>\n      <td>12</td>\n      <td>58</td>\n      <td>0</td>\n      <td>122 days</td>\n    </tr>\n    <tr>\n      <th>3</th>\n      <td>2020-12-19 12:54:00</td>\n      <td>2020</td>\n      <td>12</td>\n      <td>4</td>\n      <td>51</td>\n      <td>19</td>\n      <td>5</td>\n      <td>Saturday</td>\n      <td>12</td>\n      <td>54</td>\n      <td>0</td>\n      <td>122 days</td>\n    </tr>\n    <tr>\n      <th>4</th>\n      <td>2020-12-19 12:53:00</td>\n      <td>2020</td>\n      <td>12</td>\n      <td>4</td>\n      <td>51</td>\n      <td>19</td>\n      <td>5</td>\n      <td>Saturday</td>\n      <td>12</td>\n      <td>53</td>\n      <td>0</td>\n      <td>122 days</td>\n    </tr>\n    <tr>\n      <th>...</th>\n      <td>...</td>\n      <td>...</td>\n      <td>...</td>\n      <td>...</td>\n      <td>...</td>\n      <td>...</td>\n      <td>...</td>\n      <td>...</td>\n      <td>...</td>\n      <td>...</td>\n      <td>...</td>\n      <td>...</td>\n    </tr>\n    <tr>\n      <th>50130</th>\n      <td>2015-12-03 02:02:00</td>\n      <td>2015</td>\n      <td>12</td>\n      <td>4</td>\n      <td>49</td>\n      <td>3</td>\n      <td>3</td>\n      <td>Thursday</td>\n      <td>2</td>\n      <td>2</td>\n      <td>0</td>\n      <td>1965 days</td>\n    </tr>\n    <tr>\n      <th>50131</th>\n      <td>2015-12-03 01:58:00</td>\n      <td>2015</td>\n      <td>12</td>\n      <td>4</td>\n      <td>49</td>\n      <td>3</td>\n      <td>3</td>\n      <td>Thursday</td>\n      <td>1</td>\n      <td>58</td>\n      <td>0</td>\n      <td>1965 days</td>\n    </tr>\n    <tr>\n      <th>50132</th>\n      <td>2015-12-03 01:55:00</td>\n      <td>2015</td>\n      <td>12</td>\n      <td>4</td>\n      <td>49</td>\n      <td>3</td>\n      <td>3</td>\n      <td>Thursday</td>\n      <td>1</td>\n      <td>55</td>\n      <td>0</td>\n      <td>1965 days</td>\n    </tr>\n    <tr>\n      <th>50133</th>\n      <td>2015-12-03 01:52:00</td>\n      <td>2015</td>\n      <td>12</td>\n      <td>4</td>\n      <td>49</td>\n      <td>3</td>\n      <td>3</td>\n      <td>Thursday</td>\n      <td>1</td>\n      <td>52</td>\n      <td>0</td>\n      <td>1965 days</td>\n    </tr>\n    <tr>\n      <th>50134</th>\n      <td>2015-12-01 20:48:00</td>\n      <td>2015</td>\n      <td>12</td>\n      <td>4</td>\n      <td>49</td>\n      <td>1</td>\n      <td>1</td>\n      <td>Tuesday</td>\n      <td>20</td>\n      <td>48</td>\n      <td>0</td>\n      <td>1967 days</td>\n    </tr>\n  </tbody>\n</table>\n<p>50135 rows × 12 columns</p>\n</div>"
     },
     "execution_count": 50,
     "metadata": {},
     "output_type": "execute_result"
    }
   ],
   "source": [
    "df['from_today'] = datetime.date.today() - listened_at.dt.date\n",
    "df"
   ],
   "metadata": {
    "collapsed": false,
    "pycharm": {
     "name": "#%%\n"
    }
   }
  },
  {
   "cell_type": "code",
   "execution_count": 51,
   "outputs": [
    {
     "data": {
      "text/plain": "0         4.008296\n1         4.008296\n2         4.008296\n3         4.008296\n4         4.008296\n           ...    \n50130    64.559847\n50131    64.559847\n50132    64.559847\n50133    64.559847\n50134    64.625557\nName: ft_by_month, Length: 50135, dtype: float64"
     },
     "execution_count": 51,
     "metadata": {},
     "output_type": "execute_result"
    }
   ],
   "source": [
    "df['ft_by_month'] = df.from_today/np.timedelta64(1,'M')\n",
    "df['ft_by_month']"
   ],
   "metadata": {
    "collapsed": false,
    "pycharm": {
     "name": "#%%\n"
    }
   }
  },
  {
   "cell_type": "code",
   "execution_count": 52,
   "outputs": [
    {
     "data": {
      "text/plain": "0        0.334025\n1        0.334025\n2        0.334025\n3        0.334025\n4        0.334025\n           ...   \n50130    5.379987\n50131    5.379987\n50132    5.379987\n50133    5.379987\n50134    5.385463\nName: ft_by_year, Length: 50135, dtype: float64"
     },
     "execution_count": 52,
     "metadata": {},
     "output_type": "execute_result"
    }
   ],
   "source": [
    "df['ft_by_year'] = df.from_today/np.timedelta64(1,'Y')\n",
    "df['ft_by_year']"
   ],
   "metadata": {
    "collapsed": false,
    "pycharm": {
     "name": "#%%\n"
    }
   }
  },
  {
   "cell_type": "markdown",
   "source": [
    "## Working with time in different time zones"
   ],
   "metadata": {
    "collapsed": false,
    "pycharm": {
     "name": "#%% md\n"
    }
   }
  },
  {
   "cell_type": "code",
   "execution_count": 63,
   "outputs": [
    {
     "data": {
      "text/plain": "              listened_at               london_time\n0     2020-12-19 13:06:00 2020-12-19 13:06:00+00:00\n1     2020-12-19 13:02:00 2020-12-19 13:02:00+00:00\n2     2020-12-19 12:58:00 2020-12-19 12:58:00+00:00\n3     2020-12-19 12:54:00 2020-12-19 12:54:00+00:00\n4     2020-12-19 12:53:00 2020-12-19 12:53:00+00:00\n...                   ...                       ...\n50130 2015-12-03 02:02:00 2015-12-03 02:02:00+00:00\n50131 2015-12-03 01:58:00 2015-12-03 01:58:00+00:00\n50132 2015-12-03 01:55:00 2015-12-03 01:55:00+00:00\n50133 2015-12-03 01:52:00 2015-12-03 01:52:00+00:00\n50134 2015-12-01 20:48:00 2015-12-01 20:48:00+00:00\n\n[50135 rows x 2 columns]",
      "text/html": "<div>\n<style scoped>\n    .dataframe tbody tr th:only-of-type {\n        vertical-align: middle;\n    }\n\n    .dataframe tbody tr th {\n        vertical-align: top;\n    }\n\n    .dataframe thead th {\n        text-align: right;\n    }\n</style>\n<table border=\"1\" class=\"dataframe\">\n  <thead>\n    <tr style=\"text-align: right;\">\n      <th></th>\n      <th>listened_at</th>\n      <th>london_time</th>\n    </tr>\n  </thead>\n  <tbody>\n    <tr>\n      <th>0</th>\n      <td>2020-12-19 13:06:00</td>\n      <td>2020-12-19 13:06:00+00:00</td>\n    </tr>\n    <tr>\n      <th>1</th>\n      <td>2020-12-19 13:02:00</td>\n      <td>2020-12-19 13:02:00+00:00</td>\n    </tr>\n    <tr>\n      <th>2</th>\n      <td>2020-12-19 12:58:00</td>\n      <td>2020-12-19 12:58:00+00:00</td>\n    </tr>\n    <tr>\n      <th>3</th>\n      <td>2020-12-19 12:54:00</td>\n      <td>2020-12-19 12:54:00+00:00</td>\n    </tr>\n    <tr>\n      <th>4</th>\n      <td>2020-12-19 12:53:00</td>\n      <td>2020-12-19 12:53:00+00:00</td>\n    </tr>\n    <tr>\n      <th>...</th>\n      <td>...</td>\n      <td>...</td>\n    </tr>\n    <tr>\n      <th>50130</th>\n      <td>2015-12-03 02:02:00</td>\n      <td>2015-12-03 02:02:00+00:00</td>\n    </tr>\n    <tr>\n      <th>50131</th>\n      <td>2015-12-03 01:58:00</td>\n      <td>2015-12-03 01:58:00+00:00</td>\n    </tr>\n    <tr>\n      <th>50132</th>\n      <td>2015-12-03 01:55:00</td>\n      <td>2015-12-03 01:55:00+00:00</td>\n    </tr>\n    <tr>\n      <th>50133</th>\n      <td>2015-12-03 01:52:00</td>\n      <td>2015-12-03 01:52:00+00:00</td>\n    </tr>\n    <tr>\n      <th>50134</th>\n      <td>2015-12-01 20:48:00</td>\n      <td>2015-12-01 20:48:00+00:00</td>\n    </tr>\n  </tbody>\n</table>\n<p>50135 rows × 2 columns</p>\n</div>"
     },
     "execution_count": 63,
     "metadata": {},
     "output_type": "execute_result"
    }
   ],
   "source": [
    "df['london_time'] = pd.DatetimeIndex(df['listened_at']).tz_localize('UTC').tz_convert('Europe/London')\n",
    "df[['listened_at','london_time']]"
   ],
   "metadata": {
    "collapsed": false,
    "pycharm": {
     "name": "#%%\n"
    }
   }
  }
 ],
 "metadata": {
  "kernelspec": {
   "display_name": "Python 3",
   "language": "python",
   "name": "python3"
  },
  "language_info": {
   "codemirror_mode": {
    "name": "ipython",
    "version": 2
   },
   "file_extension": ".py",
   "mimetype": "text/x-python",
   "name": "python",
   "nbconvert_exporter": "python",
   "pygments_lexer": "ipython2",
   "version": "2.7.6"
  }
 },
 "nbformat": 4,
 "nbformat_minor": 0
}