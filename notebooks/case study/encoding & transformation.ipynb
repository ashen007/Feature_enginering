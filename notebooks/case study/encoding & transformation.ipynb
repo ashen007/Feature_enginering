{
 "cells": [
  {
   "cell_type": "code",
   "execution_count": 3,
   "metadata": {
    "collapsed": true
   },
   "outputs": [],
   "source": [
    "import numpy as np\n",
    "import pandas as pd\n",
    "from feature_engine.encoding import MeanEncoder,OrdinalEncoder,CountFrequencyEncoder,RareLabelEncoder,OneHotEncoder\n",
    "from feature_engine.transformation import PowerTransformer,BoxCoxTransformer,LogTransformer,YeoJohnsonTransformer"
   ]
  },
  {
   "cell_type": "code",
   "execution_count": 2,
   "outputs": [
    {
     "data": {
      "text/plain": "      MSSubClass MSZoning  LotFrontage  LotArea Street LotShape LandContour  \\\nId                                                                            \n1             60       RL         65.0     8450   Pave      Reg         Lvl   \n2             20       RL         80.0     9600   Pave      Reg         Lvl   \n3             60       RL         68.0    11250   Pave      IR1         Lvl   \n4             70       RL         60.0     9550   Pave      IR1         Lvl   \n5             60       RL         84.0    14260   Pave      IR1         Lvl   \n...          ...      ...          ...      ...    ...      ...         ...   \n1456          60       RL         62.0     7917   Pave      Reg         Lvl   \n1457          20       RL         85.0    13175   Pave      Reg         Lvl   \n1458          70       RL         66.0     9042   Pave      Reg         Lvl   \n1459          20       RL         68.0     9717   Pave      Reg         Lvl   \n1460          20       RL         75.0     9937   Pave      Reg         Lvl   \n\n     Utilities LotConfig LandSlope  ... EnclosedPorch 3SsnPorch ScreenPorch  \\\nId                                  ...                                       \n1       AllPub    Inside       Gtl  ...             0         0           0   \n2       AllPub       FR2       Gtl  ...             0         0           0   \n3       AllPub    Inside       Gtl  ...             0         0           0   \n4       AllPub    Corner       Gtl  ...           272         0           0   \n5       AllPub       FR2       Gtl  ...             0         0           0   \n...        ...       ...       ...  ...           ...       ...         ...   \n1456    AllPub    Inside       Gtl  ...             0         0           0   \n1457    AllPub    Inside       Gtl  ...             0         0           0   \n1458    AllPub    Inside       Gtl  ...             0         0           0   \n1459    AllPub    Inside       Gtl  ...           112         0           0   \n1460    AllPub    Inside       Gtl  ...             0         0           0   \n\n     PoolArea MiscVal  MoSold  YrSold  SaleType  SaleCondition SalePrice  \nId                                                                        \n1           0       0       2    2008        WD         Normal    208500  \n2           0       0       5    2007        WD         Normal    181500  \n3           0       0       9    2008        WD         Normal    223500  \n4           0       0       2    2006        WD        Abnorml    140000  \n5           0       0      12    2008        WD         Normal    250000  \n...       ...     ...     ...     ...       ...            ...       ...  \n1456        0       0       8    2007        WD         Normal    175000  \n1457        0       0       2    2010        WD         Normal    210000  \n1458        0    2500       5    2010        WD         Normal    266500  \n1459        0       0       4    2010        WD         Normal    142125  \n1460        0       0       6    2008        WD         Normal    147500  \n\n[1460 rows x 76 columns]",
      "text/html": "<div>\n<style scoped>\n    .dataframe tbody tr th:only-of-type {\n        vertical-align: middle;\n    }\n\n    .dataframe tbody tr th {\n        vertical-align: top;\n    }\n\n    .dataframe thead th {\n        text-align: right;\n    }\n</style>\n<table border=\"1\" class=\"dataframe\">\n  <thead>\n    <tr style=\"text-align: right;\">\n      <th></th>\n      <th>MSSubClass</th>\n      <th>MSZoning</th>\n      <th>LotFrontage</th>\n      <th>LotArea</th>\n      <th>Street</th>\n      <th>LotShape</th>\n      <th>LandContour</th>\n      <th>Utilities</th>\n      <th>LotConfig</th>\n      <th>LandSlope</th>\n      <th>...</th>\n      <th>EnclosedPorch</th>\n      <th>3SsnPorch</th>\n      <th>ScreenPorch</th>\n      <th>PoolArea</th>\n      <th>MiscVal</th>\n      <th>MoSold</th>\n      <th>YrSold</th>\n      <th>SaleType</th>\n      <th>SaleCondition</th>\n      <th>SalePrice</th>\n    </tr>\n    <tr>\n      <th>Id</th>\n      <th></th>\n      <th></th>\n      <th></th>\n      <th></th>\n      <th></th>\n      <th></th>\n      <th></th>\n      <th></th>\n      <th></th>\n      <th></th>\n      <th></th>\n      <th></th>\n      <th></th>\n      <th></th>\n      <th></th>\n      <th></th>\n      <th></th>\n      <th></th>\n      <th></th>\n      <th></th>\n      <th></th>\n    </tr>\n  </thead>\n  <tbody>\n    <tr>\n      <th>1</th>\n      <td>60</td>\n      <td>RL</td>\n      <td>65.0</td>\n      <td>8450</td>\n      <td>Pave</td>\n      <td>Reg</td>\n      <td>Lvl</td>\n      <td>AllPub</td>\n      <td>Inside</td>\n      <td>Gtl</td>\n      <td>...</td>\n      <td>0</td>\n      <td>0</td>\n      <td>0</td>\n      <td>0</td>\n      <td>0</td>\n      <td>2</td>\n      <td>2008</td>\n      <td>WD</td>\n      <td>Normal</td>\n      <td>208500</td>\n    </tr>\n    <tr>\n      <th>2</th>\n      <td>20</td>\n      <td>RL</td>\n      <td>80.0</td>\n      <td>9600</td>\n      <td>Pave</td>\n      <td>Reg</td>\n      <td>Lvl</td>\n      <td>AllPub</td>\n      <td>FR2</td>\n      <td>Gtl</td>\n      <td>...</td>\n      <td>0</td>\n      <td>0</td>\n      <td>0</td>\n      <td>0</td>\n      <td>0</td>\n      <td>5</td>\n      <td>2007</td>\n      <td>WD</td>\n      <td>Normal</td>\n      <td>181500</td>\n    </tr>\n    <tr>\n      <th>3</th>\n      <td>60</td>\n      <td>RL</td>\n      <td>68.0</td>\n      <td>11250</td>\n      <td>Pave</td>\n      <td>IR1</td>\n      <td>Lvl</td>\n      <td>AllPub</td>\n      <td>Inside</td>\n      <td>Gtl</td>\n      <td>...</td>\n      <td>0</td>\n      <td>0</td>\n      <td>0</td>\n      <td>0</td>\n      <td>0</td>\n      <td>9</td>\n      <td>2008</td>\n      <td>WD</td>\n      <td>Normal</td>\n      <td>223500</td>\n    </tr>\n    <tr>\n      <th>4</th>\n      <td>70</td>\n      <td>RL</td>\n      <td>60.0</td>\n      <td>9550</td>\n      <td>Pave</td>\n      <td>IR1</td>\n      <td>Lvl</td>\n      <td>AllPub</td>\n      <td>Corner</td>\n      <td>Gtl</td>\n      <td>...</td>\n      <td>272</td>\n      <td>0</td>\n      <td>0</td>\n      <td>0</td>\n      <td>0</td>\n      <td>2</td>\n      <td>2006</td>\n      <td>WD</td>\n      <td>Abnorml</td>\n      <td>140000</td>\n    </tr>\n    <tr>\n      <th>5</th>\n      <td>60</td>\n      <td>RL</td>\n      <td>84.0</td>\n      <td>14260</td>\n      <td>Pave</td>\n      <td>IR1</td>\n      <td>Lvl</td>\n      <td>AllPub</td>\n      <td>FR2</td>\n      <td>Gtl</td>\n      <td>...</td>\n      <td>0</td>\n      <td>0</td>\n      <td>0</td>\n      <td>0</td>\n      <td>0</td>\n      <td>12</td>\n      <td>2008</td>\n      <td>WD</td>\n      <td>Normal</td>\n      <td>250000</td>\n    </tr>\n    <tr>\n      <th>...</th>\n      <td>...</td>\n      <td>...</td>\n      <td>...</td>\n      <td>...</td>\n      <td>...</td>\n      <td>...</td>\n      <td>...</td>\n      <td>...</td>\n      <td>...</td>\n      <td>...</td>\n      <td>...</td>\n      <td>...</td>\n      <td>...</td>\n      <td>...</td>\n      <td>...</td>\n      <td>...</td>\n      <td>...</td>\n      <td>...</td>\n      <td>...</td>\n      <td>...</td>\n      <td>...</td>\n    </tr>\n    <tr>\n      <th>1456</th>\n      <td>60</td>\n      <td>RL</td>\n      <td>62.0</td>\n      <td>7917</td>\n      <td>Pave</td>\n      <td>Reg</td>\n      <td>Lvl</td>\n      <td>AllPub</td>\n      <td>Inside</td>\n      <td>Gtl</td>\n      <td>...</td>\n      <td>0</td>\n      <td>0</td>\n      <td>0</td>\n      <td>0</td>\n      <td>0</td>\n      <td>8</td>\n      <td>2007</td>\n      <td>WD</td>\n      <td>Normal</td>\n      <td>175000</td>\n    </tr>\n    <tr>\n      <th>1457</th>\n      <td>20</td>\n      <td>RL</td>\n      <td>85.0</td>\n      <td>13175</td>\n      <td>Pave</td>\n      <td>Reg</td>\n      <td>Lvl</td>\n      <td>AllPub</td>\n      <td>Inside</td>\n      <td>Gtl</td>\n      <td>...</td>\n      <td>0</td>\n      <td>0</td>\n      <td>0</td>\n      <td>0</td>\n      <td>0</td>\n      <td>2</td>\n      <td>2010</td>\n      <td>WD</td>\n      <td>Normal</td>\n      <td>210000</td>\n    </tr>\n    <tr>\n      <th>1458</th>\n      <td>70</td>\n      <td>RL</td>\n      <td>66.0</td>\n      <td>9042</td>\n      <td>Pave</td>\n      <td>Reg</td>\n      <td>Lvl</td>\n      <td>AllPub</td>\n      <td>Inside</td>\n      <td>Gtl</td>\n      <td>...</td>\n      <td>0</td>\n      <td>0</td>\n      <td>0</td>\n      <td>0</td>\n      <td>2500</td>\n      <td>5</td>\n      <td>2010</td>\n      <td>WD</td>\n      <td>Normal</td>\n      <td>266500</td>\n    </tr>\n    <tr>\n      <th>1459</th>\n      <td>20</td>\n      <td>RL</td>\n      <td>68.0</td>\n      <td>9717</td>\n      <td>Pave</td>\n      <td>Reg</td>\n      <td>Lvl</td>\n      <td>AllPub</td>\n      <td>Inside</td>\n      <td>Gtl</td>\n      <td>...</td>\n      <td>112</td>\n      <td>0</td>\n      <td>0</td>\n      <td>0</td>\n      <td>0</td>\n      <td>4</td>\n      <td>2010</td>\n      <td>WD</td>\n      <td>Normal</td>\n      <td>142125</td>\n    </tr>\n    <tr>\n      <th>1460</th>\n      <td>20</td>\n      <td>RL</td>\n      <td>75.0</td>\n      <td>9937</td>\n      <td>Pave</td>\n      <td>Reg</td>\n      <td>Lvl</td>\n      <td>AllPub</td>\n      <td>Inside</td>\n      <td>Gtl</td>\n      <td>...</td>\n      <td>0</td>\n      <td>0</td>\n      <td>0</td>\n      <td>0</td>\n      <td>0</td>\n      <td>6</td>\n      <td>2008</td>\n      <td>WD</td>\n      <td>Normal</td>\n      <td>147500</td>\n    </tr>\n  </tbody>\n</table>\n<p>1460 rows × 76 columns</p>\n</div>"
     },
     "execution_count": 2,
     "metadata": {},
     "output_type": "execute_result"
    }
   ],
   "source": [
    "data = pd.read_pickle('data.pkl')\n",
    "data"
   ],
   "metadata": {
    "collapsed": false,
    "pycharm": {
     "name": "#%%\n"
    }
   }
  },
  {
   "cell_type": "code",
   "execution_count": 4,
   "outputs": [
    {
     "data": {
      "text/plain": "Index(['MSZoning', 'Street', 'LotShape', 'LandContour', 'Utilities',\n       'LotConfig', 'LandSlope', 'Neighborhood', 'Condition1', 'Condition2',\n       'BldgType', 'HouseStyle', 'RoofStyle', 'RoofMatl', 'Exterior1st',\n       'Exterior2nd', 'MasVnrType', 'ExterQual', 'ExterCond', 'Foundation',\n       'BsmtQual', 'BsmtCond', 'BsmtExposure', 'BsmtFinType1', 'BsmtFinType2',\n       'Heating', 'HeatingQC', 'CentralAir', 'Electrical', 'KitchenQual',\n       'Functional', 'FireplaceQu', 'GarageType', 'GarageFinish', 'GarageQual',\n       'GarageCond', 'PavedDrive', 'SaleType', 'SaleCondition'],\n      dtype='object')"
     },
     "execution_count": 4,
     "metadata": {},
     "output_type": "execute_result"
    }
   ],
   "source": [
    "data.select_dtypes(include=np.object).columns"
   ],
   "metadata": {
    "collapsed": false,
    "pycharm": {
     "name": "#%%\n"
    }
   }
  },
  {
   "cell_type": "code",
   "execution_count": 40,
   "outputs": [
    {
     "data": {
      "text/plain": "['MSZoning',\n 'Electrical',\n 'ExterCond',\n 'GarageCond',\n 'GarageQual',\n 'BldgType',\n 'LotConfig',\n 'HeatingQC',\n 'LotShape',\n 'LandContour',\n 'KitchenQual',\n 'MasVnrType',\n 'ExterQual',\n 'BsmtExposure',\n 'BsmtCond',\n 'BsmtQual',\n 'LandSlope',\n 'GarageFinish',\n 'PavedDrive',\n 'Utilities',\n 'Street',\n 'CentralAir']"
     },
     "execution_count": 40,
     "metadata": {},
     "output_type": "execute_result"
    }
   ],
   "source": [
    "variables = data.select_dtypes(include=np.object).nunique().sort_values(ascending=False)\n",
    "variables = list(variables[variables<=5].index)\n",
    "variables"
   ],
   "metadata": {
    "collapsed": false,
    "pycharm": {
     "name": "#%%\n"
    }
   }
  },
  {
   "cell_type": "code",
   "execution_count": 42,
   "outputs": [
    {
     "data": {
      "text/plain": "{'MSZoning': ['RL', 'RM', 'FV'],\n 'Electrical': ['SBrkr', 'FuseA', 'FuseF'],\n 'ExterCond': ['TA', 'Gd', 'Fa'],\n 'GarageCond': ['TA', 'Fa', 'Gd'],\n 'GarageQual': ['TA', 'Fa', 'Gd'],\n 'BldgType': ['1Fam', 'TwnhsE', 'Duplex'],\n 'LotConfig': ['Inside', 'Corner', 'CulDSac'],\n 'HeatingQC': ['Ex', 'TA', 'Gd'],\n 'LotShape': ['Reg', 'IR1', 'IR2'],\n 'LandContour': ['Lvl', 'Bnk', 'HLS'],\n 'KitchenQual': ['TA', 'Gd', 'Ex'],\n 'MasVnrType': ['None', 'BrkFace', 'Stone'],\n 'ExterQual': ['TA', 'Gd', 'Ex'],\n 'BsmtExposure': ['No', 'Av', 'Gd'],\n 'BsmtCond': ['TA', 'Gd', 'Fa'],\n 'BsmtQual': ['TA', 'Gd', 'Ex'],\n 'LandSlope': ['Gtl', 'Mod', 'Sev'],\n 'GarageFinish': ['Unf', 'RFn', 'Fin'],\n 'PavedDrive': ['Y', 'N', 'P'],\n 'Utilities': ['AllPub', 'NoSeWa'],\n 'Street': ['Pave', 'Grvl'],\n 'CentralAir': ['Y', 'N']}"
     },
     "execution_count": 42,
     "metadata": {},
     "output_type": "execute_result"
    }
   ],
   "source": [
    "encoder = OneHotEncoder(top_categories=3,variables=variables)\n",
    "encoder.fit(data)\n",
    "encoder.encoder_dict_"
   ],
   "metadata": {
    "collapsed": false,
    "pycharm": {
     "name": "#%%\n"
    }
   }
  },
  {
   "cell_type": "code",
   "execution_count": 44,
   "outputs": [
    {
     "data": {
      "text/plain": "      MSSubClass  LotFrontage  LotArea Neighborhood Condition1 Condition2  \\\nId                                                                          \n1             60         65.0     8450      CollgCr       Norm       Norm   \n2             20         80.0     9600      Veenker      Feedr       Norm   \n3             60         68.0    11250      CollgCr       Norm       Norm   \n4             70         60.0     9550      Crawfor       Norm       Norm   \n5             60         84.0    14260      NoRidge       Norm       Norm   \n...          ...          ...      ...          ...        ...        ...   \n1456          60         62.0     7917      Gilbert       Norm       Norm   \n1457          20         85.0    13175       NWAmes       Norm       Norm   \n1458          70         66.0     9042      Crawfor       Norm       Norm   \n1459          20         68.0     9717        NAmes       Norm       Norm   \n1460          20         75.0     9937      Edwards       Norm       Norm   \n\n     HouseStyle  OverallQual  OverallCond  YearBuilt  ...  GarageFinish_Fin  \\\nId                                                    ...                     \n1        2Story            7            5       2003  ...                 0   \n2        1Story            6            8       1976  ...                 0   \n3        2Story            7            5       2001  ...                 0   \n4        2Story            7            5       1915  ...                 0   \n5        2Story            8            5       2000  ...                 0   \n...         ...          ...          ...        ...  ...               ...   \n1456     2Story            6            5       1999  ...                 0   \n1457     1Story            6            6       1978  ...                 0   \n1458     2Story            7            9       1941  ...                 0   \n1459     1Story            5            6       1950  ...                 0   \n1460     1Story            5            6       1965  ...                 1   \n\n     PavedDrive_Y PavedDrive_N PavedDrive_P Utilities_AllPub  \\\nId                                                             \n1               1            0            0                1   \n2               1            0            0                1   \n3               1            0            0                1   \n4               1            0            0                1   \n5               1            0            0                1   \n...           ...          ...          ...              ...   \n1456            1            0            0                1   \n1457            1            0            0                1   \n1458            1            0            0                1   \n1459            1            0            0                1   \n1460            1            0            0                1   \n\n      Utilities_NoSeWa Street_Pave Street_Grvl  CentralAir_Y CentralAir_N  \nId                                                                         \n1                    0           1           0             1            0  \n2                    0           1           0             1            0  \n3                    0           1           0             1            0  \n4                    0           1           0             1            0  \n5                    0           1           0             1            0  \n...                ...         ...         ...           ...          ...  \n1456                 0           1           0             1            0  \n1457                 0           1           0             1            0  \n1458                 0           1           0             1            0  \n1459                 0           1           0             1            0  \n1460                 0           1           0             1            0  \n\n[1460 rows x 117 columns]",
      "text/html": "<div>\n<style scoped>\n    .dataframe tbody tr th:only-of-type {\n        vertical-align: middle;\n    }\n\n    .dataframe tbody tr th {\n        vertical-align: top;\n    }\n\n    .dataframe thead th {\n        text-align: right;\n    }\n</style>\n<table border=\"1\" class=\"dataframe\">\n  <thead>\n    <tr style=\"text-align: right;\">\n      <th></th>\n      <th>MSSubClass</th>\n      <th>LotFrontage</th>\n      <th>LotArea</th>\n      <th>Neighborhood</th>\n      <th>Condition1</th>\n      <th>Condition2</th>\n      <th>HouseStyle</th>\n      <th>OverallQual</th>\n      <th>OverallCond</th>\n      <th>YearBuilt</th>\n      <th>...</th>\n      <th>GarageFinish_Fin</th>\n      <th>PavedDrive_Y</th>\n      <th>PavedDrive_N</th>\n      <th>PavedDrive_P</th>\n      <th>Utilities_AllPub</th>\n      <th>Utilities_NoSeWa</th>\n      <th>Street_Pave</th>\n      <th>Street_Grvl</th>\n      <th>CentralAir_Y</th>\n      <th>CentralAir_N</th>\n    </tr>\n    <tr>\n      <th>Id</th>\n      <th></th>\n      <th></th>\n      <th></th>\n      <th></th>\n      <th></th>\n      <th></th>\n      <th></th>\n      <th></th>\n      <th></th>\n      <th></th>\n      <th></th>\n      <th></th>\n      <th></th>\n      <th></th>\n      <th></th>\n      <th></th>\n      <th></th>\n      <th></th>\n      <th></th>\n      <th></th>\n      <th></th>\n    </tr>\n  </thead>\n  <tbody>\n    <tr>\n      <th>1</th>\n      <td>60</td>\n      <td>65.0</td>\n      <td>8450</td>\n      <td>CollgCr</td>\n      <td>Norm</td>\n      <td>Norm</td>\n      <td>2Story</td>\n      <td>7</td>\n      <td>5</td>\n      <td>2003</td>\n      <td>...</td>\n      <td>0</td>\n      <td>1</td>\n      <td>0</td>\n      <td>0</td>\n      <td>1</td>\n      <td>0</td>\n      <td>1</td>\n      <td>0</td>\n      <td>1</td>\n      <td>0</td>\n    </tr>\n    <tr>\n      <th>2</th>\n      <td>20</td>\n      <td>80.0</td>\n      <td>9600</td>\n      <td>Veenker</td>\n      <td>Feedr</td>\n      <td>Norm</td>\n      <td>1Story</td>\n      <td>6</td>\n      <td>8</td>\n      <td>1976</td>\n      <td>...</td>\n      <td>0</td>\n      <td>1</td>\n      <td>0</td>\n      <td>0</td>\n      <td>1</td>\n      <td>0</td>\n      <td>1</td>\n      <td>0</td>\n      <td>1</td>\n      <td>0</td>\n    </tr>\n    <tr>\n      <th>3</th>\n      <td>60</td>\n      <td>68.0</td>\n      <td>11250</td>\n      <td>CollgCr</td>\n      <td>Norm</td>\n      <td>Norm</td>\n      <td>2Story</td>\n      <td>7</td>\n      <td>5</td>\n      <td>2001</td>\n      <td>...</td>\n      <td>0</td>\n      <td>1</td>\n      <td>0</td>\n      <td>0</td>\n      <td>1</td>\n      <td>0</td>\n      <td>1</td>\n      <td>0</td>\n      <td>1</td>\n      <td>0</td>\n    </tr>\n    <tr>\n      <th>4</th>\n      <td>70</td>\n      <td>60.0</td>\n      <td>9550</td>\n      <td>Crawfor</td>\n      <td>Norm</td>\n      <td>Norm</td>\n      <td>2Story</td>\n      <td>7</td>\n      <td>5</td>\n      <td>1915</td>\n      <td>...</td>\n      <td>0</td>\n      <td>1</td>\n      <td>0</td>\n      <td>0</td>\n      <td>1</td>\n      <td>0</td>\n      <td>1</td>\n      <td>0</td>\n      <td>1</td>\n      <td>0</td>\n    </tr>\n    <tr>\n      <th>5</th>\n      <td>60</td>\n      <td>84.0</td>\n      <td>14260</td>\n      <td>NoRidge</td>\n      <td>Norm</td>\n      <td>Norm</td>\n      <td>2Story</td>\n      <td>8</td>\n      <td>5</td>\n      <td>2000</td>\n      <td>...</td>\n      <td>0</td>\n      <td>1</td>\n      <td>0</td>\n      <td>0</td>\n      <td>1</td>\n      <td>0</td>\n      <td>1</td>\n      <td>0</td>\n      <td>1</td>\n      <td>0</td>\n    </tr>\n    <tr>\n      <th>...</th>\n      <td>...</td>\n      <td>...</td>\n      <td>...</td>\n      <td>...</td>\n      <td>...</td>\n      <td>...</td>\n      <td>...</td>\n      <td>...</td>\n      <td>...</td>\n      <td>...</td>\n      <td>...</td>\n      <td>...</td>\n      <td>...</td>\n      <td>...</td>\n      <td>...</td>\n      <td>...</td>\n      <td>...</td>\n      <td>...</td>\n      <td>...</td>\n      <td>...</td>\n      <td>...</td>\n    </tr>\n    <tr>\n      <th>1456</th>\n      <td>60</td>\n      <td>62.0</td>\n      <td>7917</td>\n      <td>Gilbert</td>\n      <td>Norm</td>\n      <td>Norm</td>\n      <td>2Story</td>\n      <td>6</td>\n      <td>5</td>\n      <td>1999</td>\n      <td>...</td>\n      <td>0</td>\n      <td>1</td>\n      <td>0</td>\n      <td>0</td>\n      <td>1</td>\n      <td>0</td>\n      <td>1</td>\n      <td>0</td>\n      <td>1</td>\n      <td>0</td>\n    </tr>\n    <tr>\n      <th>1457</th>\n      <td>20</td>\n      <td>85.0</td>\n      <td>13175</td>\n      <td>NWAmes</td>\n      <td>Norm</td>\n      <td>Norm</td>\n      <td>1Story</td>\n      <td>6</td>\n      <td>6</td>\n      <td>1978</td>\n      <td>...</td>\n      <td>0</td>\n      <td>1</td>\n      <td>0</td>\n      <td>0</td>\n      <td>1</td>\n      <td>0</td>\n      <td>1</td>\n      <td>0</td>\n      <td>1</td>\n      <td>0</td>\n    </tr>\n    <tr>\n      <th>1458</th>\n      <td>70</td>\n      <td>66.0</td>\n      <td>9042</td>\n      <td>Crawfor</td>\n      <td>Norm</td>\n      <td>Norm</td>\n      <td>2Story</td>\n      <td>7</td>\n      <td>9</td>\n      <td>1941</td>\n      <td>...</td>\n      <td>0</td>\n      <td>1</td>\n      <td>0</td>\n      <td>0</td>\n      <td>1</td>\n      <td>0</td>\n      <td>1</td>\n      <td>0</td>\n      <td>1</td>\n      <td>0</td>\n    </tr>\n    <tr>\n      <th>1459</th>\n      <td>20</td>\n      <td>68.0</td>\n      <td>9717</td>\n      <td>NAmes</td>\n      <td>Norm</td>\n      <td>Norm</td>\n      <td>1Story</td>\n      <td>5</td>\n      <td>6</td>\n      <td>1950</td>\n      <td>...</td>\n      <td>0</td>\n      <td>1</td>\n      <td>0</td>\n      <td>0</td>\n      <td>1</td>\n      <td>0</td>\n      <td>1</td>\n      <td>0</td>\n      <td>1</td>\n      <td>0</td>\n    </tr>\n    <tr>\n      <th>1460</th>\n      <td>20</td>\n      <td>75.0</td>\n      <td>9937</td>\n      <td>Edwards</td>\n      <td>Norm</td>\n      <td>Norm</td>\n      <td>1Story</td>\n      <td>5</td>\n      <td>6</td>\n      <td>1965</td>\n      <td>...</td>\n      <td>1</td>\n      <td>1</td>\n      <td>0</td>\n      <td>0</td>\n      <td>1</td>\n      <td>0</td>\n      <td>1</td>\n      <td>0</td>\n      <td>1</td>\n      <td>0</td>\n    </tr>\n  </tbody>\n</table>\n<p>1460 rows × 117 columns</p>\n</div>"
     },
     "execution_count": 44,
     "metadata": {},
     "output_type": "execute_result"
    }
   ],
   "source": [
    "data_e = encoder.transform(data)\n",
    "data_e"
   ],
   "metadata": {
    "collapsed": false,
    "pycharm": {
     "name": "#%%\n"
    }
   }
  },
  {
   "cell_type": "code",
   "execution_count": null,
   "outputs": [],
   "source": [],
   "metadata": {
    "collapsed": false,
    "pycharm": {
     "name": "#%%\n"
    }
   }
  }
 ],
 "metadata": {
  "kernelspec": {
   "display_name": "Python 3",
   "language": "python",
   "name": "python3"
  },
  "language_info": {
   "codemirror_mode": {
    "name": "ipython",
    "version": 2
   },
   "file_extension": ".py",
   "mimetype": "text/x-python",
   "name": "python",
   "nbconvert_exporter": "python",
   "pygments_lexer": "ipython2",
   "version": "2.7.6"
  }
 },
 "nbformat": 4,
 "nbformat_minor": 0
}