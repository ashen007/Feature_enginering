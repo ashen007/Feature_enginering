{
 "cells": [
  {
   "cell_type": "code",
   "execution_count": 2,
   "metadata": {
    "collapsed": true
   },
   "outputs": [],
   "source": [
    "import numpy as np\n",
    "import pandas as pd\n",
    "import scipy.stats as ss\n",
    "import seaborn as sns\n",
    "import missingno as mn\n",
    "from matplotlib import pyplot\n",
    "from feature_engine import imputation as imp\n",
    "from feature_engine import encoding as enc\n",
    "from feature_engine import transformation as trans"
   ]
  },
  {
   "cell_type": "code",
   "execution_count": 4,
   "outputs": [
    {
     "data": {
      "text/plain": "      MSSubClass MSZoning  LotFrontage  LotArea Street Alley LotShape  \\\nId                                                                      \n1             60       RL         65.0     8450   Pave   NaN      Reg   \n2             20       RL         80.0     9600   Pave   NaN      Reg   \n3             60       RL         68.0    11250   Pave   NaN      IR1   \n4             70       RL         60.0     9550   Pave   NaN      IR1   \n5             60       RL         84.0    14260   Pave   NaN      IR1   \n...          ...      ...          ...      ...    ...   ...      ...   \n1456          60       RL         62.0     7917   Pave   NaN      Reg   \n1457          20       RL         85.0    13175   Pave   NaN      Reg   \n1458          70       RL         66.0     9042   Pave   NaN      Reg   \n1459          20       RL         68.0     9717   Pave   NaN      Reg   \n1460          20       RL         75.0     9937   Pave   NaN      Reg   \n\n     LandContour Utilities LotConfig  ... PoolArea PoolQC  Fence MiscFeature  \\\nId                                    ...                                      \n1            Lvl    AllPub    Inside  ...        0    NaN    NaN         NaN   \n2            Lvl    AllPub       FR2  ...        0    NaN    NaN         NaN   \n3            Lvl    AllPub    Inside  ...        0    NaN    NaN         NaN   \n4            Lvl    AllPub    Corner  ...        0    NaN    NaN         NaN   \n5            Lvl    AllPub       FR2  ...        0    NaN    NaN         NaN   \n...          ...       ...       ...  ...      ...    ...    ...         ...   \n1456         Lvl    AllPub    Inside  ...        0    NaN    NaN         NaN   \n1457         Lvl    AllPub    Inside  ...        0    NaN  MnPrv         NaN   \n1458         Lvl    AllPub    Inside  ...        0    NaN  GdPrv        Shed   \n1459         Lvl    AllPub    Inside  ...        0    NaN    NaN         NaN   \n1460         Lvl    AllPub    Inside  ...        0    NaN    NaN         NaN   \n\n     MiscVal MoSold  YrSold  SaleType  SaleCondition  SalePrice  \nId                                                               \n1          0      2    2008        WD         Normal     208500  \n2          0      5    2007        WD         Normal     181500  \n3          0      9    2008        WD         Normal     223500  \n4          0      2    2006        WD        Abnorml     140000  \n5          0     12    2008        WD         Normal     250000  \n...      ...    ...     ...       ...            ...        ...  \n1456       0      8    2007        WD         Normal     175000  \n1457       0      2    2010        WD         Normal     210000  \n1458    2500      5    2010        WD         Normal     266500  \n1459       0      4    2010        WD         Normal     142125  \n1460       0      6    2008        WD         Normal     147500  \n\n[1460 rows x 80 columns]",
      "text/html": "<div>\n<style scoped>\n    .dataframe tbody tr th:only-of-type {\n        vertical-align: middle;\n    }\n\n    .dataframe tbody tr th {\n        vertical-align: top;\n    }\n\n    .dataframe thead th {\n        text-align: right;\n    }\n</style>\n<table border=\"1\" class=\"dataframe\">\n  <thead>\n    <tr style=\"text-align: right;\">\n      <th></th>\n      <th>MSSubClass</th>\n      <th>MSZoning</th>\n      <th>LotFrontage</th>\n      <th>LotArea</th>\n      <th>Street</th>\n      <th>Alley</th>\n      <th>LotShape</th>\n      <th>LandContour</th>\n      <th>Utilities</th>\n      <th>LotConfig</th>\n      <th>...</th>\n      <th>PoolArea</th>\n      <th>PoolQC</th>\n      <th>Fence</th>\n      <th>MiscFeature</th>\n      <th>MiscVal</th>\n      <th>MoSold</th>\n      <th>YrSold</th>\n      <th>SaleType</th>\n      <th>SaleCondition</th>\n      <th>SalePrice</th>\n    </tr>\n    <tr>\n      <th>Id</th>\n      <th></th>\n      <th></th>\n      <th></th>\n      <th></th>\n      <th></th>\n      <th></th>\n      <th></th>\n      <th></th>\n      <th></th>\n      <th></th>\n      <th></th>\n      <th></th>\n      <th></th>\n      <th></th>\n      <th></th>\n      <th></th>\n      <th></th>\n      <th></th>\n      <th></th>\n      <th></th>\n      <th></th>\n    </tr>\n  </thead>\n  <tbody>\n    <tr>\n      <th>1</th>\n      <td>60</td>\n      <td>RL</td>\n      <td>65.0</td>\n      <td>8450</td>\n      <td>Pave</td>\n      <td>NaN</td>\n      <td>Reg</td>\n      <td>Lvl</td>\n      <td>AllPub</td>\n      <td>Inside</td>\n      <td>...</td>\n      <td>0</td>\n      <td>NaN</td>\n      <td>NaN</td>\n      <td>NaN</td>\n      <td>0</td>\n      <td>2</td>\n      <td>2008</td>\n      <td>WD</td>\n      <td>Normal</td>\n      <td>208500</td>\n    </tr>\n    <tr>\n      <th>2</th>\n      <td>20</td>\n      <td>RL</td>\n      <td>80.0</td>\n      <td>9600</td>\n      <td>Pave</td>\n      <td>NaN</td>\n      <td>Reg</td>\n      <td>Lvl</td>\n      <td>AllPub</td>\n      <td>FR2</td>\n      <td>...</td>\n      <td>0</td>\n      <td>NaN</td>\n      <td>NaN</td>\n      <td>NaN</td>\n      <td>0</td>\n      <td>5</td>\n      <td>2007</td>\n      <td>WD</td>\n      <td>Normal</td>\n      <td>181500</td>\n    </tr>\n    <tr>\n      <th>3</th>\n      <td>60</td>\n      <td>RL</td>\n      <td>68.0</td>\n      <td>11250</td>\n      <td>Pave</td>\n      <td>NaN</td>\n      <td>IR1</td>\n      <td>Lvl</td>\n      <td>AllPub</td>\n      <td>Inside</td>\n      <td>...</td>\n      <td>0</td>\n      <td>NaN</td>\n      <td>NaN</td>\n      <td>NaN</td>\n      <td>0</td>\n      <td>9</td>\n      <td>2008</td>\n      <td>WD</td>\n      <td>Normal</td>\n      <td>223500</td>\n    </tr>\n    <tr>\n      <th>4</th>\n      <td>70</td>\n      <td>RL</td>\n      <td>60.0</td>\n      <td>9550</td>\n      <td>Pave</td>\n      <td>NaN</td>\n      <td>IR1</td>\n      <td>Lvl</td>\n      <td>AllPub</td>\n      <td>Corner</td>\n      <td>...</td>\n      <td>0</td>\n      <td>NaN</td>\n      <td>NaN</td>\n      <td>NaN</td>\n      <td>0</td>\n      <td>2</td>\n      <td>2006</td>\n      <td>WD</td>\n      <td>Abnorml</td>\n      <td>140000</td>\n    </tr>\n    <tr>\n      <th>5</th>\n      <td>60</td>\n      <td>RL</td>\n      <td>84.0</td>\n      <td>14260</td>\n      <td>Pave</td>\n      <td>NaN</td>\n      <td>IR1</td>\n      <td>Lvl</td>\n      <td>AllPub</td>\n      <td>FR2</td>\n      <td>...</td>\n      <td>0</td>\n      <td>NaN</td>\n      <td>NaN</td>\n      <td>NaN</td>\n      <td>0</td>\n      <td>12</td>\n      <td>2008</td>\n      <td>WD</td>\n      <td>Normal</td>\n      <td>250000</td>\n    </tr>\n    <tr>\n      <th>...</th>\n      <td>...</td>\n      <td>...</td>\n      <td>...</td>\n      <td>...</td>\n      <td>...</td>\n      <td>...</td>\n      <td>...</td>\n      <td>...</td>\n      <td>...</td>\n      <td>...</td>\n      <td>...</td>\n      <td>...</td>\n      <td>...</td>\n      <td>...</td>\n      <td>...</td>\n      <td>...</td>\n      <td>...</td>\n      <td>...</td>\n      <td>...</td>\n      <td>...</td>\n      <td>...</td>\n    </tr>\n    <tr>\n      <th>1456</th>\n      <td>60</td>\n      <td>RL</td>\n      <td>62.0</td>\n      <td>7917</td>\n      <td>Pave</td>\n      <td>NaN</td>\n      <td>Reg</td>\n      <td>Lvl</td>\n      <td>AllPub</td>\n      <td>Inside</td>\n      <td>...</td>\n      <td>0</td>\n      <td>NaN</td>\n      <td>NaN</td>\n      <td>NaN</td>\n      <td>0</td>\n      <td>8</td>\n      <td>2007</td>\n      <td>WD</td>\n      <td>Normal</td>\n      <td>175000</td>\n    </tr>\n    <tr>\n      <th>1457</th>\n      <td>20</td>\n      <td>RL</td>\n      <td>85.0</td>\n      <td>13175</td>\n      <td>Pave</td>\n      <td>NaN</td>\n      <td>Reg</td>\n      <td>Lvl</td>\n      <td>AllPub</td>\n      <td>Inside</td>\n      <td>...</td>\n      <td>0</td>\n      <td>NaN</td>\n      <td>MnPrv</td>\n      <td>NaN</td>\n      <td>0</td>\n      <td>2</td>\n      <td>2010</td>\n      <td>WD</td>\n      <td>Normal</td>\n      <td>210000</td>\n    </tr>\n    <tr>\n      <th>1458</th>\n      <td>70</td>\n      <td>RL</td>\n      <td>66.0</td>\n      <td>9042</td>\n      <td>Pave</td>\n      <td>NaN</td>\n      <td>Reg</td>\n      <td>Lvl</td>\n      <td>AllPub</td>\n      <td>Inside</td>\n      <td>...</td>\n      <td>0</td>\n      <td>NaN</td>\n      <td>GdPrv</td>\n      <td>Shed</td>\n      <td>2500</td>\n      <td>5</td>\n      <td>2010</td>\n      <td>WD</td>\n      <td>Normal</td>\n      <td>266500</td>\n    </tr>\n    <tr>\n      <th>1459</th>\n      <td>20</td>\n      <td>RL</td>\n      <td>68.0</td>\n      <td>9717</td>\n      <td>Pave</td>\n      <td>NaN</td>\n      <td>Reg</td>\n      <td>Lvl</td>\n      <td>AllPub</td>\n      <td>Inside</td>\n      <td>...</td>\n      <td>0</td>\n      <td>NaN</td>\n      <td>NaN</td>\n      <td>NaN</td>\n      <td>0</td>\n      <td>4</td>\n      <td>2010</td>\n      <td>WD</td>\n      <td>Normal</td>\n      <td>142125</td>\n    </tr>\n    <tr>\n      <th>1460</th>\n      <td>20</td>\n      <td>RL</td>\n      <td>75.0</td>\n      <td>9937</td>\n      <td>Pave</td>\n      <td>NaN</td>\n      <td>Reg</td>\n      <td>Lvl</td>\n      <td>AllPub</td>\n      <td>Inside</td>\n      <td>...</td>\n      <td>0</td>\n      <td>NaN</td>\n      <td>NaN</td>\n      <td>NaN</td>\n      <td>0</td>\n      <td>6</td>\n      <td>2008</td>\n      <td>WD</td>\n      <td>Normal</td>\n      <td>147500</td>\n    </tr>\n  </tbody>\n</table>\n<p>1460 rows × 80 columns</p>\n</div>"
     },
     "execution_count": 4,
     "metadata": {},
     "output_type": "execute_result"
    }
   ],
   "source": [
    "data_set = pd.read_csv('../../../../../../Machine Learning/case data/hose-price-prediction/train.csv',index_col='Id')\n",
    "data_set"
   ],
   "metadata": {
    "collapsed": false,
    "pycharm": {
     "name": "#%%\n"
    }
   }
  },
  {
   "cell_type": "code",
   "execution_count": 6,
   "outputs": [
    {
     "data": {
      "text/plain": "(Index(['MSSubClass', 'LotFrontage', 'LotArea', 'OverallQual', 'OverallCond',\n        'YearBuilt', 'YearRemodAdd', 'MasVnrArea', 'BsmtFinSF1', 'BsmtFinSF2',\n        'BsmtUnfSF', 'TotalBsmtSF', '1stFlrSF', '2ndFlrSF', 'LowQualFinSF',\n        'GrLivArea', 'BsmtFullBath', 'BsmtHalfBath', 'FullBath', 'HalfBath',\n        'BedroomAbvGr', 'KitchenAbvGr', 'TotRmsAbvGrd', 'Fireplaces',\n        'GarageYrBlt', 'GarageCars', 'GarageArea', 'WoodDeckSF', 'OpenPorchSF',\n        'EnclosedPorch', '3SsnPorch', 'ScreenPorch', 'PoolArea', 'MiscVal',\n        'MoSold', 'YrSold', 'SalePrice'],\n       dtype='object'),\n Index(['MSSubClass', 'LotFrontage', 'LotArea', 'OverallQual', 'OverallCond',\n        'YearBuilt', 'YearRemodAdd', 'MasVnrArea', 'BsmtFinSF1', 'BsmtFinSF2',\n        'BsmtUnfSF', 'TotalBsmtSF', '1stFlrSF', '2ndFlrSF', 'LowQualFinSF',\n        'GrLivArea', 'BsmtFullBath', 'BsmtHalfBath', 'FullBath', 'HalfBath',\n        'BedroomAbvGr', 'KitchenAbvGr', 'TotRmsAbvGrd', 'Fireplaces',\n        'GarageYrBlt', 'GarageCars', 'GarageArea', 'WoodDeckSF', 'OpenPorchSF',\n        'EnclosedPorch', '3SsnPorch', 'ScreenPorch', 'PoolArea', 'MiscVal',\n        'MoSold', 'YrSold', 'SalePrice'],\n       dtype='object'))"
     },
     "execution_count": 6,
     "metadata": {},
     "output_type": "execute_result"
    }
   ],
   "source": [
    "num_features = data_set.select_dtypes(include=np.number)\n",
    "cat_features = data_set.select_dtypes(include=np.object)\n",
    "num_features.columns, num_features.columns"
   ],
   "metadata": {
    "collapsed": false,
    "pycharm": {
     "name": "#%%\n"
    }
   }
  },
  {
   "cell_type": "code",
   "execution_count": 7,
   "outputs": [
    {
     "data": {
      "text/plain": "MSSubClass         int64\nLotFrontage      float64\nLotArea            int64\nOverallQual        int64\nOverallCond        int64\nYearBuilt          int64\nYearRemodAdd       int64\nMasVnrArea       float64\nBsmtFinSF1         int64\nBsmtFinSF2         int64\nBsmtUnfSF          int64\nTotalBsmtSF        int64\n1stFlrSF           int64\n2ndFlrSF           int64\nLowQualFinSF       int64\nGrLivArea          int64\nBsmtFullBath       int64\nBsmtHalfBath       int64\nFullBath           int64\nHalfBath           int64\nBedroomAbvGr       int64\nKitchenAbvGr       int64\nTotRmsAbvGrd       int64\nFireplaces         int64\nGarageYrBlt      float64\nGarageCars         int64\nGarageArea         int64\nWoodDeckSF         int64\nOpenPorchSF        int64\nEnclosedPorch      int64\n3SsnPorch          int64\nScreenPorch        int64\nPoolArea           int64\nMiscVal            int64\nMoSold             int64\nYrSold             int64\nSalePrice          int64\ndtype: object"
     },
     "execution_count": 7,
     "metadata": {},
     "output_type": "execute_result"
    }
   ],
   "source": [
    "num_features.dtypes"
   ],
   "metadata": {
    "collapsed": false,
    "pycharm": {
     "name": "#%%\n"
    }
   }
  },
  {
   "cell_type": "code",
   "execution_count": 8,
   "outputs": [
    {
     "data": {
      "text/plain": "MSZoning         object\nStreet           object\nAlley            object\nLotShape         object\nLandContour      object\nUtilities        object\nLotConfig        object\nLandSlope        object\nNeighborhood     object\nCondition1       object\nCondition2       object\nBldgType         object\nHouseStyle       object\nRoofStyle        object\nRoofMatl         object\nExterior1st      object\nExterior2nd      object\nMasVnrType       object\nExterQual        object\nExterCond        object\nFoundation       object\nBsmtQual         object\nBsmtCond         object\nBsmtExposure     object\nBsmtFinType1     object\nBsmtFinType2     object\nHeating          object\nHeatingQC        object\nCentralAir       object\nElectrical       object\nKitchenQual      object\nFunctional       object\nFireplaceQu      object\nGarageType       object\nGarageFinish     object\nGarageQual       object\nGarageCond       object\nPavedDrive       object\nPoolQC           object\nFence            object\nMiscFeature      object\nSaleType         object\nSaleCondition    object\ndtype: object"
     },
     "execution_count": 8,
     "metadata": {},
     "output_type": "execute_result"
    }
   ],
   "source": [
    "cat_features.dtypes"
   ],
   "metadata": {
    "collapsed": false,
    "pycharm": {
     "name": "#%%\n"
    }
   }
  },
  {
   "cell_type": "code",
   "execution_count": 16,
   "outputs": [
    {
     "data": {
      "text/plain": "Id                 977       201       662       312       518\nMSSubClass        30.0      20.0      60.0      20.0      60.0\nLotFrontage       51.0      80.0      52.0      50.0      79.0\nLotArea         5900.0    8546.0   46589.0    8000.0   10208.0\nOverallQual        4.0       4.0       8.0       6.0       7.0\nOverallCond        7.0       5.0       7.0       6.0       5.0\nYearBuilt       1923.0    2003.0    1994.0    1948.0    1996.0\nYearRemodAdd    1958.0    2004.0    2005.0    2002.0    1997.0\nMasVnrArea         0.0       0.0     528.0       0.0     921.0\nBsmtFinSF1         0.0       0.0    1361.0     680.0       0.0\nBsmtFinSF2         0.0       0.0     180.0       0.0       0.0\nBsmtUnfSF        440.0    1121.0      88.0     292.0    1264.0\nTotalBsmtSF      440.0    1121.0    1629.0     972.0    1264.0\n1stFlrSF         869.0    1121.0    1686.0     972.0    1277.0\n2ndFlrSF           0.0       0.0     762.0       0.0    1067.0\nLowQualFinSF       0.0       0.0       0.0       0.0       0.0\nGrLivArea        869.0    1121.0    2448.0     972.0    2344.0\nBsmtFullBath       0.0       0.0       1.0       1.0       0.0\nBsmtHalfBath       0.0       0.0       0.0       0.0       0.0\nFullBath           1.0       2.0       2.0       1.0       2.0\nHalfBath           0.0       0.0       1.0       0.0       1.0\nBedroomAbvGr       2.0       2.0       4.0       2.0       3.0\nKitchenAbvGr       1.0       1.0       1.0       1.0       1.0\nTotRmsAbvGrd       4.0       5.0       8.0       5.0       7.0\nFireplaces         0.0       0.0       1.0       1.0       1.0\nGarageYrBlt        NaN    2003.0    1994.0    1948.0    1996.0\nGarageCars         0.0       2.0       3.0       1.0       3.0\nGarageArea         0.0     440.0     711.0     240.0     889.0\nWoodDeckSF         0.0     132.0     517.0       0.0     220.0\nOpenPorchSF        0.0      64.0      76.0       0.0       0.0\nEnclosedPorch      0.0       0.0       0.0       0.0       0.0\n3SsnPorch          0.0       0.0       0.0       0.0       0.0\nScreenPorch        0.0       0.0       0.0       0.0       0.0\nPoolArea           0.0       0.0       0.0       0.0       0.0\nMiscVal            0.0       0.0       0.0       0.0       0.0\nMoSold             8.0       3.0       7.0       5.0       7.0\nYrSold          2006.0    2010.0    2009.0    2009.0    2009.0\nSalePrice      85500.0  140000.0  402000.0  132000.0  265000.0",
      "text/html": "<div>\n<style scoped>\n    .dataframe tbody tr th:only-of-type {\n        vertical-align: middle;\n    }\n\n    .dataframe tbody tr th {\n        vertical-align: top;\n    }\n\n    .dataframe thead th {\n        text-align: right;\n    }\n</style>\n<table border=\"1\" class=\"dataframe\">\n  <thead>\n    <tr style=\"text-align: right;\">\n      <th>Id</th>\n      <th>977</th>\n      <th>201</th>\n      <th>662</th>\n      <th>312</th>\n      <th>518</th>\n    </tr>\n  </thead>\n  <tbody>\n    <tr>\n      <th>MSSubClass</th>\n      <td>30.0</td>\n      <td>20.0</td>\n      <td>60.0</td>\n      <td>20.0</td>\n      <td>60.0</td>\n    </tr>\n    <tr>\n      <th>LotFrontage</th>\n      <td>51.0</td>\n      <td>80.0</td>\n      <td>52.0</td>\n      <td>50.0</td>\n      <td>79.0</td>\n    </tr>\n    <tr>\n      <th>LotArea</th>\n      <td>5900.0</td>\n      <td>8546.0</td>\n      <td>46589.0</td>\n      <td>8000.0</td>\n      <td>10208.0</td>\n    </tr>\n    <tr>\n      <th>OverallQual</th>\n      <td>4.0</td>\n      <td>4.0</td>\n      <td>8.0</td>\n      <td>6.0</td>\n      <td>7.0</td>\n    </tr>\n    <tr>\n      <th>OverallCond</th>\n      <td>7.0</td>\n      <td>5.0</td>\n      <td>7.0</td>\n      <td>6.0</td>\n      <td>5.0</td>\n    </tr>\n    <tr>\n      <th>YearBuilt</th>\n      <td>1923.0</td>\n      <td>2003.0</td>\n      <td>1994.0</td>\n      <td>1948.0</td>\n      <td>1996.0</td>\n    </tr>\n    <tr>\n      <th>YearRemodAdd</th>\n      <td>1958.0</td>\n      <td>2004.0</td>\n      <td>2005.0</td>\n      <td>2002.0</td>\n      <td>1997.0</td>\n    </tr>\n    <tr>\n      <th>MasVnrArea</th>\n      <td>0.0</td>\n      <td>0.0</td>\n      <td>528.0</td>\n      <td>0.0</td>\n      <td>921.0</td>\n    </tr>\n    <tr>\n      <th>BsmtFinSF1</th>\n      <td>0.0</td>\n      <td>0.0</td>\n      <td>1361.0</td>\n      <td>680.0</td>\n      <td>0.0</td>\n    </tr>\n    <tr>\n      <th>BsmtFinSF2</th>\n      <td>0.0</td>\n      <td>0.0</td>\n      <td>180.0</td>\n      <td>0.0</td>\n      <td>0.0</td>\n    </tr>\n    <tr>\n      <th>BsmtUnfSF</th>\n      <td>440.0</td>\n      <td>1121.0</td>\n      <td>88.0</td>\n      <td>292.0</td>\n      <td>1264.0</td>\n    </tr>\n    <tr>\n      <th>TotalBsmtSF</th>\n      <td>440.0</td>\n      <td>1121.0</td>\n      <td>1629.0</td>\n      <td>972.0</td>\n      <td>1264.0</td>\n    </tr>\n    <tr>\n      <th>1stFlrSF</th>\n      <td>869.0</td>\n      <td>1121.0</td>\n      <td>1686.0</td>\n      <td>972.0</td>\n      <td>1277.0</td>\n    </tr>\n    <tr>\n      <th>2ndFlrSF</th>\n      <td>0.0</td>\n      <td>0.0</td>\n      <td>762.0</td>\n      <td>0.0</td>\n      <td>1067.0</td>\n    </tr>\n    <tr>\n      <th>LowQualFinSF</th>\n      <td>0.0</td>\n      <td>0.0</td>\n      <td>0.0</td>\n      <td>0.0</td>\n      <td>0.0</td>\n    </tr>\n    <tr>\n      <th>GrLivArea</th>\n      <td>869.0</td>\n      <td>1121.0</td>\n      <td>2448.0</td>\n      <td>972.0</td>\n      <td>2344.0</td>\n    </tr>\n    <tr>\n      <th>BsmtFullBath</th>\n      <td>0.0</td>\n      <td>0.0</td>\n      <td>1.0</td>\n      <td>1.0</td>\n      <td>0.0</td>\n    </tr>\n    <tr>\n      <th>BsmtHalfBath</th>\n      <td>0.0</td>\n      <td>0.0</td>\n      <td>0.0</td>\n      <td>0.0</td>\n      <td>0.0</td>\n    </tr>\n    <tr>\n      <th>FullBath</th>\n      <td>1.0</td>\n      <td>2.0</td>\n      <td>2.0</td>\n      <td>1.0</td>\n      <td>2.0</td>\n    </tr>\n    <tr>\n      <th>HalfBath</th>\n      <td>0.0</td>\n      <td>0.0</td>\n      <td>1.0</td>\n      <td>0.0</td>\n      <td>1.0</td>\n    </tr>\n    <tr>\n      <th>BedroomAbvGr</th>\n      <td>2.0</td>\n      <td>2.0</td>\n      <td>4.0</td>\n      <td>2.0</td>\n      <td>3.0</td>\n    </tr>\n    <tr>\n      <th>KitchenAbvGr</th>\n      <td>1.0</td>\n      <td>1.0</td>\n      <td>1.0</td>\n      <td>1.0</td>\n      <td>1.0</td>\n    </tr>\n    <tr>\n      <th>TotRmsAbvGrd</th>\n      <td>4.0</td>\n      <td>5.0</td>\n      <td>8.0</td>\n      <td>5.0</td>\n      <td>7.0</td>\n    </tr>\n    <tr>\n      <th>Fireplaces</th>\n      <td>0.0</td>\n      <td>0.0</td>\n      <td>1.0</td>\n      <td>1.0</td>\n      <td>1.0</td>\n    </tr>\n    <tr>\n      <th>GarageYrBlt</th>\n      <td>NaN</td>\n      <td>2003.0</td>\n      <td>1994.0</td>\n      <td>1948.0</td>\n      <td>1996.0</td>\n    </tr>\n    <tr>\n      <th>GarageCars</th>\n      <td>0.0</td>\n      <td>2.0</td>\n      <td>3.0</td>\n      <td>1.0</td>\n      <td>3.0</td>\n    </tr>\n    <tr>\n      <th>GarageArea</th>\n      <td>0.0</td>\n      <td>440.0</td>\n      <td>711.0</td>\n      <td>240.0</td>\n      <td>889.0</td>\n    </tr>\n    <tr>\n      <th>WoodDeckSF</th>\n      <td>0.0</td>\n      <td>132.0</td>\n      <td>517.0</td>\n      <td>0.0</td>\n      <td>220.0</td>\n    </tr>\n    <tr>\n      <th>OpenPorchSF</th>\n      <td>0.0</td>\n      <td>64.0</td>\n      <td>76.0</td>\n      <td>0.0</td>\n      <td>0.0</td>\n    </tr>\n    <tr>\n      <th>EnclosedPorch</th>\n      <td>0.0</td>\n      <td>0.0</td>\n      <td>0.0</td>\n      <td>0.0</td>\n      <td>0.0</td>\n    </tr>\n    <tr>\n      <th>3SsnPorch</th>\n      <td>0.0</td>\n      <td>0.0</td>\n      <td>0.0</td>\n      <td>0.0</td>\n      <td>0.0</td>\n    </tr>\n    <tr>\n      <th>ScreenPorch</th>\n      <td>0.0</td>\n      <td>0.0</td>\n      <td>0.0</td>\n      <td>0.0</td>\n      <td>0.0</td>\n    </tr>\n    <tr>\n      <th>PoolArea</th>\n      <td>0.0</td>\n      <td>0.0</td>\n      <td>0.0</td>\n      <td>0.0</td>\n      <td>0.0</td>\n    </tr>\n    <tr>\n      <th>MiscVal</th>\n      <td>0.0</td>\n      <td>0.0</td>\n      <td>0.0</td>\n      <td>0.0</td>\n      <td>0.0</td>\n    </tr>\n    <tr>\n      <th>MoSold</th>\n      <td>8.0</td>\n      <td>3.0</td>\n      <td>7.0</td>\n      <td>5.0</td>\n      <td>7.0</td>\n    </tr>\n    <tr>\n      <th>YrSold</th>\n      <td>2006.0</td>\n      <td>2010.0</td>\n      <td>2009.0</td>\n      <td>2009.0</td>\n      <td>2009.0</td>\n    </tr>\n    <tr>\n      <th>SalePrice</th>\n      <td>85500.0</td>\n      <td>140000.0</td>\n      <td>402000.0</td>\n      <td>132000.0</td>\n      <td>265000.0</td>\n    </tr>\n  </tbody>\n</table>\n</div>"
     },
     "execution_count": 16,
     "metadata": {},
     "output_type": "execute_result"
    }
   ],
   "source": [
    "num_features.sample(5).T"
   ],
   "metadata": {
    "collapsed": false,
    "pycharm": {
     "name": "#%%\n"
    }
   }
  },
  {
   "cell_type": "code",
   "execution_count": 18,
   "outputs": [
    {
     "data": {
      "text/plain": "Id                532      692      679      1413     508 \nMSZoning            RM       RL       RL       RL       FV\nStreet            Pave     Pave     Pave     Pave     Pave\nAlley              NaN      NaN      NaN      NaN      NaN\nLotShape           IR1      IR1      IR1      Reg      IR1\nLandContour        Lvl      Lvl      Lvl      Lvl      Lvl\nUtilities       AllPub   AllPub   AllPub   AllPub   AllPub\nLotConfig          FR3   Corner   Inside   Inside   Inside\nLandSlope          Gtl      Gtl      Gtl      Gtl      Gtl\nNeighborhood   BrkSide  NoRidge  StoneBr    NAmes  Somerst\nCondition1        RRNn     Norm     Norm     Norm     Norm\nCondition2       Feedr     Norm     Norm     Norm     Norm\nBldgType          1Fam     1Fam     1Fam   Duplex     1Fam\nHouseStyle      2Story   2Story   1Story   1Story   1Story\nRoofStyle        Gable    Gable      Hip    Gable    Gable\nRoofMatl       CompShg  WdShngl  CompShg  CompShg  CompShg\nExterior1st    Wd Sdng  HdBoard  VinylSd  BrkFace  VinylSd\nExterior2nd    Wd Sdng  HdBoard  VinylSd    Stone  VinylSd\nMasVnrType        None  BrkFace    Stone     None     None\nExterQual           TA       Ex       Gd       TA       Gd\nExterCond           TA       TA       TA       TA       TA\nFoundation      BrkTil    PConc    PConc     Slab    PConc\nBsmtQual            Fa       Ex       Ex      NaN       Gd\nBsmtCond            Fa       TA       TA      NaN       TA\nBsmtExposure        Mn       Gd       Mn      NaN       No\nBsmtFinType1       Unf      GLQ      Unf      NaN      GLQ\nBsmtFinType2       Unf      Unf      Unf      NaN      Unf\nHeating           GasA     GasA     GasA     Wall     GasA\nHeatingQC           Ex       Ex       Ex       Fa       Ex\nCentralAir           Y        Y        Y        N        Y\nElectrical       SBrkr    SBrkr    SBrkr    FuseF    SBrkr\nKitchenQual         TA       Ex       Gd       TA       Gd\nFunctional         Typ      Typ      Typ      Typ      Typ\nFireplaceQu        NaN       Ex       Gd      NaN      NaN\nGarageType      Detchd   Attchd   Attchd   Detchd   Attchd\nGarageFinish       Fin      Fin      Fin      Unf      Fin\nGarageQual          TA       TA       TA       TA       TA\nGarageCond          Fa       TA       TA       TA       TA\nPavedDrive           Y        Y        Y        Y        Y\nPoolQC             NaN      NaN      NaN      NaN      NaN\nFence              NaN      NaN      NaN      NaN      NaN\nMiscFeature        NaN      NaN      NaN      NaN      NaN\nSaleType            WD       WD      New       WD      New\nSaleCondition   Normal   Normal  Partial   Normal  Partial",
      "text/html": "<div>\n<style scoped>\n    .dataframe tbody tr th:only-of-type {\n        vertical-align: middle;\n    }\n\n    .dataframe tbody tr th {\n        vertical-align: top;\n    }\n\n    .dataframe thead th {\n        text-align: right;\n    }\n</style>\n<table border=\"1\" class=\"dataframe\">\n  <thead>\n    <tr style=\"text-align: right;\">\n      <th>Id</th>\n      <th>532</th>\n      <th>692</th>\n      <th>679</th>\n      <th>1413</th>\n      <th>508</th>\n    </tr>\n  </thead>\n  <tbody>\n    <tr>\n      <th>MSZoning</th>\n      <td>RM</td>\n      <td>RL</td>\n      <td>RL</td>\n      <td>RL</td>\n      <td>FV</td>\n    </tr>\n    <tr>\n      <th>Street</th>\n      <td>Pave</td>\n      <td>Pave</td>\n      <td>Pave</td>\n      <td>Pave</td>\n      <td>Pave</td>\n    </tr>\n    <tr>\n      <th>Alley</th>\n      <td>NaN</td>\n      <td>NaN</td>\n      <td>NaN</td>\n      <td>NaN</td>\n      <td>NaN</td>\n    </tr>\n    <tr>\n      <th>LotShape</th>\n      <td>IR1</td>\n      <td>IR1</td>\n      <td>IR1</td>\n      <td>Reg</td>\n      <td>IR1</td>\n    </tr>\n    <tr>\n      <th>LandContour</th>\n      <td>Lvl</td>\n      <td>Lvl</td>\n      <td>Lvl</td>\n      <td>Lvl</td>\n      <td>Lvl</td>\n    </tr>\n    <tr>\n      <th>Utilities</th>\n      <td>AllPub</td>\n      <td>AllPub</td>\n      <td>AllPub</td>\n      <td>AllPub</td>\n      <td>AllPub</td>\n    </tr>\n    <tr>\n      <th>LotConfig</th>\n      <td>FR3</td>\n      <td>Corner</td>\n      <td>Inside</td>\n      <td>Inside</td>\n      <td>Inside</td>\n    </tr>\n    <tr>\n      <th>LandSlope</th>\n      <td>Gtl</td>\n      <td>Gtl</td>\n      <td>Gtl</td>\n      <td>Gtl</td>\n      <td>Gtl</td>\n    </tr>\n    <tr>\n      <th>Neighborhood</th>\n      <td>BrkSide</td>\n      <td>NoRidge</td>\n      <td>StoneBr</td>\n      <td>NAmes</td>\n      <td>Somerst</td>\n    </tr>\n    <tr>\n      <th>Condition1</th>\n      <td>RRNn</td>\n      <td>Norm</td>\n      <td>Norm</td>\n      <td>Norm</td>\n      <td>Norm</td>\n    </tr>\n    <tr>\n      <th>Condition2</th>\n      <td>Feedr</td>\n      <td>Norm</td>\n      <td>Norm</td>\n      <td>Norm</td>\n      <td>Norm</td>\n    </tr>\n    <tr>\n      <th>BldgType</th>\n      <td>1Fam</td>\n      <td>1Fam</td>\n      <td>1Fam</td>\n      <td>Duplex</td>\n      <td>1Fam</td>\n    </tr>\n    <tr>\n      <th>HouseStyle</th>\n      <td>2Story</td>\n      <td>2Story</td>\n      <td>1Story</td>\n      <td>1Story</td>\n      <td>1Story</td>\n    </tr>\n    <tr>\n      <th>RoofStyle</th>\n      <td>Gable</td>\n      <td>Gable</td>\n      <td>Hip</td>\n      <td>Gable</td>\n      <td>Gable</td>\n    </tr>\n    <tr>\n      <th>RoofMatl</th>\n      <td>CompShg</td>\n      <td>WdShngl</td>\n      <td>CompShg</td>\n      <td>CompShg</td>\n      <td>CompShg</td>\n    </tr>\n    <tr>\n      <th>Exterior1st</th>\n      <td>Wd Sdng</td>\n      <td>HdBoard</td>\n      <td>VinylSd</td>\n      <td>BrkFace</td>\n      <td>VinylSd</td>\n    </tr>\n    <tr>\n      <th>Exterior2nd</th>\n      <td>Wd Sdng</td>\n      <td>HdBoard</td>\n      <td>VinylSd</td>\n      <td>Stone</td>\n      <td>VinylSd</td>\n    </tr>\n    <tr>\n      <th>MasVnrType</th>\n      <td>None</td>\n      <td>BrkFace</td>\n      <td>Stone</td>\n      <td>None</td>\n      <td>None</td>\n    </tr>\n    <tr>\n      <th>ExterQual</th>\n      <td>TA</td>\n      <td>Ex</td>\n      <td>Gd</td>\n      <td>TA</td>\n      <td>Gd</td>\n    </tr>\n    <tr>\n      <th>ExterCond</th>\n      <td>TA</td>\n      <td>TA</td>\n      <td>TA</td>\n      <td>TA</td>\n      <td>TA</td>\n    </tr>\n    <tr>\n      <th>Foundation</th>\n      <td>BrkTil</td>\n      <td>PConc</td>\n      <td>PConc</td>\n      <td>Slab</td>\n      <td>PConc</td>\n    </tr>\n    <tr>\n      <th>BsmtQual</th>\n      <td>Fa</td>\n      <td>Ex</td>\n      <td>Ex</td>\n      <td>NaN</td>\n      <td>Gd</td>\n    </tr>\n    <tr>\n      <th>BsmtCond</th>\n      <td>Fa</td>\n      <td>TA</td>\n      <td>TA</td>\n      <td>NaN</td>\n      <td>TA</td>\n    </tr>\n    <tr>\n      <th>BsmtExposure</th>\n      <td>Mn</td>\n      <td>Gd</td>\n      <td>Mn</td>\n      <td>NaN</td>\n      <td>No</td>\n    </tr>\n    <tr>\n      <th>BsmtFinType1</th>\n      <td>Unf</td>\n      <td>GLQ</td>\n      <td>Unf</td>\n      <td>NaN</td>\n      <td>GLQ</td>\n    </tr>\n    <tr>\n      <th>BsmtFinType2</th>\n      <td>Unf</td>\n      <td>Unf</td>\n      <td>Unf</td>\n      <td>NaN</td>\n      <td>Unf</td>\n    </tr>\n    <tr>\n      <th>Heating</th>\n      <td>GasA</td>\n      <td>GasA</td>\n      <td>GasA</td>\n      <td>Wall</td>\n      <td>GasA</td>\n    </tr>\n    <tr>\n      <th>HeatingQC</th>\n      <td>Ex</td>\n      <td>Ex</td>\n      <td>Ex</td>\n      <td>Fa</td>\n      <td>Ex</td>\n    </tr>\n    <tr>\n      <th>CentralAir</th>\n      <td>Y</td>\n      <td>Y</td>\n      <td>Y</td>\n      <td>N</td>\n      <td>Y</td>\n    </tr>\n    <tr>\n      <th>Electrical</th>\n      <td>SBrkr</td>\n      <td>SBrkr</td>\n      <td>SBrkr</td>\n      <td>FuseF</td>\n      <td>SBrkr</td>\n    </tr>\n    <tr>\n      <th>KitchenQual</th>\n      <td>TA</td>\n      <td>Ex</td>\n      <td>Gd</td>\n      <td>TA</td>\n      <td>Gd</td>\n    </tr>\n    <tr>\n      <th>Functional</th>\n      <td>Typ</td>\n      <td>Typ</td>\n      <td>Typ</td>\n      <td>Typ</td>\n      <td>Typ</td>\n    </tr>\n    <tr>\n      <th>FireplaceQu</th>\n      <td>NaN</td>\n      <td>Ex</td>\n      <td>Gd</td>\n      <td>NaN</td>\n      <td>NaN</td>\n    </tr>\n    <tr>\n      <th>GarageType</th>\n      <td>Detchd</td>\n      <td>Attchd</td>\n      <td>Attchd</td>\n      <td>Detchd</td>\n      <td>Attchd</td>\n    </tr>\n    <tr>\n      <th>GarageFinish</th>\n      <td>Fin</td>\n      <td>Fin</td>\n      <td>Fin</td>\n      <td>Unf</td>\n      <td>Fin</td>\n    </tr>\n    <tr>\n      <th>GarageQual</th>\n      <td>TA</td>\n      <td>TA</td>\n      <td>TA</td>\n      <td>TA</td>\n      <td>TA</td>\n    </tr>\n    <tr>\n      <th>GarageCond</th>\n      <td>Fa</td>\n      <td>TA</td>\n      <td>TA</td>\n      <td>TA</td>\n      <td>TA</td>\n    </tr>\n    <tr>\n      <th>PavedDrive</th>\n      <td>Y</td>\n      <td>Y</td>\n      <td>Y</td>\n      <td>Y</td>\n      <td>Y</td>\n    </tr>\n    <tr>\n      <th>PoolQC</th>\n      <td>NaN</td>\n      <td>NaN</td>\n      <td>NaN</td>\n      <td>NaN</td>\n      <td>NaN</td>\n    </tr>\n    <tr>\n      <th>Fence</th>\n      <td>NaN</td>\n      <td>NaN</td>\n      <td>NaN</td>\n      <td>NaN</td>\n      <td>NaN</td>\n    </tr>\n    <tr>\n      <th>MiscFeature</th>\n      <td>NaN</td>\n      <td>NaN</td>\n      <td>NaN</td>\n      <td>NaN</td>\n      <td>NaN</td>\n    </tr>\n    <tr>\n      <th>SaleType</th>\n      <td>WD</td>\n      <td>WD</td>\n      <td>New</td>\n      <td>WD</td>\n      <td>New</td>\n    </tr>\n    <tr>\n      <th>SaleCondition</th>\n      <td>Normal</td>\n      <td>Normal</td>\n      <td>Partial</td>\n      <td>Normal</td>\n      <td>Partial</td>\n    </tr>\n  </tbody>\n</table>\n</div>"
     },
     "execution_count": 18,
     "metadata": {},
     "output_type": "execute_result"
    }
   ],
   "source": [
    "cat_features.sample(5).T"
   ],
   "metadata": {
    "collapsed": false,
    "pycharm": {
     "name": "#%%\n"
    }
   }
  },
  {
   "cell_type": "markdown",
   "source": [
    "GarageYrBlt should be a integer type column\n"
   ],
   "metadata": {
    "collapsed": false,
    "pycharm": {
     "name": "#%% md\n"
    }
   }
  }
 ],
 "metadata": {
  "kernelspec": {
   "display_name": "Python 3",
   "language": "python",
   "name": "python3"
  },
  "language_info": {
   "codemirror_mode": {
    "name": "ipython",
    "version": 2
   },
   "file_extension": ".py",
   "mimetype": "text/x-python",
   "name": "python",
   "nbconvert_exporter": "python",
   "pygments_lexer": "ipython2",
   "version": "2.7.6"
  }
 },
 "nbformat": 4,
 "nbformat_minor": 0
}