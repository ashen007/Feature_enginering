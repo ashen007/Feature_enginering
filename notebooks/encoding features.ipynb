{
 "cells": [
  {
   "cell_type": "code",
   "execution_count": 37,
   "metadata": {
    "collapsed": true
   },
   "outputs": [],
   "source": [
    "import numpy as np\n",
    "import pandas as pd\n",
    "import scipy.stats as ss\n",
    "import category_encoders as ce\n",
    "from sklearn.impute import SimpleImputer\n",
    "from feature_engine.imputation import MeanMedianImputer\n",
    "from sklearn.experimental import enable_iterative_imputer"
   ]
  },
  {
   "cell_type": "code",
   "execution_count": 3,
   "outputs": [
    {
     "data": {
      "text/plain": "  A1     A2     A3 A4 A5 A6 A7    A8 A9 A10  A11 A12 A13    A14  A15 A16\n0  b  30.83  0.000  u  g  w  v  1.25  t   t    1   f   g  00202    0   +\n1  a  58.67  4.460  u  g  q  h  3.04  t   t    6   f   g  00043  560   +\n2  a  24.50  0.500  u  g  q  h  1.50  t   f    0   f   g  00280  824   +\n3  b  27.83  1.540  u  g  w  v  3.75  t   t    5   t   g  00100    3   +\n4  b  20.17  5.625  u  g  w  v  1.71  t   f    0   f   s  00120    0   +",
      "text/html": "<div>\n<style scoped>\n    .dataframe tbody tr th:only-of-type {\n        vertical-align: middle;\n    }\n\n    .dataframe tbody tr th {\n        vertical-align: top;\n    }\n\n    .dataframe thead th {\n        text-align: right;\n    }\n</style>\n<table border=\"1\" class=\"dataframe\">\n  <thead>\n    <tr style=\"text-align: right;\">\n      <th></th>\n      <th>A1</th>\n      <th>A2</th>\n      <th>A3</th>\n      <th>A4</th>\n      <th>A5</th>\n      <th>A6</th>\n      <th>A7</th>\n      <th>A8</th>\n      <th>A9</th>\n      <th>A10</th>\n      <th>A11</th>\n      <th>A12</th>\n      <th>A13</th>\n      <th>A14</th>\n      <th>A15</th>\n      <th>A16</th>\n    </tr>\n  </thead>\n  <tbody>\n    <tr>\n      <th>0</th>\n      <td>b</td>\n      <td>30.83</td>\n      <td>0.000</td>\n      <td>u</td>\n      <td>g</td>\n      <td>w</td>\n      <td>v</td>\n      <td>1.25</td>\n      <td>t</td>\n      <td>t</td>\n      <td>1</td>\n      <td>f</td>\n      <td>g</td>\n      <td>00202</td>\n      <td>0</td>\n      <td>+</td>\n    </tr>\n    <tr>\n      <th>1</th>\n      <td>a</td>\n      <td>58.67</td>\n      <td>4.460</td>\n      <td>u</td>\n      <td>g</td>\n      <td>q</td>\n      <td>h</td>\n      <td>3.04</td>\n      <td>t</td>\n      <td>t</td>\n      <td>6</td>\n      <td>f</td>\n      <td>g</td>\n      <td>00043</td>\n      <td>560</td>\n      <td>+</td>\n    </tr>\n    <tr>\n      <th>2</th>\n      <td>a</td>\n      <td>24.50</td>\n      <td>0.500</td>\n      <td>u</td>\n      <td>g</td>\n      <td>q</td>\n      <td>h</td>\n      <td>1.50</td>\n      <td>t</td>\n      <td>f</td>\n      <td>0</td>\n      <td>f</td>\n      <td>g</td>\n      <td>00280</td>\n      <td>824</td>\n      <td>+</td>\n    </tr>\n    <tr>\n      <th>3</th>\n      <td>b</td>\n      <td>27.83</td>\n      <td>1.540</td>\n      <td>u</td>\n      <td>g</td>\n      <td>w</td>\n      <td>v</td>\n      <td>3.75</td>\n      <td>t</td>\n      <td>t</td>\n      <td>5</td>\n      <td>t</td>\n      <td>g</td>\n      <td>00100</td>\n      <td>3</td>\n      <td>+</td>\n    </tr>\n    <tr>\n      <th>4</th>\n      <td>b</td>\n      <td>20.17</td>\n      <td>5.625</td>\n      <td>u</td>\n      <td>g</td>\n      <td>w</td>\n      <td>v</td>\n      <td>1.71</td>\n      <td>t</td>\n      <td>f</td>\n      <td>0</td>\n      <td>f</td>\n      <td>s</td>\n      <td>00120</td>\n      <td>0</td>\n      <td>+</td>\n    </tr>\n  </tbody>\n</table>\n</div>"
     },
     "execution_count": 3,
     "metadata": {},
     "output_type": "execute_result"
    }
   ],
   "source": [
    "columns = [f'A{i}' for i in range(1,17)]\n",
    "data = pd.read_csv('../data/credit_approvel/crx.data',names=columns)\n",
    "data.head(5)"
   ],
   "metadata": {
    "collapsed": false,
    "pycharm": {
     "name": "#%%\n"
    }
   }
  },
  {
   "cell_type": "code",
   "execution_count": 4,
   "outputs": [
    {
     "data": {
      "text/plain": "A1     0.0\nA2     0.0\nA3     0.0\nA4     0.0\nA5     0.0\nA6     0.0\nA7     0.0\nA8     0.0\nA9     0.0\nA10    0.0\nA11    0.0\nA12    0.0\nA13    0.0\nA14    0.0\nA15    0.0\nA16    0.0\ndtype: float64"
     },
     "execution_count": 4,
     "metadata": {},
     "output_type": "execute_result"
    }
   ],
   "source": [
    "data.isna().mean()"
   ],
   "metadata": {
    "collapsed": false,
    "pycharm": {
     "name": "#%%\n"
    }
   }
  },
  {
   "cell_type": "code",
   "execution_count": 21,
   "outputs": [
    {
     "data": {
      "text/plain": "A1     12\nA2     12\nA3      0\nA4      6\nA5      6\nA6      9\nA7      9\nA8      0\nA9      0\nA10     0\nA11     0\nA12     0\nA13     0\nA14    13\nA15     0\nA16     0\ndtype: int64"
     },
     "execution_count": 21,
     "metadata": {},
     "output_type": "execute_result"
    }
   ],
   "source": [
    "masked = data == '?'\n",
    "masked.sum()"
   ],
   "metadata": {
    "collapsed": false,
    "pycharm": {
     "name": "#%%\n"
    }
   }
  },
  {
   "cell_type": "code",
   "execution_count": 22,
   "outputs": [
    {
     "data": {
      "text/plain": "A1     0.017391\nA2     0.017391\nA3     0.000000\nA4     0.008696\nA5     0.008696\nA6     0.013043\nA7     0.013043\nA8     0.000000\nA9     0.000000\nA10    0.000000\nA11    0.000000\nA12    0.000000\nA13    0.000000\nA14    0.018841\nA15    0.000000\nA16    0.000000\ndtype: float64"
     },
     "execution_count": 22,
     "metadata": {},
     "output_type": "execute_result"
    }
   ],
   "source": [
    "data.replace(to_replace='?',value=np.nan,inplace=True)\n",
    "data.isna().mean()"
   ],
   "metadata": {
    "collapsed": false,
    "pycharm": {
     "name": "#%%\n"
    }
   }
  },
  {
   "cell_type": "code",
   "execution_count": 5,
   "outputs": [
    {
     "data": {
      "text/plain": "A1      object\nA2      object\nA3     float64\nA4      object\nA5      object\nA6      object\nA7      object\nA8     float64\nA9      object\nA10     object\nA11      int64\nA12     object\nA13     object\nA14     object\nA15      int64\nA16     object\ndtype: object"
     },
     "execution_count": 5,
     "metadata": {},
     "output_type": "execute_result"
    }
   ],
   "source": [
    "data.dtypes"
   ],
   "metadata": {
    "collapsed": false,
    "pycharm": {
     "name": "#%%\n"
    }
   }
  },
  {
   "cell_type": "code",
   "execution_count": 24,
   "outputs": [
    {
     "data": {
      "text/plain": "((690, 4), (690, 12))"
     },
     "execution_count": 24,
     "metadata": {},
     "output_type": "execute_result"
    }
   ],
   "source": [
    "numeric_features = data.select_dtypes(include=np.number)\n",
    "categorical_feature = data.select_dtypes(include=np.object)\n",
    "\n",
    "numeric_features.shape, categorical_feature.shape"
   ],
   "metadata": {
    "collapsed": false,
    "pycharm": {
     "name": "#%%\n"
    }
   }
  },
  {
   "cell_type": "code",
   "execution_count": 25,
   "outputs": [
    {
     "data": {
      "text/plain": "      A3    A8  A11  A15\n0  0.000  1.25    1    0\n1  4.460  3.04    6  560\n2  0.500  1.50    0  824\n3  1.540  3.75    5    3\n4  5.625  1.71    0    0",
      "text/html": "<div>\n<style scoped>\n    .dataframe tbody tr th:only-of-type {\n        vertical-align: middle;\n    }\n\n    .dataframe tbody tr th {\n        vertical-align: top;\n    }\n\n    .dataframe thead th {\n        text-align: right;\n    }\n</style>\n<table border=\"1\" class=\"dataframe\">\n  <thead>\n    <tr style=\"text-align: right;\">\n      <th></th>\n      <th>A3</th>\n      <th>A8</th>\n      <th>A11</th>\n      <th>A15</th>\n    </tr>\n  </thead>\n  <tbody>\n    <tr>\n      <th>0</th>\n      <td>0.000</td>\n      <td>1.25</td>\n      <td>1</td>\n      <td>0</td>\n    </tr>\n    <tr>\n      <th>1</th>\n      <td>4.460</td>\n      <td>3.04</td>\n      <td>6</td>\n      <td>560</td>\n    </tr>\n    <tr>\n      <th>2</th>\n      <td>0.500</td>\n      <td>1.50</td>\n      <td>0</td>\n      <td>824</td>\n    </tr>\n    <tr>\n      <th>3</th>\n      <td>1.540</td>\n      <td>3.75</td>\n      <td>5</td>\n      <td>3</td>\n    </tr>\n    <tr>\n      <th>4</th>\n      <td>5.625</td>\n      <td>1.71</td>\n      <td>0</td>\n      <td>0</td>\n    </tr>\n  </tbody>\n</table>\n</div>"
     },
     "execution_count": 25,
     "metadata": {},
     "output_type": "execute_result"
    }
   ],
   "source": [
    "numeric_features.head(5)"
   ],
   "metadata": {
    "collapsed": false,
    "pycharm": {
     "name": "#%%\n"
    }
   }
  },
  {
   "cell_type": "code",
   "execution_count": 26,
   "outputs": [
    {
     "data": {
      "text/plain": "     count         mean          std  min    25%   50%       75%       max\nA3   690.0     4.758725     4.978163  0.0  1.000  2.75    7.2075      28.0\nA8   690.0     2.223406     3.346513  0.0  0.165  1.00    2.6250      28.5\nA11  690.0     2.400000     4.862940  0.0  0.000  0.00    3.0000      67.0\nA15  690.0  1017.385507  5210.102598  0.0  0.000  5.00  395.5000  100000.0",
      "text/html": "<div>\n<style scoped>\n    .dataframe tbody tr th:only-of-type {\n        vertical-align: middle;\n    }\n\n    .dataframe tbody tr th {\n        vertical-align: top;\n    }\n\n    .dataframe thead th {\n        text-align: right;\n    }\n</style>\n<table border=\"1\" class=\"dataframe\">\n  <thead>\n    <tr style=\"text-align: right;\">\n      <th></th>\n      <th>count</th>\n      <th>mean</th>\n      <th>std</th>\n      <th>min</th>\n      <th>25%</th>\n      <th>50%</th>\n      <th>75%</th>\n      <th>max</th>\n    </tr>\n  </thead>\n  <tbody>\n    <tr>\n      <th>A3</th>\n      <td>690.0</td>\n      <td>4.758725</td>\n      <td>4.978163</td>\n      <td>0.0</td>\n      <td>1.000</td>\n      <td>2.75</td>\n      <td>7.2075</td>\n      <td>28.0</td>\n    </tr>\n    <tr>\n      <th>A8</th>\n      <td>690.0</td>\n      <td>2.223406</td>\n      <td>3.346513</td>\n      <td>0.0</td>\n      <td>0.165</td>\n      <td>1.00</td>\n      <td>2.6250</td>\n      <td>28.5</td>\n    </tr>\n    <tr>\n      <th>A11</th>\n      <td>690.0</td>\n      <td>2.400000</td>\n      <td>4.862940</td>\n      <td>0.0</td>\n      <td>0.000</td>\n      <td>0.00</td>\n      <td>3.0000</td>\n      <td>67.0</td>\n    </tr>\n    <tr>\n      <th>A15</th>\n      <td>690.0</td>\n      <td>1017.385507</td>\n      <td>5210.102598</td>\n      <td>0.0</td>\n      <td>0.000</td>\n      <td>5.00</td>\n      <td>395.5000</td>\n      <td>100000.0</td>\n    </tr>\n  </tbody>\n</table>\n</div>"
     },
     "execution_count": 26,
     "metadata": {},
     "output_type": "execute_result"
    }
   ],
   "source": [
    "numeric_features.describe().T"
   ],
   "metadata": {
    "collapsed": false,
    "pycharm": {
     "name": "#%%\n"
    }
   }
  },
  {
   "cell_type": "code",
   "execution_count": 27,
   "outputs": [
    {
     "data": {
      "text/plain": "  A1     A2 A4 A5 A6 A7 A9 A10 A12 A13    A14 A16\n0  b  30.83  u  g  w  v  t   t   f   g  00202   +\n1  a  58.67  u  g  q  h  t   t   f   g  00043   +\n2  a  24.50  u  g  q  h  t   f   f   g  00280   +\n3  b  27.83  u  g  w  v  t   t   t   g  00100   +\n4  b  20.17  u  g  w  v  t   f   f   s  00120   +",
      "text/html": "<div>\n<style scoped>\n    .dataframe tbody tr th:only-of-type {\n        vertical-align: middle;\n    }\n\n    .dataframe tbody tr th {\n        vertical-align: top;\n    }\n\n    .dataframe thead th {\n        text-align: right;\n    }\n</style>\n<table border=\"1\" class=\"dataframe\">\n  <thead>\n    <tr style=\"text-align: right;\">\n      <th></th>\n      <th>A1</th>\n      <th>A2</th>\n      <th>A4</th>\n      <th>A5</th>\n      <th>A6</th>\n      <th>A7</th>\n      <th>A9</th>\n      <th>A10</th>\n      <th>A12</th>\n      <th>A13</th>\n      <th>A14</th>\n      <th>A16</th>\n    </tr>\n  </thead>\n  <tbody>\n    <tr>\n      <th>0</th>\n      <td>b</td>\n      <td>30.83</td>\n      <td>u</td>\n      <td>g</td>\n      <td>w</td>\n      <td>v</td>\n      <td>t</td>\n      <td>t</td>\n      <td>f</td>\n      <td>g</td>\n      <td>00202</td>\n      <td>+</td>\n    </tr>\n    <tr>\n      <th>1</th>\n      <td>a</td>\n      <td>58.67</td>\n      <td>u</td>\n      <td>g</td>\n      <td>q</td>\n      <td>h</td>\n      <td>t</td>\n      <td>t</td>\n      <td>f</td>\n      <td>g</td>\n      <td>00043</td>\n      <td>+</td>\n    </tr>\n    <tr>\n      <th>2</th>\n      <td>a</td>\n      <td>24.50</td>\n      <td>u</td>\n      <td>g</td>\n      <td>q</td>\n      <td>h</td>\n      <td>t</td>\n      <td>f</td>\n      <td>f</td>\n      <td>g</td>\n      <td>00280</td>\n      <td>+</td>\n    </tr>\n    <tr>\n      <th>3</th>\n      <td>b</td>\n      <td>27.83</td>\n      <td>u</td>\n      <td>g</td>\n      <td>w</td>\n      <td>v</td>\n      <td>t</td>\n      <td>t</td>\n      <td>t</td>\n      <td>g</td>\n      <td>00100</td>\n      <td>+</td>\n    </tr>\n    <tr>\n      <th>4</th>\n      <td>b</td>\n      <td>20.17</td>\n      <td>u</td>\n      <td>g</td>\n      <td>w</td>\n      <td>v</td>\n      <td>t</td>\n      <td>f</td>\n      <td>f</td>\n      <td>s</td>\n      <td>00120</td>\n      <td>+</td>\n    </tr>\n  </tbody>\n</table>\n</div>"
     },
     "execution_count": 27,
     "metadata": {},
     "output_type": "execute_result"
    }
   ],
   "source": [
    "categorical_feature.head(5)"
   ],
   "metadata": {
    "collapsed": false,
    "pycharm": {
     "name": "#%%\n"
    }
   }
  },
  {
   "cell_type": "code",
   "execution_count": 28,
   "outputs": [
    {
     "data": {
      "text/plain": "(<bound method Series.unique of 0      30.83\n 1      58.67\n 2      24.50\n 3      27.83\n 4      20.17\n        ...  \n 685    21.08\n 686    22.67\n 687    25.25\n 688    17.92\n 689    35.00\n Name: A2, Length: 690, dtype: object>,\n <bound method Series.unique of 0      00202\n 1      00043\n 2      00280\n 3      00100\n 4      00120\n        ...  \n 685    00260\n 686    00200\n 687    00200\n 688    00280\n 689    00000\n Name: A14, Length: 690, dtype: object>)"
     },
     "execution_count": 28,
     "metadata": {},
     "output_type": "execute_result"
    }
   ],
   "source": [
    "categorical_feature.A2.unique, categorical_feature.A14.unique"
   ],
   "metadata": {
    "collapsed": false,
    "pycharm": {
     "name": "#%%\n"
    }
   }
  },
  {
   "cell_type": "code",
   "execution_count": 44,
   "outputs": [
    {
     "name": "stderr",
     "output_type": "stream",
     "text": [
      "c:\\users\\ashen\\appdata\\local\\programs\\python\\python37\\lib\\site-packages\\pandas\\core\\frame.py:4312: SettingWithCopyWarning: \n",
      "A value is trying to be set on a copy of a slice from a DataFrame\n",
      "\n",
      "See the caveats in the documentation: https://pandas.pydata.org/pandas-docs/stable/user_guide/indexing.html#returning-a-view-versus-a-copy\n",
      "  errors=errors,\n"
     ]
    }
   ],
   "source": [
    "numeric_features.loc[:,'A2'] = categorical_feature['A2'].astype(dtype='float64')\n",
    "numeric_features.loc[:,'A14'] = categorical_feature['A14'].astype(dtype='float64')\n",
    "categorical_feature.drop(labels=['A2','A14'],axis=1,inplace=True)"
   ],
   "metadata": {
    "collapsed": false,
    "pycharm": {
     "name": "#%%\n"
    }
   }
  },
  {
   "cell_type": "code",
   "execution_count": 45,
   "outputs": [
    {
     "data": {
      "text/plain": "         A3    A8  A11  A15     A2    A14\n0     0.000  1.25    1    0  30.83  202.0\n1     4.460  3.04    6  560  58.67   43.0\n2     0.500  1.50    0  824  24.50  280.0\n3     1.540  3.75    5    3  27.83  100.0\n4     5.625  1.71    0    0  20.17  120.0\n..      ...   ...  ...  ...    ...    ...\n685  10.085  1.25    0    0  21.08  260.0\n686   0.750  2.00    2  394  22.67  200.0\n687  13.500  2.00    1    1  25.25  200.0\n688   0.205  0.04    0  750  17.92  280.0\n689   3.375  8.29    0    0  35.00    0.0\n\n[690 rows x 6 columns]",
      "text/html": "<div>\n<style scoped>\n    .dataframe tbody tr th:only-of-type {\n        vertical-align: middle;\n    }\n\n    .dataframe tbody tr th {\n        vertical-align: top;\n    }\n\n    .dataframe thead th {\n        text-align: right;\n    }\n</style>\n<table border=\"1\" class=\"dataframe\">\n  <thead>\n    <tr style=\"text-align: right;\">\n      <th></th>\n      <th>A3</th>\n      <th>A8</th>\n      <th>A11</th>\n      <th>A15</th>\n      <th>A2</th>\n      <th>A14</th>\n    </tr>\n  </thead>\n  <tbody>\n    <tr>\n      <th>0</th>\n      <td>0.000</td>\n      <td>1.25</td>\n      <td>1</td>\n      <td>0</td>\n      <td>30.83</td>\n      <td>202.0</td>\n    </tr>\n    <tr>\n      <th>1</th>\n      <td>4.460</td>\n      <td>3.04</td>\n      <td>6</td>\n      <td>560</td>\n      <td>58.67</td>\n      <td>43.0</td>\n    </tr>\n    <tr>\n      <th>2</th>\n      <td>0.500</td>\n      <td>1.50</td>\n      <td>0</td>\n      <td>824</td>\n      <td>24.50</td>\n      <td>280.0</td>\n    </tr>\n    <tr>\n      <th>3</th>\n      <td>1.540</td>\n      <td>3.75</td>\n      <td>5</td>\n      <td>3</td>\n      <td>27.83</td>\n      <td>100.0</td>\n    </tr>\n    <tr>\n      <th>4</th>\n      <td>5.625</td>\n      <td>1.71</td>\n      <td>0</td>\n      <td>0</td>\n      <td>20.17</td>\n      <td>120.0</td>\n    </tr>\n    <tr>\n      <th>...</th>\n      <td>...</td>\n      <td>...</td>\n      <td>...</td>\n      <td>...</td>\n      <td>...</td>\n      <td>...</td>\n    </tr>\n    <tr>\n      <th>685</th>\n      <td>10.085</td>\n      <td>1.25</td>\n      <td>0</td>\n      <td>0</td>\n      <td>21.08</td>\n      <td>260.0</td>\n    </tr>\n    <tr>\n      <th>686</th>\n      <td>0.750</td>\n      <td>2.00</td>\n      <td>2</td>\n      <td>394</td>\n      <td>22.67</td>\n      <td>200.0</td>\n    </tr>\n    <tr>\n      <th>687</th>\n      <td>13.500</td>\n      <td>2.00</td>\n      <td>1</td>\n      <td>1</td>\n      <td>25.25</td>\n      <td>200.0</td>\n    </tr>\n    <tr>\n      <th>688</th>\n      <td>0.205</td>\n      <td>0.04</td>\n      <td>0</td>\n      <td>750</td>\n      <td>17.92</td>\n      <td>280.0</td>\n    </tr>\n    <tr>\n      <th>689</th>\n      <td>3.375</td>\n      <td>8.29</td>\n      <td>0</td>\n      <td>0</td>\n      <td>35.00</td>\n      <td>0.0</td>\n    </tr>\n  </tbody>\n</table>\n<p>690 rows × 6 columns</p>\n</div>"
     },
     "execution_count": 45,
     "metadata": {},
     "output_type": "execute_result"
    }
   ],
   "source": [
    "numeric_features"
   ],
   "metadata": {
    "collapsed": false,
    "pycharm": {
     "name": "#%%\n"
    }
   }
  },
  {
   "cell_type": "code",
   "execution_count": 46,
   "outputs": [
    {
     "data": {
      "text/plain": "{'A3': 4.758724637681159,\n 'A8': 2.223405797101449,\n 'A11': 2.4,\n 'A15': 1017.3855072463768,\n 'A2': 31.56817109144543,\n 'A14': 184.01477104874445}"
     },
     "execution_count": 46,
     "metadata": {},
     "output_type": "execute_result"
    }
   ],
   "source": [
    "imputer = MeanMedianImputer(imputation_method='mean')\n",
    "imputer.fit(numeric_features)\n",
    "imputer.imputer_dict_"
   ],
   "metadata": {
    "collapsed": false,
    "pycharm": {
     "name": "#%%\n"
    }
   }
  },
  {
   "cell_type": "code",
   "execution_count": 47,
   "outputs": [
    {
     "data": {
      "text/plain": "         A3    A8  A11  A15     A2    A14\n0     0.000  1.25    1    0  30.83  202.0\n1     4.460  3.04    6  560  58.67   43.0\n2     0.500  1.50    0  824  24.50  280.0\n3     1.540  3.75    5    3  27.83  100.0\n4     5.625  1.71    0    0  20.17  120.0\n..      ...   ...  ...  ...    ...    ...\n685  10.085  1.25    0    0  21.08  260.0\n686   0.750  2.00    2  394  22.67  200.0\n687  13.500  2.00    1    1  25.25  200.0\n688   0.205  0.04    0  750  17.92  280.0\n689   3.375  8.29    0    0  35.00    0.0\n\n[690 rows x 6 columns]",
      "text/html": "<div>\n<style scoped>\n    .dataframe tbody tr th:only-of-type {\n        vertical-align: middle;\n    }\n\n    .dataframe tbody tr th {\n        vertical-align: top;\n    }\n\n    .dataframe thead th {\n        text-align: right;\n    }\n</style>\n<table border=\"1\" class=\"dataframe\">\n  <thead>\n    <tr style=\"text-align: right;\">\n      <th></th>\n      <th>A3</th>\n      <th>A8</th>\n      <th>A11</th>\n      <th>A15</th>\n      <th>A2</th>\n      <th>A14</th>\n    </tr>\n  </thead>\n  <tbody>\n    <tr>\n      <th>0</th>\n      <td>0.000</td>\n      <td>1.25</td>\n      <td>1</td>\n      <td>0</td>\n      <td>30.83</td>\n      <td>202.0</td>\n    </tr>\n    <tr>\n      <th>1</th>\n      <td>4.460</td>\n      <td>3.04</td>\n      <td>6</td>\n      <td>560</td>\n      <td>58.67</td>\n      <td>43.0</td>\n    </tr>\n    <tr>\n      <th>2</th>\n      <td>0.500</td>\n      <td>1.50</td>\n      <td>0</td>\n      <td>824</td>\n      <td>24.50</td>\n      <td>280.0</td>\n    </tr>\n    <tr>\n      <th>3</th>\n      <td>1.540</td>\n      <td>3.75</td>\n      <td>5</td>\n      <td>3</td>\n      <td>27.83</td>\n      <td>100.0</td>\n    </tr>\n    <tr>\n      <th>4</th>\n      <td>5.625</td>\n      <td>1.71</td>\n      <td>0</td>\n      <td>0</td>\n      <td>20.17</td>\n      <td>120.0</td>\n    </tr>\n    <tr>\n      <th>...</th>\n      <td>...</td>\n      <td>...</td>\n      <td>...</td>\n      <td>...</td>\n      <td>...</td>\n      <td>...</td>\n    </tr>\n    <tr>\n      <th>685</th>\n      <td>10.085</td>\n      <td>1.25</td>\n      <td>0</td>\n      <td>0</td>\n      <td>21.08</td>\n      <td>260.0</td>\n    </tr>\n    <tr>\n      <th>686</th>\n      <td>0.750</td>\n      <td>2.00</td>\n      <td>2</td>\n      <td>394</td>\n      <td>22.67</td>\n      <td>200.0</td>\n    </tr>\n    <tr>\n      <th>687</th>\n      <td>13.500</td>\n      <td>2.00</td>\n      <td>1</td>\n      <td>1</td>\n      <td>25.25</td>\n      <td>200.0</td>\n    </tr>\n    <tr>\n      <th>688</th>\n      <td>0.205</td>\n      <td>0.04</td>\n      <td>0</td>\n      <td>750</td>\n      <td>17.92</td>\n      <td>280.0</td>\n    </tr>\n    <tr>\n      <th>689</th>\n      <td>3.375</td>\n      <td>8.29</td>\n      <td>0</td>\n      <td>0</td>\n      <td>35.00</td>\n      <td>0.0</td>\n    </tr>\n  </tbody>\n</table>\n<p>690 rows × 6 columns</p>\n</div>"
     },
     "execution_count": 47,
     "metadata": {},
     "output_type": "execute_result"
    }
   ],
   "source": [
    "numeric_features = imputer.transform(numeric_features)\n",
    "numeric_features"
   ],
   "metadata": {
    "collapsed": false,
    "pycharm": {
     "name": "#%%\n"
    }
   }
  },
  {
   "cell_type": "code",
   "execution_count": 48,
   "outputs": [
    {
     "name": "stdout",
     "output_type": "stream",
     "text": [
      "<class 'pandas.core.frame.DataFrame'>\n",
      "RangeIndex: 690 entries, 0 to 689\n",
      "Data columns (total 6 columns):\n",
      " #   Column  Non-Null Count  Dtype  \n",
      "---  ------  --------------  -----  \n",
      " 0   A3      690 non-null    float64\n",
      " 1   A8      690 non-null    float64\n",
      " 2   A11     690 non-null    int64  \n",
      " 3   A15     690 non-null    int64  \n",
      " 4   A2      690 non-null    float64\n",
      " 5   A14     690 non-null    float64\n",
      "dtypes: float64(4), int64(2)\n",
      "memory usage: 32.5 KB\n"
     ]
    }
   ],
   "source": [
    "numeric_features.info()"
   ],
   "metadata": {
    "collapsed": false,
    "pycharm": {
     "name": "#%%\n"
    }
   }
  },
  {
   "cell_type": "code",
   "execution_count": 49,
   "outputs": [
    {
     "data": {
      "text/plain": "A1     12\nA6      9\nA7      9\nA4      6\nA5      6\nA9      0\nA10     0\nA12     0\nA13     0\nA16     0\ndtype: int64"
     },
     "execution_count": 49,
     "metadata": {},
     "output_type": "execute_result"
    }
   ],
   "source": [
    "categorical_feature.isna().sum().sort_values(ascending=False)"
   ],
   "metadata": {
    "collapsed": false,
    "pycharm": {
     "name": "#%%\n"
    }
   }
  },
  {
   "cell_type": "code",
   "execution_count": 50,
   "outputs": [
    {
     "name": "stderr",
     "output_type": "stream",
     "text": [
      "c:\\users\\ashen\\appdata\\local\\programs\\python\\python37\\lib\\site-packages\\pandas\\core\\frame.py:4465: SettingWithCopyWarning: \n",
      "A value is trying to be set on a copy of a slice from a DataFrame\n",
      "\n",
      "See the caveats in the documentation: https://pandas.pydata.org/pandas-docs/stable/user_guide/indexing.html#returning-a-view-versus-a-copy\n",
      "  downcast=downcast,\n"
     ]
    }
   ],
   "source": [
    "categorical_feature.fillna(value='missing',inplace=True)"
   ],
   "metadata": {
    "collapsed": false,
    "pycharm": {
     "name": "#%%\n"
    }
   }
  }
 ],
 "metadata": {
  "kernelspec": {
   "display_name": "Python 3",
   "language": "python",
   "name": "python3"
  },
  "language_info": {
   "codemirror_mode": {
    "name": "ipython",
    "version": 2
   },
   "file_extension": ".py",
   "mimetype": "text/x-python",
   "name": "python",
   "nbconvert_exporter": "python",
   "pygments_lexer": "ipython2",
   "version": "2.7.6"
  }
 },
 "nbformat": 4,
 "nbformat_minor": 0
}