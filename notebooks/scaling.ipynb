{
 "cells": [
  {
   "cell_type": "code",
   "execution_count": 24,
   "metadata": {
    "collapsed": true
   },
   "outputs": [],
   "source": [
    "import numpy as np\n",
    "import pandas as pd\n",
    "import scipy.stats as ss\n",
    "from sklearn.datasets import load_boston\n",
    "from sklearn.preprocessing import StandardScaler,RobustScaler,MinMaxScaler,MaxAbsScaler"
   ]
  },
  {
   "cell_type": "code",
   "execution_count": 3,
   "outputs": [
    {
     "data": {
      "text/plain": "        CRIM    ZN  INDUS  CHAS    NOX     RM   AGE     DIS  RAD    TAX  \\\n0    0.00632  18.0   2.31   0.0  0.538  6.575  65.2  4.0900  1.0  296.0   \n1    0.02731   0.0   7.07   0.0  0.469  6.421  78.9  4.9671  2.0  242.0   \n2    0.02729   0.0   7.07   0.0  0.469  7.185  61.1  4.9671  2.0  242.0   \n3    0.03237   0.0   2.18   0.0  0.458  6.998  45.8  6.0622  3.0  222.0   \n4    0.06905   0.0   2.18   0.0  0.458  7.147  54.2  6.0622  3.0  222.0   \n..       ...   ...    ...   ...    ...    ...   ...     ...  ...    ...   \n501  0.06263   0.0  11.93   0.0  0.573  6.593  69.1  2.4786  1.0  273.0   \n502  0.04527   0.0  11.93   0.0  0.573  6.120  76.7  2.2875  1.0  273.0   \n503  0.06076   0.0  11.93   0.0  0.573  6.976  91.0  2.1675  1.0  273.0   \n504  0.10959   0.0  11.93   0.0  0.573  6.794  89.3  2.3889  1.0  273.0   \n505  0.04741   0.0  11.93   0.0  0.573  6.030  80.8  2.5050  1.0  273.0   \n\n     PTRATIO       B  LSTAT  \n0       15.3  396.90   4.98  \n1       17.8  396.90   9.14  \n2       17.8  392.83   4.03  \n3       18.7  394.63   2.94  \n4       18.7  396.90   5.33  \n..       ...     ...    ...  \n501     21.0  391.99   9.67  \n502     21.0  396.90   9.08  \n503     21.0  396.90   5.64  \n504     21.0  393.45   6.48  \n505     21.0  396.90   7.88  \n\n[506 rows x 13 columns]",
      "text/html": "<div>\n<style scoped>\n    .dataframe tbody tr th:only-of-type {\n        vertical-align: middle;\n    }\n\n    .dataframe tbody tr th {\n        vertical-align: top;\n    }\n\n    .dataframe thead th {\n        text-align: right;\n    }\n</style>\n<table border=\"1\" class=\"dataframe\">\n  <thead>\n    <tr style=\"text-align: right;\">\n      <th></th>\n      <th>CRIM</th>\n      <th>ZN</th>\n      <th>INDUS</th>\n      <th>CHAS</th>\n      <th>NOX</th>\n      <th>RM</th>\n      <th>AGE</th>\n      <th>DIS</th>\n      <th>RAD</th>\n      <th>TAX</th>\n      <th>PTRATIO</th>\n      <th>B</th>\n      <th>LSTAT</th>\n    </tr>\n  </thead>\n  <tbody>\n    <tr>\n      <th>0</th>\n      <td>0.00632</td>\n      <td>18.0</td>\n      <td>2.31</td>\n      <td>0.0</td>\n      <td>0.538</td>\n      <td>6.575</td>\n      <td>65.2</td>\n      <td>4.0900</td>\n      <td>1.0</td>\n      <td>296.0</td>\n      <td>15.3</td>\n      <td>396.90</td>\n      <td>4.98</td>\n    </tr>\n    <tr>\n      <th>1</th>\n      <td>0.02731</td>\n      <td>0.0</td>\n      <td>7.07</td>\n      <td>0.0</td>\n      <td>0.469</td>\n      <td>6.421</td>\n      <td>78.9</td>\n      <td>4.9671</td>\n      <td>2.0</td>\n      <td>242.0</td>\n      <td>17.8</td>\n      <td>396.90</td>\n      <td>9.14</td>\n    </tr>\n    <tr>\n      <th>2</th>\n      <td>0.02729</td>\n      <td>0.0</td>\n      <td>7.07</td>\n      <td>0.0</td>\n      <td>0.469</td>\n      <td>7.185</td>\n      <td>61.1</td>\n      <td>4.9671</td>\n      <td>2.0</td>\n      <td>242.0</td>\n      <td>17.8</td>\n      <td>392.83</td>\n      <td>4.03</td>\n    </tr>\n    <tr>\n      <th>3</th>\n      <td>0.03237</td>\n      <td>0.0</td>\n      <td>2.18</td>\n      <td>0.0</td>\n      <td>0.458</td>\n      <td>6.998</td>\n      <td>45.8</td>\n      <td>6.0622</td>\n      <td>3.0</td>\n      <td>222.0</td>\n      <td>18.7</td>\n      <td>394.63</td>\n      <td>2.94</td>\n    </tr>\n    <tr>\n      <th>4</th>\n      <td>0.06905</td>\n      <td>0.0</td>\n      <td>2.18</td>\n      <td>0.0</td>\n      <td>0.458</td>\n      <td>7.147</td>\n      <td>54.2</td>\n      <td>6.0622</td>\n      <td>3.0</td>\n      <td>222.0</td>\n      <td>18.7</td>\n      <td>396.90</td>\n      <td>5.33</td>\n    </tr>\n    <tr>\n      <th>...</th>\n      <td>...</td>\n      <td>...</td>\n      <td>...</td>\n      <td>...</td>\n      <td>...</td>\n      <td>...</td>\n      <td>...</td>\n      <td>...</td>\n      <td>...</td>\n      <td>...</td>\n      <td>...</td>\n      <td>...</td>\n      <td>...</td>\n    </tr>\n    <tr>\n      <th>501</th>\n      <td>0.06263</td>\n      <td>0.0</td>\n      <td>11.93</td>\n      <td>0.0</td>\n      <td>0.573</td>\n      <td>6.593</td>\n      <td>69.1</td>\n      <td>2.4786</td>\n      <td>1.0</td>\n      <td>273.0</td>\n      <td>21.0</td>\n      <td>391.99</td>\n      <td>9.67</td>\n    </tr>\n    <tr>\n      <th>502</th>\n      <td>0.04527</td>\n      <td>0.0</td>\n      <td>11.93</td>\n      <td>0.0</td>\n      <td>0.573</td>\n      <td>6.120</td>\n      <td>76.7</td>\n      <td>2.2875</td>\n      <td>1.0</td>\n      <td>273.0</td>\n      <td>21.0</td>\n      <td>396.90</td>\n      <td>9.08</td>\n    </tr>\n    <tr>\n      <th>503</th>\n      <td>0.06076</td>\n      <td>0.0</td>\n      <td>11.93</td>\n      <td>0.0</td>\n      <td>0.573</td>\n      <td>6.976</td>\n      <td>91.0</td>\n      <td>2.1675</td>\n      <td>1.0</td>\n      <td>273.0</td>\n      <td>21.0</td>\n      <td>396.90</td>\n      <td>5.64</td>\n    </tr>\n    <tr>\n      <th>504</th>\n      <td>0.10959</td>\n      <td>0.0</td>\n      <td>11.93</td>\n      <td>0.0</td>\n      <td>0.573</td>\n      <td>6.794</td>\n      <td>89.3</td>\n      <td>2.3889</td>\n      <td>1.0</td>\n      <td>273.0</td>\n      <td>21.0</td>\n      <td>393.45</td>\n      <td>6.48</td>\n    </tr>\n    <tr>\n      <th>505</th>\n      <td>0.04741</td>\n      <td>0.0</td>\n      <td>11.93</td>\n      <td>0.0</td>\n      <td>0.573</td>\n      <td>6.030</td>\n      <td>80.8</td>\n      <td>2.5050</td>\n      <td>1.0</td>\n      <td>273.0</td>\n      <td>21.0</td>\n      <td>396.90</td>\n      <td>7.88</td>\n    </tr>\n  </tbody>\n</table>\n<p>506 rows × 13 columns</p>\n</div>"
     },
     "execution_count": 3,
     "metadata": {},
     "output_type": "execute_result"
    }
   ],
   "source": [
    "data_set = load_boston()\n",
    "data = pd.DataFrame(data_set['data'],columns=data_set['feature_names'])\n",
    "data"
   ],
   "metadata": {
    "collapsed": false,
    "pycharm": {
     "name": "#%%\n"
    }
   }
  },
  {
   "cell_type": "markdown",
   "source": [
    "## Standardizing the features\n",
    "Standardization is the process of centering the variable at zero and standardizing the variance to 1."
   ],
   "metadata": {
    "collapsed": false,
    "pycharm": {
     "name": "#%% md\n"
    }
   }
  },
  {
   "cell_type": "code",
   "execution_count": 4,
   "outputs": [
    {
     "data": {
      "text/plain": "StandardScaler()"
     },
     "execution_count": 4,
     "metadata": {},
     "output_type": "execute_result"
    }
   ],
   "source": [
    "scaler = StandardScaler()\n",
    "scaler.fit(data)"
   ],
   "metadata": {
    "collapsed": false,
    "pycharm": {
     "name": "#%%\n"
    }
   }
  },
  {
   "cell_type": "code",
   "execution_count": 5,
   "outputs": [
    {
     "data": {
      "text/plain": "array([8.59304135e+00, 2.32993957e+01, 6.85357058e+00, 2.53742935e-01,\n       1.15763115e-01, 7.01922514e-01, 2.81210326e+01, 2.10362836e+00,\n       8.69865112e+00, 1.68370495e+02, 2.16280519e+00, 9.12046075e+01,\n       7.13400164e+00])"
     },
     "execution_count": 5,
     "metadata": {},
     "output_type": "execute_result"
    }
   ],
   "source": [
    "scaler.scale_"
   ],
   "metadata": {
    "collapsed": false,
    "pycharm": {
     "name": "#%%\n"
    }
   }
  },
  {
   "cell_type": "code",
   "execution_count": 6,
   "outputs": [
    {
     "data": {
      "text/plain": "array([[-0.41978194,  0.28482986, -1.2879095 , ..., -1.45900038,\n         0.44105193, -1.0755623 ],\n       [-0.41733926, -0.48772236, -0.59338101, ..., -0.30309415,\n         0.44105193, -0.49243937],\n       [-0.41734159, -0.48772236, -0.59338101, ..., -0.30309415,\n         0.39642699, -1.2087274 ],\n       ...,\n       [-0.41344658, -0.48772236,  0.11573841, ...,  1.17646583,\n         0.44105193, -0.98304761],\n       [-0.40776407, -0.48772236,  0.11573841, ...,  1.17646583,\n         0.4032249 , -0.86530163],\n       [-0.41500016, -0.48772236,  0.11573841, ...,  1.17646583,\n         0.44105193, -0.66905833]])"
     },
     "execution_count": 6,
     "metadata": {},
     "output_type": "execute_result"
    }
   ],
   "source": [
    "scaler.transform(data)"
   ],
   "metadata": {
    "collapsed": false,
    "pycharm": {
     "name": "#%%\n"
    }
   }
  },
  {
   "cell_type": "markdown",
   "source": [
    "## Performing mean normalization\n",
    "In mean normalization, we center the variable at zero and rescale the distribution to the value range. This procedure\n",
    "involves subtracting the mean from each observation and then dividing the result by the difference between the minimum\n",
    "and maximum values."
   ],
   "metadata": {
    "collapsed": false,
    "pycharm": {
     "name": "#%% md\n"
    }
   }
  },
  {
   "cell_type": "code",
   "execution_count": 7,
   "outputs": [],
   "source": [
    "def mean_normalizer(dataframe):\n",
    "    norm_data = pd.DataFrame()\n",
    "    for col in dataframe:\n",
    "        col_mean = np.mean(dataframe[col])\n",
    "        col_min = np.min(dataframe[col])\n",
    "        col_max = np.max(dataframe[col])\n",
    "        norm_data[col] = (dataframe[col] - col_mean)/(col_max - col_min)\n",
    "\n",
    "    return norm_data"
   ],
   "metadata": {
    "collapsed": false,
    "pycharm": {
     "name": "#%%\n"
    }
   }
  },
  {
   "cell_type": "code",
   "execution_count": 8,
   "outputs": [
    {
     "data": {
      "text/plain": "         CRIM        ZN     INDUS     CHAS       NOX        RM       AGE  \\\n0   -0.040544  0.066364 -0.323562 -0.06917 -0.034352  0.055636 -0.034757   \n1   -0.040308 -0.113636 -0.149075 -0.06917 -0.176327  0.026129  0.106335   \n2   -0.040308 -0.113636 -0.149075 -0.06917 -0.176327  0.172517 -0.076981   \n3   -0.040251 -0.113636 -0.328328 -0.06917 -0.198961  0.136686 -0.234551   \n4   -0.039839 -0.113636 -0.328328 -0.06917 -0.198961  0.165236 -0.148042   \n..        ...       ...       ...      ...       ...       ...       ...   \n501 -0.039911 -0.113636  0.029077 -0.06917  0.037664  0.059085  0.005408   \n502 -0.040106 -0.113636  0.029077 -0.06917  0.037664 -0.031545  0.083678   \n503 -0.039932 -0.113636  0.029077 -0.06917  0.037664  0.132471  0.230948   \n504 -0.039383 -0.113636  0.029077 -0.06917  0.037664  0.097598  0.213441   \n505 -0.040082 -0.113636  0.029077 -0.06917  0.037664 -0.048790  0.125902   \n\n          DIS       RAD       TAX   PTRATIO         B     LSTAT  \n0    0.026822 -0.371713 -0.214193 -0.335695  0.101432 -0.211729  \n1    0.106581 -0.328235 -0.317246 -0.069738  0.101432 -0.096939  \n2    0.106581 -0.328235 -0.317246 -0.069738  0.091169 -0.237943  \n3    0.206163 -0.284757 -0.355414  0.026007  0.095708 -0.268021  \n4    0.206163 -0.284757 -0.355414  0.026007  0.101432 -0.202071  \n..        ...       ...       ...       ...       ...       ...  \n501 -0.119710 -0.371713 -0.258086  0.270688  0.089051 -0.082314  \n502 -0.137088 -0.371713 -0.258086  0.270688  0.101432 -0.098594  \n503 -0.148000 -0.371713 -0.258086  0.270688  0.101432 -0.193517  \n504 -0.127867 -0.371713 -0.258086  0.270688  0.092733 -0.170338  \n505 -0.117310 -0.371713 -0.258086  0.270688  0.101432 -0.131707  \n\n[506 rows x 13 columns]",
      "text/html": "<div>\n<style scoped>\n    .dataframe tbody tr th:only-of-type {\n        vertical-align: middle;\n    }\n\n    .dataframe tbody tr th {\n        vertical-align: top;\n    }\n\n    .dataframe thead th {\n        text-align: right;\n    }\n</style>\n<table border=\"1\" class=\"dataframe\">\n  <thead>\n    <tr style=\"text-align: right;\">\n      <th></th>\n      <th>CRIM</th>\n      <th>ZN</th>\n      <th>INDUS</th>\n      <th>CHAS</th>\n      <th>NOX</th>\n      <th>RM</th>\n      <th>AGE</th>\n      <th>DIS</th>\n      <th>RAD</th>\n      <th>TAX</th>\n      <th>PTRATIO</th>\n      <th>B</th>\n      <th>LSTAT</th>\n    </tr>\n  </thead>\n  <tbody>\n    <tr>\n      <th>0</th>\n      <td>-0.040544</td>\n      <td>0.066364</td>\n      <td>-0.323562</td>\n      <td>-0.06917</td>\n      <td>-0.034352</td>\n      <td>0.055636</td>\n      <td>-0.034757</td>\n      <td>0.026822</td>\n      <td>-0.371713</td>\n      <td>-0.214193</td>\n      <td>-0.335695</td>\n      <td>0.101432</td>\n      <td>-0.211729</td>\n    </tr>\n    <tr>\n      <th>1</th>\n      <td>-0.040308</td>\n      <td>-0.113636</td>\n      <td>-0.149075</td>\n      <td>-0.06917</td>\n      <td>-0.176327</td>\n      <td>0.026129</td>\n      <td>0.106335</td>\n      <td>0.106581</td>\n      <td>-0.328235</td>\n      <td>-0.317246</td>\n      <td>-0.069738</td>\n      <td>0.101432</td>\n      <td>-0.096939</td>\n    </tr>\n    <tr>\n      <th>2</th>\n      <td>-0.040308</td>\n      <td>-0.113636</td>\n      <td>-0.149075</td>\n      <td>-0.06917</td>\n      <td>-0.176327</td>\n      <td>0.172517</td>\n      <td>-0.076981</td>\n      <td>0.106581</td>\n      <td>-0.328235</td>\n      <td>-0.317246</td>\n      <td>-0.069738</td>\n      <td>0.091169</td>\n      <td>-0.237943</td>\n    </tr>\n    <tr>\n      <th>3</th>\n      <td>-0.040251</td>\n      <td>-0.113636</td>\n      <td>-0.328328</td>\n      <td>-0.06917</td>\n      <td>-0.198961</td>\n      <td>0.136686</td>\n      <td>-0.234551</td>\n      <td>0.206163</td>\n      <td>-0.284757</td>\n      <td>-0.355414</td>\n      <td>0.026007</td>\n      <td>0.095708</td>\n      <td>-0.268021</td>\n    </tr>\n    <tr>\n      <th>4</th>\n      <td>-0.039839</td>\n      <td>-0.113636</td>\n      <td>-0.328328</td>\n      <td>-0.06917</td>\n      <td>-0.198961</td>\n      <td>0.165236</td>\n      <td>-0.148042</td>\n      <td>0.206163</td>\n      <td>-0.284757</td>\n      <td>-0.355414</td>\n      <td>0.026007</td>\n      <td>0.101432</td>\n      <td>-0.202071</td>\n    </tr>\n    <tr>\n      <th>...</th>\n      <td>...</td>\n      <td>...</td>\n      <td>...</td>\n      <td>...</td>\n      <td>...</td>\n      <td>...</td>\n      <td>...</td>\n      <td>...</td>\n      <td>...</td>\n      <td>...</td>\n      <td>...</td>\n      <td>...</td>\n      <td>...</td>\n    </tr>\n    <tr>\n      <th>501</th>\n      <td>-0.039911</td>\n      <td>-0.113636</td>\n      <td>0.029077</td>\n      <td>-0.06917</td>\n      <td>0.037664</td>\n      <td>0.059085</td>\n      <td>0.005408</td>\n      <td>-0.119710</td>\n      <td>-0.371713</td>\n      <td>-0.258086</td>\n      <td>0.270688</td>\n      <td>0.089051</td>\n      <td>-0.082314</td>\n    </tr>\n    <tr>\n      <th>502</th>\n      <td>-0.040106</td>\n      <td>-0.113636</td>\n      <td>0.029077</td>\n      <td>-0.06917</td>\n      <td>0.037664</td>\n      <td>-0.031545</td>\n      <td>0.083678</td>\n      <td>-0.137088</td>\n      <td>-0.371713</td>\n      <td>-0.258086</td>\n      <td>0.270688</td>\n      <td>0.101432</td>\n      <td>-0.098594</td>\n    </tr>\n    <tr>\n      <th>503</th>\n      <td>-0.039932</td>\n      <td>-0.113636</td>\n      <td>0.029077</td>\n      <td>-0.06917</td>\n      <td>0.037664</td>\n      <td>0.132471</td>\n      <td>0.230948</td>\n      <td>-0.148000</td>\n      <td>-0.371713</td>\n      <td>-0.258086</td>\n      <td>0.270688</td>\n      <td>0.101432</td>\n      <td>-0.193517</td>\n    </tr>\n    <tr>\n      <th>504</th>\n      <td>-0.039383</td>\n      <td>-0.113636</td>\n      <td>0.029077</td>\n      <td>-0.06917</td>\n      <td>0.037664</td>\n      <td>0.097598</td>\n      <td>0.213441</td>\n      <td>-0.127867</td>\n      <td>-0.371713</td>\n      <td>-0.258086</td>\n      <td>0.270688</td>\n      <td>0.092733</td>\n      <td>-0.170338</td>\n    </tr>\n    <tr>\n      <th>505</th>\n      <td>-0.040082</td>\n      <td>-0.113636</td>\n      <td>0.029077</td>\n      <td>-0.06917</td>\n      <td>0.037664</td>\n      <td>-0.048790</td>\n      <td>0.125902</td>\n      <td>-0.117310</td>\n      <td>-0.371713</td>\n      <td>-0.258086</td>\n      <td>0.270688</td>\n      <td>0.101432</td>\n      <td>-0.131707</td>\n    </tr>\n  </tbody>\n</table>\n<p>506 rows × 13 columns</p>\n</div>"
     },
     "execution_count": 8,
     "metadata": {},
     "output_type": "execute_result"
    }
   ],
   "source": [
    "mean_normalizer(data)"
   ],
   "metadata": {
    "collapsed": false,
    "pycharm": {
     "name": "#%%\n"
    }
   }
  },
  {
   "cell_type": "code",
   "execution_count": 9,
   "outputs": [
    {
     "data": {
      "text/plain": "array([3.61352356e+00, 1.13636364e+01, 1.11367787e+01, 6.91699605e-02,\n       5.54695059e-01, 6.28463439e+00, 6.85749012e+01, 3.79504269e+00,\n       9.54940711e+00, 4.08237154e+02, 1.84555336e+01, 3.56674032e+02,\n       1.26530632e+01])"
     },
     "execution_count": 9,
     "metadata": {},
     "output_type": "execute_result"
    }
   ],
   "source": [
    "mean_scaler = StandardScaler(with_mean=True,with_std=False)\n",
    "mean_scaler.fit(data)\n",
    "mean_scaler.mean_"
   ],
   "metadata": {
    "collapsed": false,
    "pycharm": {
     "name": "#%%\n"
    }
   }
  },
  {
   "cell_type": "code",
   "execution_count": 10,
   "outputs": [
    {
     "data": {
      "text/plain": "array([[ -3.60720356,   6.63636364,  -8.82677866, ...,  -3.1555336 ,\n         40.22596838,  -7.67306324],\n       [ -3.58621356, -11.36363636,  -4.06677866, ...,  -0.6555336 ,\n         40.22596838,  -3.51306324],\n       [ -3.58623356, -11.36363636,  -4.06677866, ...,  -0.6555336 ,\n         36.15596838,  -8.62306324],\n       ...,\n       [ -3.55276356, -11.36363636,   0.79322134, ...,   2.5444664 ,\n         40.22596838,  -7.01306324],\n       [ -3.50393356, -11.36363636,   0.79322134, ...,   2.5444664 ,\n         36.77596838,  -6.17306324],\n       [ -3.56611356, -11.36363636,   0.79322134, ...,   2.5444664 ,\n         40.22596838,  -4.77306324]])"
     },
     "execution_count": 10,
     "metadata": {},
     "output_type": "execute_result"
    }
   ],
   "source": [
    "mean_scaler.transform(data)"
   ],
   "metadata": {
    "collapsed": false,
    "pycharm": {
     "name": "#%%\n"
    }
   }
  },
  {
   "cell_type": "code",
   "execution_count": 11,
   "outputs": [
    {
     "data": {
      "text/plain": "array([8.896988e+01, 1.000000e+02, 2.728000e+01, 1.000000e+00,\n       4.860000e-01, 5.219000e+00, 9.710000e+01, 1.099690e+01,\n       2.300000e+01, 5.240000e+02, 9.400000e+00, 3.965800e+02,\n       3.624000e+01])"
     },
     "execution_count": 11,
     "metadata": {},
     "output_type": "execute_result"
    }
   ],
   "source": [
    "range_scaler = RobustScaler(with_centering=False,with_scaling=True,quantile_range=(0,100))\n",
    "range_scaler.fit(data)\n",
    "range_scaler.scale_"
   ],
   "metadata": {
    "collapsed": false,
    "pycharm": {
     "name": "#%%\n"
    }
   }
  },
  {
   "cell_type": "code",
   "execution_count": 12,
   "outputs": [
    {
     "data": {
      "text/plain": "array([[7.10352762e-05, 1.80000000e-01, 8.46774194e-02, ...,\n        1.62765957e+00, 1.00080690e+00, 1.37417219e-01],\n       [3.06957815e-04, 0.00000000e+00, 2.59164223e-01, ...,\n        1.89361702e+00, 1.00080690e+00, 2.52207506e-01],\n       [3.06733020e-04, 0.00000000e+00, 2.59164223e-01, ...,\n        1.89361702e+00, 9.90544153e-01, 1.11203091e-01],\n       ...,\n       [6.82927750e-04, 0.00000000e+00, 4.37316716e-01, ...,\n        2.23404255e+00, 1.00080690e+00, 1.55629139e-01],\n       [1.23176518e-03, 0.00000000e+00, 4.37316716e-01, ...,\n        2.23404255e+00, 9.92107519e-01, 1.78807947e-01],\n       [5.32876969e-04, 0.00000000e+00, 4.37316716e-01, ...,\n        2.23404255e+00, 1.00080690e+00, 2.17439294e-01]])"
     },
     "execution_count": 12,
     "metadata": {},
     "output_type": "execute_result"
    }
   ],
   "source": [
    "range_scaler.transform(data)"
   ],
   "metadata": {
    "collapsed": false,
    "pycharm": {
     "name": "#%%\n"
    }
   }
  },
  {
   "cell_type": "code",
   "execution_count": 13,
   "outputs": [
    {
     "data": {
      "text/plain": "array([[-0.0405441 ,  0.06636364, -0.32356227, ..., -0.33569506,\n         0.10143217, -0.21172912],\n       [-0.04030818, -0.11363636, -0.14907546, ..., -0.06973762,\n         0.10143217, -0.09693883],\n       [-0.0403084 , -0.11363636, -0.14907546, ..., -0.06973762,\n         0.09116942, -0.23794325],\n       ...,\n       [-0.03993221, -0.11363636,  0.02907703, ...,  0.27068792,\n         0.10143217, -0.1935172 ],\n       [-0.03938337, -0.11363636,  0.02907703, ...,  0.27068792,\n         0.09273279, -0.17033839],\n       [-0.04008226, -0.11363636,  0.02907703, ...,  0.27068792,\n         0.10143217, -0.13170704]])"
     },
     "execution_count": 13,
     "metadata": {},
     "output_type": "execute_result"
    }
   ],
   "source": [
    "range_scaler.transform(mean_scaler.transform(data))"
   ],
   "metadata": {
    "collapsed": false,
    "pycharm": {
     "name": "#%%\n"
    }
   }
  },
  {
   "cell_type": "markdown",
   "source": [
    "## Scaling to the maximum and minimum values\n",
    "Scaling to the minimum and maximum values squeezes the values of the variables between 0 and 1. To implement this\n",
    "scaling technique, we need to subtract the minimum value from all the observations and divide the result by the\n",
    "value range."
   ],
   "metadata": {
    "collapsed": false,
    "pycharm": {
     "name": "#%% md\n"
    }
   }
  },
  {
   "cell_type": "code",
   "execution_count": 15,
   "outputs": [],
   "source": [
    "def minmax_normalizer(dataframe):\n",
    "    norm_data = pd.DataFrame()\n",
    "    for col in dataframe:\n",
    "        col_min = np.min(dataframe[col])\n",
    "        col_max = np.max(dataframe[col])\n",
    "        norm_data[col] = (dataframe[col] - col_min)/(col_max - col_min)\n",
    "\n",
    "    return norm_data"
   ],
   "metadata": {
    "collapsed": false,
    "pycharm": {
     "name": "#%%\n"
    }
   }
  },
  {
   "cell_type": "code",
   "execution_count": 16,
   "outputs": [
    {
     "data": {
      "text/plain": "         CRIM    ZN     INDUS  CHAS       NOX        RM       AGE       DIS  \\\n0    0.000000  0.18  0.067815   0.0  0.314815  0.577505  0.641607  0.269203   \n1    0.000236  0.00  0.242302   0.0  0.172840  0.547998  0.782698  0.348962   \n2    0.000236  0.00  0.242302   0.0  0.172840  0.694386  0.599382  0.348962   \n3    0.000293  0.00  0.063050   0.0  0.150206  0.658555  0.441813  0.448545   \n4    0.000705  0.00  0.063050   0.0  0.150206  0.687105  0.528321  0.448545   \n..        ...   ...       ...   ...       ...       ...       ...       ...   \n501  0.000633  0.00  0.420455   0.0  0.386831  0.580954  0.681771  0.122671   \n502  0.000438  0.00  0.420455   0.0  0.386831  0.490324  0.760041  0.105293   \n503  0.000612  0.00  0.420455   0.0  0.386831  0.654340  0.907312  0.094381   \n504  0.001161  0.00  0.420455   0.0  0.386831  0.619467  0.889804  0.114514   \n505  0.000462  0.00  0.420455   0.0  0.386831  0.473079  0.802266  0.125072   \n\n          RAD       TAX   PTRATIO         B     LSTAT  \n0    0.000000  0.208015  0.287234  1.000000  0.089680  \n1    0.043478  0.104962  0.553191  1.000000  0.204470  \n2    0.043478  0.104962  0.553191  0.989737  0.063466  \n3    0.086957  0.066794  0.648936  0.994276  0.033389  \n4    0.086957  0.066794  0.648936  1.000000  0.099338  \n..        ...       ...       ...       ...       ...  \n501  0.000000  0.164122  0.893617  0.987619  0.219095  \n502  0.000000  0.164122  0.893617  1.000000  0.202815  \n503  0.000000  0.164122  0.893617  1.000000  0.107892  \n504  0.000000  0.164122  0.893617  0.991301  0.131071  \n505  0.000000  0.164122  0.893617  1.000000  0.169702  \n\n[506 rows x 13 columns]",
      "text/html": "<div>\n<style scoped>\n    .dataframe tbody tr th:only-of-type {\n        vertical-align: middle;\n    }\n\n    .dataframe tbody tr th {\n        vertical-align: top;\n    }\n\n    .dataframe thead th {\n        text-align: right;\n    }\n</style>\n<table border=\"1\" class=\"dataframe\">\n  <thead>\n    <tr style=\"text-align: right;\">\n      <th></th>\n      <th>CRIM</th>\n      <th>ZN</th>\n      <th>INDUS</th>\n      <th>CHAS</th>\n      <th>NOX</th>\n      <th>RM</th>\n      <th>AGE</th>\n      <th>DIS</th>\n      <th>RAD</th>\n      <th>TAX</th>\n      <th>PTRATIO</th>\n      <th>B</th>\n      <th>LSTAT</th>\n    </tr>\n  </thead>\n  <tbody>\n    <tr>\n      <th>0</th>\n      <td>0.000000</td>\n      <td>0.18</td>\n      <td>0.067815</td>\n      <td>0.0</td>\n      <td>0.314815</td>\n      <td>0.577505</td>\n      <td>0.641607</td>\n      <td>0.269203</td>\n      <td>0.000000</td>\n      <td>0.208015</td>\n      <td>0.287234</td>\n      <td>1.000000</td>\n      <td>0.089680</td>\n    </tr>\n    <tr>\n      <th>1</th>\n      <td>0.000236</td>\n      <td>0.00</td>\n      <td>0.242302</td>\n      <td>0.0</td>\n      <td>0.172840</td>\n      <td>0.547998</td>\n      <td>0.782698</td>\n      <td>0.348962</td>\n      <td>0.043478</td>\n      <td>0.104962</td>\n      <td>0.553191</td>\n      <td>1.000000</td>\n      <td>0.204470</td>\n    </tr>\n    <tr>\n      <th>2</th>\n      <td>0.000236</td>\n      <td>0.00</td>\n      <td>0.242302</td>\n      <td>0.0</td>\n      <td>0.172840</td>\n      <td>0.694386</td>\n      <td>0.599382</td>\n      <td>0.348962</td>\n      <td>0.043478</td>\n      <td>0.104962</td>\n      <td>0.553191</td>\n      <td>0.989737</td>\n      <td>0.063466</td>\n    </tr>\n    <tr>\n      <th>3</th>\n      <td>0.000293</td>\n      <td>0.00</td>\n      <td>0.063050</td>\n      <td>0.0</td>\n      <td>0.150206</td>\n      <td>0.658555</td>\n      <td>0.441813</td>\n      <td>0.448545</td>\n      <td>0.086957</td>\n      <td>0.066794</td>\n      <td>0.648936</td>\n      <td>0.994276</td>\n      <td>0.033389</td>\n    </tr>\n    <tr>\n      <th>4</th>\n      <td>0.000705</td>\n      <td>0.00</td>\n      <td>0.063050</td>\n      <td>0.0</td>\n      <td>0.150206</td>\n      <td>0.687105</td>\n      <td>0.528321</td>\n      <td>0.448545</td>\n      <td>0.086957</td>\n      <td>0.066794</td>\n      <td>0.648936</td>\n      <td>1.000000</td>\n      <td>0.099338</td>\n    </tr>\n    <tr>\n      <th>...</th>\n      <td>...</td>\n      <td>...</td>\n      <td>...</td>\n      <td>...</td>\n      <td>...</td>\n      <td>...</td>\n      <td>...</td>\n      <td>...</td>\n      <td>...</td>\n      <td>...</td>\n      <td>...</td>\n      <td>...</td>\n      <td>...</td>\n    </tr>\n    <tr>\n      <th>501</th>\n      <td>0.000633</td>\n      <td>0.00</td>\n      <td>0.420455</td>\n      <td>0.0</td>\n      <td>0.386831</td>\n      <td>0.580954</td>\n      <td>0.681771</td>\n      <td>0.122671</td>\n      <td>0.000000</td>\n      <td>0.164122</td>\n      <td>0.893617</td>\n      <td>0.987619</td>\n      <td>0.219095</td>\n    </tr>\n    <tr>\n      <th>502</th>\n      <td>0.000438</td>\n      <td>0.00</td>\n      <td>0.420455</td>\n      <td>0.0</td>\n      <td>0.386831</td>\n      <td>0.490324</td>\n      <td>0.760041</td>\n      <td>0.105293</td>\n      <td>0.000000</td>\n      <td>0.164122</td>\n      <td>0.893617</td>\n      <td>1.000000</td>\n      <td>0.202815</td>\n    </tr>\n    <tr>\n      <th>503</th>\n      <td>0.000612</td>\n      <td>0.00</td>\n      <td>0.420455</td>\n      <td>0.0</td>\n      <td>0.386831</td>\n      <td>0.654340</td>\n      <td>0.907312</td>\n      <td>0.094381</td>\n      <td>0.000000</td>\n      <td>0.164122</td>\n      <td>0.893617</td>\n      <td>1.000000</td>\n      <td>0.107892</td>\n    </tr>\n    <tr>\n      <th>504</th>\n      <td>0.001161</td>\n      <td>0.00</td>\n      <td>0.420455</td>\n      <td>0.0</td>\n      <td>0.386831</td>\n      <td>0.619467</td>\n      <td>0.889804</td>\n      <td>0.114514</td>\n      <td>0.000000</td>\n      <td>0.164122</td>\n      <td>0.893617</td>\n      <td>0.991301</td>\n      <td>0.131071</td>\n    </tr>\n    <tr>\n      <th>505</th>\n      <td>0.000462</td>\n      <td>0.00</td>\n      <td>0.420455</td>\n      <td>0.0</td>\n      <td>0.386831</td>\n      <td>0.473079</td>\n      <td>0.802266</td>\n      <td>0.125072</td>\n      <td>0.000000</td>\n      <td>0.164122</td>\n      <td>0.893617</td>\n      <td>1.000000</td>\n      <td>0.169702</td>\n    </tr>\n  </tbody>\n</table>\n<p>506 rows × 13 columns</p>\n</div>"
     },
     "execution_count": 16,
     "metadata": {},
     "output_type": "execute_result"
    }
   ],
   "source": [
    "minmax_normalizer(data)"
   ],
   "metadata": {
    "collapsed": false,
    "pycharm": {
     "name": "#%%\n"
    }
   }
  },
  {
   "cell_type": "code",
   "execution_count": 18,
   "outputs": [
    {
     "data": {
      "text/plain": "array([1.12397589e-02, 1.00000000e-02, 3.66568915e-02, 1.00000000e+00,\n       2.05761317e+00, 1.91607588e-01, 1.02986612e-02, 9.09347180e-02,\n       4.34782609e-02, 1.90839695e-03, 1.06382979e-01, 2.52155933e-03,\n       2.75938190e-02])"
     },
     "execution_count": 18,
     "metadata": {},
     "output_type": "execute_result"
    }
   ],
   "source": [
    "scaler = MinMaxScaler()\n",
    "scaler.fit(data)\n",
    "scaler.scale_"
   ],
   "metadata": {
    "collapsed": false,
    "pycharm": {
     "name": "#%%\n"
    }
   }
  },
  {
   "cell_type": "code",
   "execution_count": 19,
   "outputs": [
    {
     "data": {
      "text/plain": "array([[0.00000000e+00, 1.80000000e-01, 6.78152493e-02, ...,\n        2.87234043e-01, 1.00000000e+00, 8.96799117e-02],\n       [2.35922539e-04, 0.00000000e+00, 2.42302053e-01, ...,\n        5.53191489e-01, 1.00000000e+00, 2.04470199e-01],\n       [2.35697744e-04, 0.00000000e+00, 2.42302053e-01, ...,\n        5.53191489e-01, 9.89737254e-01, 6.34657837e-02],\n       ...,\n       [6.11892474e-04, 0.00000000e+00, 4.20454545e-01, ...,\n        8.93617021e-01, 1.00000000e+00, 1.07891832e-01],\n       [1.16072990e-03, 0.00000000e+00, 4.20454545e-01, ...,\n        8.93617021e-01, 9.91300620e-01, 1.31070640e-01],\n       [4.61841693e-04, 0.00000000e+00, 4.20454545e-01, ...,\n        8.93617021e-01, 1.00000000e+00, 1.69701987e-01]])"
     },
     "execution_count": 19,
     "metadata": {},
     "output_type": "execute_result"
    }
   ],
   "source": [
    "scaler.transform(data)"
   ],
   "metadata": {
    "collapsed": false,
    "pycharm": {
     "name": "#%%\n"
    }
   }
  },
  {
   "cell_type": "markdown",
   "source": [
    "## Implementing maximum absolute scaling\n",
    "Maximum absolute scaling scales the data to its maximum value; that is, it divides every observation by the maximum\n",
    "value of the variable"
   ],
   "metadata": {
    "collapsed": false,
    "pycharm": {
     "name": "#%% md\n"
    }
   }
  },
  {
   "cell_type": "code",
   "execution_count": 22,
   "outputs": [],
   "source": [
    "def abs_transformer(dataframe):\n",
    "    norm_data = pd.DataFrame()\n",
    "    for col in dataframe:\n",
    "        col_max = np.max(dataframe[col])\n",
    "        norm_data[col] = dataframe[col]/col_max\n",
    "\n",
    "    return norm_data"
   ],
   "metadata": {
    "collapsed": false,
    "pycharm": {
     "name": "#%%\n"
    }
   }
  },
  {
   "cell_type": "code",
   "execution_count": 23,
   "outputs": [
    {
     "data": {
      "text/plain": "         CRIM    ZN     INDUS  CHAS       NOX        RM    AGE       DIS  \\\n0    0.000071  0.18  0.083273   0.0  0.617681  0.748861  0.652  0.337278   \n1    0.000307  0.00  0.254867   0.0  0.538462  0.731321  0.789  0.409607   \n2    0.000307  0.00  0.254867   0.0  0.538462  0.818337  0.611  0.409607   \n3    0.000364  0.00  0.078587   0.0  0.525832  0.797039  0.458  0.499913   \n4    0.000776  0.00  0.078587   0.0  0.525832  0.814009  0.542  0.499913   \n..        ...   ...       ...   ...       ...       ...    ...       ...   \n501  0.000704  0.00  0.430065   0.0  0.657865  0.750911  0.691  0.204395   \n502  0.000509  0.00  0.430065   0.0  0.657865  0.697039  0.767  0.188636   \n503  0.000683  0.00  0.430065   0.0  0.657865  0.794533  0.910  0.178741   \n504  0.001232  0.00  0.430065   0.0  0.657865  0.773804  0.893  0.196998   \n505  0.000533  0.00  0.430065   0.0  0.657865  0.686788  0.808  0.206572   \n\n          RAD       TAX   PTRATIO         B     LSTAT  \n0    0.041667  0.416315  0.695455  1.000000  0.131156  \n1    0.083333  0.340366  0.809091  1.000000  0.240716  \n2    0.083333  0.340366  0.809091  0.989746  0.106136  \n3    0.125000  0.312236  0.850000  0.994281  0.077430  \n4    0.125000  0.312236  0.850000  1.000000  0.140374  \n..        ...       ...       ...       ...       ...  \n501  0.041667  0.383966  0.954545  0.987629  0.254675  \n502  0.041667  0.383966  0.954545  1.000000  0.239136  \n503  0.041667  0.383966  0.954545  1.000000  0.148538  \n504  0.041667  0.383966  0.954545  0.991308  0.170661  \n505  0.041667  0.383966  0.954545  1.000000  0.207532  \n\n[506 rows x 13 columns]",
      "text/html": "<div>\n<style scoped>\n    .dataframe tbody tr th:only-of-type {\n        vertical-align: middle;\n    }\n\n    .dataframe tbody tr th {\n        vertical-align: top;\n    }\n\n    .dataframe thead th {\n        text-align: right;\n    }\n</style>\n<table border=\"1\" class=\"dataframe\">\n  <thead>\n    <tr style=\"text-align: right;\">\n      <th></th>\n      <th>CRIM</th>\n      <th>ZN</th>\n      <th>INDUS</th>\n      <th>CHAS</th>\n      <th>NOX</th>\n      <th>RM</th>\n      <th>AGE</th>\n      <th>DIS</th>\n      <th>RAD</th>\n      <th>TAX</th>\n      <th>PTRATIO</th>\n      <th>B</th>\n      <th>LSTAT</th>\n    </tr>\n  </thead>\n  <tbody>\n    <tr>\n      <th>0</th>\n      <td>0.000071</td>\n      <td>0.18</td>\n      <td>0.083273</td>\n      <td>0.0</td>\n      <td>0.617681</td>\n      <td>0.748861</td>\n      <td>0.652</td>\n      <td>0.337278</td>\n      <td>0.041667</td>\n      <td>0.416315</td>\n      <td>0.695455</td>\n      <td>1.000000</td>\n      <td>0.131156</td>\n    </tr>\n    <tr>\n      <th>1</th>\n      <td>0.000307</td>\n      <td>0.00</td>\n      <td>0.254867</td>\n      <td>0.0</td>\n      <td>0.538462</td>\n      <td>0.731321</td>\n      <td>0.789</td>\n      <td>0.409607</td>\n      <td>0.083333</td>\n      <td>0.340366</td>\n      <td>0.809091</td>\n      <td>1.000000</td>\n      <td>0.240716</td>\n    </tr>\n    <tr>\n      <th>2</th>\n      <td>0.000307</td>\n      <td>0.00</td>\n      <td>0.254867</td>\n      <td>0.0</td>\n      <td>0.538462</td>\n      <td>0.818337</td>\n      <td>0.611</td>\n      <td>0.409607</td>\n      <td>0.083333</td>\n      <td>0.340366</td>\n      <td>0.809091</td>\n      <td>0.989746</td>\n      <td>0.106136</td>\n    </tr>\n    <tr>\n      <th>3</th>\n      <td>0.000364</td>\n      <td>0.00</td>\n      <td>0.078587</td>\n      <td>0.0</td>\n      <td>0.525832</td>\n      <td>0.797039</td>\n      <td>0.458</td>\n      <td>0.499913</td>\n      <td>0.125000</td>\n      <td>0.312236</td>\n      <td>0.850000</td>\n      <td>0.994281</td>\n      <td>0.077430</td>\n    </tr>\n    <tr>\n      <th>4</th>\n      <td>0.000776</td>\n      <td>0.00</td>\n      <td>0.078587</td>\n      <td>0.0</td>\n      <td>0.525832</td>\n      <td>0.814009</td>\n      <td>0.542</td>\n      <td>0.499913</td>\n      <td>0.125000</td>\n      <td>0.312236</td>\n      <td>0.850000</td>\n      <td>1.000000</td>\n      <td>0.140374</td>\n    </tr>\n    <tr>\n      <th>...</th>\n      <td>...</td>\n      <td>...</td>\n      <td>...</td>\n      <td>...</td>\n      <td>...</td>\n      <td>...</td>\n      <td>...</td>\n      <td>...</td>\n      <td>...</td>\n      <td>...</td>\n      <td>...</td>\n      <td>...</td>\n      <td>...</td>\n    </tr>\n    <tr>\n      <th>501</th>\n      <td>0.000704</td>\n      <td>0.00</td>\n      <td>0.430065</td>\n      <td>0.0</td>\n      <td>0.657865</td>\n      <td>0.750911</td>\n      <td>0.691</td>\n      <td>0.204395</td>\n      <td>0.041667</td>\n      <td>0.383966</td>\n      <td>0.954545</td>\n      <td>0.987629</td>\n      <td>0.254675</td>\n    </tr>\n    <tr>\n      <th>502</th>\n      <td>0.000509</td>\n      <td>0.00</td>\n      <td>0.430065</td>\n      <td>0.0</td>\n      <td>0.657865</td>\n      <td>0.697039</td>\n      <td>0.767</td>\n      <td>0.188636</td>\n      <td>0.041667</td>\n      <td>0.383966</td>\n      <td>0.954545</td>\n      <td>1.000000</td>\n      <td>0.239136</td>\n    </tr>\n    <tr>\n      <th>503</th>\n      <td>0.000683</td>\n      <td>0.00</td>\n      <td>0.430065</td>\n      <td>0.0</td>\n      <td>0.657865</td>\n      <td>0.794533</td>\n      <td>0.910</td>\n      <td>0.178741</td>\n      <td>0.041667</td>\n      <td>0.383966</td>\n      <td>0.954545</td>\n      <td>1.000000</td>\n      <td>0.148538</td>\n    </tr>\n    <tr>\n      <th>504</th>\n      <td>0.001232</td>\n      <td>0.00</td>\n      <td>0.430065</td>\n      <td>0.0</td>\n      <td>0.657865</td>\n      <td>0.773804</td>\n      <td>0.893</td>\n      <td>0.196998</td>\n      <td>0.041667</td>\n      <td>0.383966</td>\n      <td>0.954545</td>\n      <td>0.991308</td>\n      <td>0.170661</td>\n    </tr>\n    <tr>\n      <th>505</th>\n      <td>0.000533</td>\n      <td>0.00</td>\n      <td>0.430065</td>\n      <td>0.0</td>\n      <td>0.657865</td>\n      <td>0.686788</td>\n      <td>0.808</td>\n      <td>0.206572</td>\n      <td>0.041667</td>\n      <td>0.383966</td>\n      <td>0.954545</td>\n      <td>1.000000</td>\n      <td>0.207532</td>\n    </tr>\n  </tbody>\n</table>\n<p>506 rows × 13 columns</p>\n</div>"
     },
     "execution_count": 23,
     "metadata": {},
     "output_type": "execute_result"
    }
   ],
   "source": [
    "abs_transformer(data)"
   ],
   "metadata": {
    "collapsed": false,
    "pycharm": {
     "name": "#%%\n"
    }
   }
  },
  {
   "cell_type": "code",
   "execution_count": 25,
   "outputs": [
    {
     "data": {
      "text/plain": "array([[-0.04054122,  0.06636364, -0.31819678, ..., -0.14343335,\n         0.10135039, -0.20208226],\n       [-0.04030531, -0.11363636, -0.14660341, ..., -0.02979698,\n         0.10135039, -0.09252208],\n       [-0.04030554, -0.11363636, -0.14660341, ..., -0.02979698,\n         0.09109591, -0.22710201],\n       ...,\n       [-0.03992937, -0.11363636,  0.02859486, ...,  0.11565756,\n         0.10135039, -0.18470011],\n       [-0.03938057, -0.11363636,  0.02859486, ...,  0.11565756,\n         0.09265802, -0.16257738],\n       [-0.04007941, -0.11363636,  0.02859486, ...,  0.11565756,\n         0.10135039, -0.12570617]])"
     },
     "execution_count": 25,
     "metadata": {},
     "output_type": "execute_result"
    }
   ],
   "source": [
    "mean_scaler = StandardScaler(with_mean=True,with_std=False)\n",
    "abs_scaler = MaxAbsScaler()\n",
    "\n",
    "mean_scaler.fit(data)\n",
    "abs_scaler.fit(data)\n",
    "abs_scaler.transform(mean_scaler.transform(data))"
   ],
   "metadata": {
    "collapsed": false,
    "pycharm": {
     "name": "#%%\n"
    }
   }
  },
  {
   "cell_type": "code",
   "execution_count": null,
   "outputs": [],
   "source": [],
   "metadata": {
    "collapsed": false,
    "pycharm": {
     "name": "#%%\n"
    }
   }
  }
 ],
 "metadata": {
  "kernelspec": {
   "display_name": "Python 3",
   "language": "python",
   "name": "python3"
  },
  "language_info": {
   "codemirror_mode": {
    "name": "ipython",
    "version": 2
   },
   "file_extension": ".py",
   "mimetype": "text/x-python",
   "name": "python",
   "nbconvert_exporter": "python",
   "pygments_lexer": "ipython2",
   "version": "2.7.6"
  }
 },
 "nbformat": 4,
 "nbformat_minor": 0
}