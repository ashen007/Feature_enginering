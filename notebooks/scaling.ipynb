{
 "cells": [
  {
   "cell_type": "code",
   "execution_count": 35,
   "metadata": {
    "collapsed": true
   },
   "outputs": [],
   "source": [
    "import numpy as np\n",
    "import pandas as pd\n",
    "import scipy.stats as ss\n",
    "from sklearn.datasets import load_boston\n",
    "from sklearn.preprocessing import StandardScaler,RobustScaler,MinMaxScaler,MaxAbsScaler,Normalizer"
   ]
  },
  {
   "cell_type": "code",
   "execution_count": 3,
   "outputs": [
    {
     "data": {
      "text/plain": "        CRIM    ZN  INDUS  CHAS    NOX     RM   AGE     DIS  RAD    TAX  \\\n0    0.00632  18.0   2.31   0.0  0.538  6.575  65.2  4.0900  1.0  296.0   \n1    0.02731   0.0   7.07   0.0  0.469  6.421  78.9  4.9671  2.0  242.0   \n2    0.02729   0.0   7.07   0.0  0.469  7.185  61.1  4.9671  2.0  242.0   \n3    0.03237   0.0   2.18   0.0  0.458  6.998  45.8  6.0622  3.0  222.0   \n4    0.06905   0.0   2.18   0.0  0.458  7.147  54.2  6.0622  3.0  222.0   \n..       ...   ...    ...   ...    ...    ...   ...     ...  ...    ...   \n501  0.06263   0.0  11.93   0.0  0.573  6.593  69.1  2.4786  1.0  273.0   \n502  0.04527   0.0  11.93   0.0  0.573  6.120  76.7  2.2875  1.0  273.0   \n503  0.06076   0.0  11.93   0.0  0.573  6.976  91.0  2.1675  1.0  273.0   \n504  0.10959   0.0  11.93   0.0  0.573  6.794  89.3  2.3889  1.0  273.0   \n505  0.04741   0.0  11.93   0.0  0.573  6.030  80.8  2.5050  1.0  273.0   \n\n     PTRATIO       B  LSTAT  \n0       15.3  396.90   4.98  \n1       17.8  396.90   9.14  \n2       17.8  392.83   4.03  \n3       18.7  394.63   2.94  \n4       18.7  396.90   5.33  \n..       ...     ...    ...  \n501     21.0  391.99   9.67  \n502     21.0  396.90   9.08  \n503     21.0  396.90   5.64  \n504     21.0  393.45   6.48  \n505     21.0  396.90   7.88  \n\n[506 rows x 13 columns]",
      "text/html": "<div>\n<style scoped>\n    .dataframe tbody tr th:only-of-type {\n        vertical-align: middle;\n    }\n\n    .dataframe tbody tr th {\n        vertical-align: top;\n    }\n\n    .dataframe thead th {\n        text-align: right;\n    }\n</style>\n<table border=\"1\" class=\"dataframe\">\n  <thead>\n    <tr style=\"text-align: right;\">\n      <th></th>\n      <th>CRIM</th>\n      <th>ZN</th>\n      <th>INDUS</th>\n      <th>CHAS</th>\n      <th>NOX</th>\n      <th>RM</th>\n      <th>AGE</th>\n      <th>DIS</th>\n      <th>RAD</th>\n      <th>TAX</th>\n      <th>PTRATIO</th>\n      <th>B</th>\n      <th>LSTAT</th>\n    </tr>\n  </thead>\n  <tbody>\n    <tr>\n      <th>0</th>\n      <td>0.00632</td>\n      <td>18.0</td>\n      <td>2.31</td>\n      <td>0.0</td>\n      <td>0.538</td>\n      <td>6.575</td>\n      <td>65.2</td>\n      <td>4.0900</td>\n      <td>1.0</td>\n      <td>296.0</td>\n      <td>15.3</td>\n      <td>396.90</td>\n      <td>4.98</td>\n    </tr>\n    <tr>\n      <th>1</th>\n      <td>0.02731</td>\n      <td>0.0</td>\n      <td>7.07</td>\n      <td>0.0</td>\n      <td>0.469</td>\n      <td>6.421</td>\n      <td>78.9</td>\n      <td>4.9671</td>\n      <td>2.0</td>\n      <td>242.0</td>\n      <td>17.8</td>\n      <td>396.90</td>\n      <td>9.14</td>\n    </tr>\n    <tr>\n      <th>2</th>\n      <td>0.02729</td>\n      <td>0.0</td>\n      <td>7.07</td>\n      <td>0.0</td>\n      <td>0.469</td>\n      <td>7.185</td>\n      <td>61.1</td>\n      <td>4.9671</td>\n      <td>2.0</td>\n      <td>242.0</td>\n      <td>17.8</td>\n      <td>392.83</td>\n      <td>4.03</td>\n    </tr>\n    <tr>\n      <th>3</th>\n      <td>0.03237</td>\n      <td>0.0</td>\n      <td>2.18</td>\n      <td>0.0</td>\n      <td>0.458</td>\n      <td>6.998</td>\n      <td>45.8</td>\n      <td>6.0622</td>\n      <td>3.0</td>\n      <td>222.0</td>\n      <td>18.7</td>\n      <td>394.63</td>\n      <td>2.94</td>\n    </tr>\n    <tr>\n      <th>4</th>\n      <td>0.06905</td>\n      <td>0.0</td>\n      <td>2.18</td>\n      <td>0.0</td>\n      <td>0.458</td>\n      <td>7.147</td>\n      <td>54.2</td>\n      <td>6.0622</td>\n      <td>3.0</td>\n      <td>222.0</td>\n      <td>18.7</td>\n      <td>396.90</td>\n      <td>5.33</td>\n    </tr>\n    <tr>\n      <th>...</th>\n      <td>...</td>\n      <td>...</td>\n      <td>...</td>\n      <td>...</td>\n      <td>...</td>\n      <td>...</td>\n      <td>...</td>\n      <td>...</td>\n      <td>...</td>\n      <td>...</td>\n      <td>...</td>\n      <td>...</td>\n      <td>...</td>\n    </tr>\n    <tr>\n      <th>501</th>\n      <td>0.06263</td>\n      <td>0.0</td>\n      <td>11.93</td>\n      <td>0.0</td>\n      <td>0.573</td>\n      <td>6.593</td>\n      <td>69.1</td>\n      <td>2.4786</td>\n      <td>1.0</td>\n      <td>273.0</td>\n      <td>21.0</td>\n      <td>391.99</td>\n      <td>9.67</td>\n    </tr>\n    <tr>\n      <th>502</th>\n      <td>0.04527</td>\n      <td>0.0</td>\n      <td>11.93</td>\n      <td>0.0</td>\n      <td>0.573</td>\n      <td>6.120</td>\n      <td>76.7</td>\n      <td>2.2875</td>\n      <td>1.0</td>\n      <td>273.0</td>\n      <td>21.0</td>\n      <td>396.90</td>\n      <td>9.08</td>\n    </tr>\n    <tr>\n      <th>503</th>\n      <td>0.06076</td>\n      <td>0.0</td>\n      <td>11.93</td>\n      <td>0.0</td>\n      <td>0.573</td>\n      <td>6.976</td>\n      <td>91.0</td>\n      <td>2.1675</td>\n      <td>1.0</td>\n      <td>273.0</td>\n      <td>21.0</td>\n      <td>396.90</td>\n      <td>5.64</td>\n    </tr>\n    <tr>\n      <th>504</th>\n      <td>0.10959</td>\n      <td>0.0</td>\n      <td>11.93</td>\n      <td>0.0</td>\n      <td>0.573</td>\n      <td>6.794</td>\n      <td>89.3</td>\n      <td>2.3889</td>\n      <td>1.0</td>\n      <td>273.0</td>\n      <td>21.0</td>\n      <td>393.45</td>\n      <td>6.48</td>\n    </tr>\n    <tr>\n      <th>505</th>\n      <td>0.04741</td>\n      <td>0.0</td>\n      <td>11.93</td>\n      <td>0.0</td>\n      <td>0.573</td>\n      <td>6.030</td>\n      <td>80.8</td>\n      <td>2.5050</td>\n      <td>1.0</td>\n      <td>273.0</td>\n      <td>21.0</td>\n      <td>396.90</td>\n      <td>7.88</td>\n    </tr>\n  </tbody>\n</table>\n<p>506 rows × 13 columns</p>\n</div>"
     },
     "execution_count": 3,
     "metadata": {},
     "output_type": "execute_result"
    }
   ],
   "source": [
    "data_set = load_boston()\n",
    "data = pd.DataFrame(data_set['data'],columns=data_set['feature_names'])\n",
    "data"
   ],
   "metadata": {
    "collapsed": false,
    "pycharm": {
     "name": "#%%\n"
    }
   }
  },
  {
   "cell_type": "markdown",
   "source": [
    "## Standardizing the features\n",
    "Standardization is the process of centering the variable at zero and standardizing the variance to 1."
   ],
   "metadata": {
    "collapsed": false,
    "pycharm": {
     "name": "#%% md\n"
    }
   }
  },
  {
   "cell_type": "code",
   "execution_count": 4,
   "outputs": [
    {
     "data": {
      "text/plain": "StandardScaler()"
     },
     "execution_count": 4,
     "metadata": {},
     "output_type": "execute_result"
    }
   ],
   "source": [
    "scaler = StandardScaler()\n",
    "scaler.fit(data)"
   ],
   "metadata": {
    "collapsed": false,
    "pycharm": {
     "name": "#%%\n"
    }
   }
  },
  {
   "cell_type": "code",
   "execution_count": 5,
   "outputs": [
    {
     "data": {
      "text/plain": "array([8.59304135e+00, 2.32993957e+01, 6.85357058e+00, 2.53742935e-01,\n       1.15763115e-01, 7.01922514e-01, 2.81210326e+01, 2.10362836e+00,\n       8.69865112e+00, 1.68370495e+02, 2.16280519e+00, 9.12046075e+01,\n       7.13400164e+00])"
     },
     "execution_count": 5,
     "metadata": {},
     "output_type": "execute_result"
    }
   ],
   "source": [
    "scaler.scale_"
   ],
   "metadata": {
    "collapsed": false,
    "pycharm": {
     "name": "#%%\n"
    }
   }
  },
  {
   "cell_type": "code",
   "execution_count": 6,
   "outputs": [
    {
     "data": {
      "text/plain": "array([[-0.41978194,  0.28482986, -1.2879095 , ..., -1.45900038,\n         0.44105193, -1.0755623 ],\n       [-0.41733926, -0.48772236, -0.59338101, ..., -0.30309415,\n         0.44105193, -0.49243937],\n       [-0.41734159, -0.48772236, -0.59338101, ..., -0.30309415,\n         0.39642699, -1.2087274 ],\n       ...,\n       [-0.41344658, -0.48772236,  0.11573841, ...,  1.17646583,\n         0.44105193, -0.98304761],\n       [-0.40776407, -0.48772236,  0.11573841, ...,  1.17646583,\n         0.4032249 , -0.86530163],\n       [-0.41500016, -0.48772236,  0.11573841, ...,  1.17646583,\n         0.44105193, -0.66905833]])"
     },
     "execution_count": 6,
     "metadata": {},
     "output_type": "execute_result"
    }
   ],
   "source": [
    "scaler.transform(data)"
   ],
   "metadata": {
    "collapsed": false,
    "pycharm": {
     "name": "#%%\n"
    }
   }
  },
  {
   "cell_type": "markdown",
   "source": [
    "## Performing mean normalization\n",
    "In mean normalization, we center the variable at zero and rescale the distribution to the value range. This procedure\n",
    "involves subtracting the mean from each observation and then dividing the result by the difference between the minimum\n",
    "and maximum values."
   ],
   "metadata": {
    "collapsed": false,
    "pycharm": {
     "name": "#%% md\n"
    }
   }
  },
  {
   "cell_type": "code",
   "execution_count": 7,
   "outputs": [],
   "source": [
    "def mean_normalizer(dataframe):\n",
    "    norm_data = pd.DataFrame()\n",
    "    for col in dataframe:\n",
    "        col_mean = np.mean(dataframe[col])\n",
    "        col_min = np.min(dataframe[col])\n",
    "        col_max = np.max(dataframe[col])\n",
    "        norm_data[col] = (dataframe[col] - col_mean)/(col_max - col_min)\n",
    "\n",
    "    return norm_data"
   ],
   "metadata": {
    "collapsed": false,
    "pycharm": {
     "name": "#%%\n"
    }
   }
  },
  {
   "cell_type": "code",
   "execution_count": 8,
   "outputs": [
    {
     "data": {
      "text/plain": "         CRIM        ZN     INDUS     CHAS       NOX        RM       AGE  \\\n0   -0.040544  0.066364 -0.323562 -0.06917 -0.034352  0.055636 -0.034757   \n1   -0.040308 -0.113636 -0.149075 -0.06917 -0.176327  0.026129  0.106335   \n2   -0.040308 -0.113636 -0.149075 -0.06917 -0.176327  0.172517 -0.076981   \n3   -0.040251 -0.113636 -0.328328 -0.06917 -0.198961  0.136686 -0.234551   \n4   -0.039839 -0.113636 -0.328328 -0.06917 -0.198961  0.165236 -0.148042   \n..        ...       ...       ...      ...       ...       ...       ...   \n501 -0.039911 -0.113636  0.029077 -0.06917  0.037664  0.059085  0.005408   \n502 -0.040106 -0.113636  0.029077 -0.06917  0.037664 -0.031545  0.083678   \n503 -0.039932 -0.113636  0.029077 -0.06917  0.037664  0.132471  0.230948   \n504 -0.039383 -0.113636  0.029077 -0.06917  0.037664  0.097598  0.213441   \n505 -0.040082 -0.113636  0.029077 -0.06917  0.037664 -0.048790  0.125902   \n\n          DIS       RAD       TAX   PTRATIO         B     LSTAT  \n0    0.026822 -0.371713 -0.214193 -0.335695  0.101432 -0.211729  \n1    0.106581 -0.328235 -0.317246 -0.069738  0.101432 -0.096939  \n2    0.106581 -0.328235 -0.317246 -0.069738  0.091169 -0.237943  \n3    0.206163 -0.284757 -0.355414  0.026007  0.095708 -0.268021  \n4    0.206163 -0.284757 -0.355414  0.026007  0.101432 -0.202071  \n..        ...       ...       ...       ...       ...       ...  \n501 -0.119710 -0.371713 -0.258086  0.270688  0.089051 -0.082314  \n502 -0.137088 -0.371713 -0.258086  0.270688  0.101432 -0.098594  \n503 -0.148000 -0.371713 -0.258086  0.270688  0.101432 -0.193517  \n504 -0.127867 -0.371713 -0.258086  0.270688  0.092733 -0.170338  \n505 -0.117310 -0.371713 -0.258086  0.270688  0.101432 -0.131707  \n\n[506 rows x 13 columns]",
      "text/html": "<div>\n<style scoped>\n    .dataframe tbody tr th:only-of-type {\n        vertical-align: middle;\n    }\n\n    .dataframe tbody tr th {\n        vertical-align: top;\n    }\n\n    .dataframe thead th {\n        text-align: right;\n    }\n</style>\n<table border=\"1\" class=\"dataframe\">\n  <thead>\n    <tr style=\"text-align: right;\">\n      <th></th>\n      <th>CRIM</th>\n      <th>ZN</th>\n      <th>INDUS</th>\n      <th>CHAS</th>\n      <th>NOX</th>\n      <th>RM</th>\n      <th>AGE</th>\n      <th>DIS</th>\n      <th>RAD</th>\n      <th>TAX</th>\n      <th>PTRATIO</th>\n      <th>B</th>\n      <th>LSTAT</th>\n    </tr>\n  </thead>\n  <tbody>\n    <tr>\n      <th>0</th>\n      <td>-0.040544</td>\n      <td>0.066364</td>\n      <td>-0.323562</td>\n      <td>-0.06917</td>\n      <td>-0.034352</td>\n      <td>0.055636</td>\n      <td>-0.034757</td>\n      <td>0.026822</td>\n      <td>-0.371713</td>\n      <td>-0.214193</td>\n      <td>-0.335695</td>\n      <td>0.101432</td>\n      <td>-0.211729</td>\n    </tr>\n    <tr>\n      <th>1</th>\n      <td>-0.040308</td>\n      <td>-0.113636</td>\n      <td>-0.149075</td>\n      <td>-0.06917</td>\n      <td>-0.176327</td>\n      <td>0.026129</td>\n      <td>0.106335</td>\n      <td>0.106581</td>\n      <td>-0.328235</td>\n      <td>-0.317246</td>\n      <td>-0.069738</td>\n      <td>0.101432</td>\n      <td>-0.096939</td>\n    </tr>\n    <tr>\n      <th>2</th>\n      <td>-0.040308</td>\n      <td>-0.113636</td>\n      <td>-0.149075</td>\n      <td>-0.06917</td>\n      <td>-0.176327</td>\n      <td>0.172517</td>\n      <td>-0.076981</td>\n      <td>0.106581</td>\n      <td>-0.328235</td>\n      <td>-0.317246</td>\n      <td>-0.069738</td>\n      <td>0.091169</td>\n      <td>-0.237943</td>\n    </tr>\n    <tr>\n      <th>3</th>\n      <td>-0.040251</td>\n      <td>-0.113636</td>\n      <td>-0.328328</td>\n      <td>-0.06917</td>\n      <td>-0.198961</td>\n      <td>0.136686</td>\n      <td>-0.234551</td>\n      <td>0.206163</td>\n      <td>-0.284757</td>\n      <td>-0.355414</td>\n      <td>0.026007</td>\n      <td>0.095708</td>\n      <td>-0.268021</td>\n    </tr>\n    <tr>\n      <th>4</th>\n      <td>-0.039839</td>\n      <td>-0.113636</td>\n      <td>-0.328328</td>\n      <td>-0.06917</td>\n      <td>-0.198961</td>\n      <td>0.165236</td>\n      <td>-0.148042</td>\n      <td>0.206163</td>\n      <td>-0.284757</td>\n      <td>-0.355414</td>\n      <td>0.026007</td>\n      <td>0.101432</td>\n      <td>-0.202071</td>\n    </tr>\n    <tr>\n      <th>...</th>\n      <td>...</td>\n      <td>...</td>\n      <td>...</td>\n      <td>...</td>\n      <td>...</td>\n      <td>...</td>\n      <td>...</td>\n      <td>...</td>\n      <td>...</td>\n      <td>...</td>\n      <td>...</td>\n      <td>...</td>\n      <td>...</td>\n    </tr>\n    <tr>\n      <th>501</th>\n      <td>-0.039911</td>\n      <td>-0.113636</td>\n      <td>0.029077</td>\n      <td>-0.06917</td>\n      <td>0.037664</td>\n      <td>0.059085</td>\n      <td>0.005408</td>\n      <td>-0.119710</td>\n      <td>-0.371713</td>\n      <td>-0.258086</td>\n      <td>0.270688</td>\n      <td>0.089051</td>\n      <td>-0.082314</td>\n    </tr>\n    <tr>\n      <th>502</th>\n      <td>-0.040106</td>\n      <td>-0.113636</td>\n      <td>0.029077</td>\n      <td>-0.06917</td>\n      <td>0.037664</td>\n      <td>-0.031545</td>\n      <td>0.083678</td>\n      <td>-0.137088</td>\n      <td>-0.371713</td>\n      <td>-0.258086</td>\n      <td>0.270688</td>\n      <td>0.101432</td>\n      <td>-0.098594</td>\n    </tr>\n    <tr>\n      <th>503</th>\n      <td>-0.039932</td>\n      <td>-0.113636</td>\n      <td>0.029077</td>\n      <td>-0.06917</td>\n      <td>0.037664</td>\n      <td>0.132471</td>\n      <td>0.230948</td>\n      <td>-0.148000</td>\n      <td>-0.371713</td>\n      <td>-0.258086</td>\n      <td>0.270688</td>\n      <td>0.101432</td>\n      <td>-0.193517</td>\n    </tr>\n    <tr>\n      <th>504</th>\n      <td>-0.039383</td>\n      <td>-0.113636</td>\n      <td>0.029077</td>\n      <td>-0.06917</td>\n      <td>0.037664</td>\n      <td>0.097598</td>\n      <td>0.213441</td>\n      <td>-0.127867</td>\n      <td>-0.371713</td>\n      <td>-0.258086</td>\n      <td>0.270688</td>\n      <td>0.092733</td>\n      <td>-0.170338</td>\n    </tr>\n    <tr>\n      <th>505</th>\n      <td>-0.040082</td>\n      <td>-0.113636</td>\n      <td>0.029077</td>\n      <td>-0.06917</td>\n      <td>0.037664</td>\n      <td>-0.048790</td>\n      <td>0.125902</td>\n      <td>-0.117310</td>\n      <td>-0.371713</td>\n      <td>-0.258086</td>\n      <td>0.270688</td>\n      <td>0.101432</td>\n      <td>-0.131707</td>\n    </tr>\n  </tbody>\n</table>\n<p>506 rows × 13 columns</p>\n</div>"
     },
     "execution_count": 8,
     "metadata": {},
     "output_type": "execute_result"
    }
   ],
   "source": [
    "mean_normalizer(data)"
   ],
   "metadata": {
    "collapsed": false,
    "pycharm": {
     "name": "#%%\n"
    }
   }
  },
  {
   "cell_type": "code",
   "execution_count": 9,
   "outputs": [
    {
     "data": {
      "text/plain": "array([3.61352356e+00, 1.13636364e+01, 1.11367787e+01, 6.91699605e-02,\n       5.54695059e-01, 6.28463439e+00, 6.85749012e+01, 3.79504269e+00,\n       9.54940711e+00, 4.08237154e+02, 1.84555336e+01, 3.56674032e+02,\n       1.26530632e+01])"
     },
     "execution_count": 9,
     "metadata": {},
     "output_type": "execute_result"
    }
   ],
   "source": [
    "mean_scaler = StandardScaler(with_mean=True,with_std=False)\n",
    "mean_scaler.fit(data)\n",
    "mean_scaler.mean_"
   ],
   "metadata": {
    "collapsed": false,
    "pycharm": {
     "name": "#%%\n"
    }
   }
  },
  {
   "cell_type": "code",
   "execution_count": 10,
   "outputs": [
    {
     "data": {
      "text/plain": "array([[ -3.60720356,   6.63636364,  -8.82677866, ...,  -3.1555336 ,\n         40.22596838,  -7.67306324],\n       [ -3.58621356, -11.36363636,  -4.06677866, ...,  -0.6555336 ,\n         40.22596838,  -3.51306324],\n       [ -3.58623356, -11.36363636,  -4.06677866, ...,  -0.6555336 ,\n         36.15596838,  -8.62306324],\n       ...,\n       [ -3.55276356, -11.36363636,   0.79322134, ...,   2.5444664 ,\n         40.22596838,  -7.01306324],\n       [ -3.50393356, -11.36363636,   0.79322134, ...,   2.5444664 ,\n         36.77596838,  -6.17306324],\n       [ -3.56611356, -11.36363636,   0.79322134, ...,   2.5444664 ,\n         40.22596838,  -4.77306324]])"
     },
     "execution_count": 10,
     "metadata": {},
     "output_type": "execute_result"
    }
   ],
   "source": [
    "mean_scaler.transform(data)"
   ],
   "metadata": {
    "collapsed": false,
    "pycharm": {
     "name": "#%%\n"
    }
   }
  },
  {
   "cell_type": "code",
   "execution_count": 11,
   "outputs": [
    {
     "data": {
      "text/plain": "array([8.896988e+01, 1.000000e+02, 2.728000e+01, 1.000000e+00,\n       4.860000e-01, 5.219000e+00, 9.710000e+01, 1.099690e+01,\n       2.300000e+01, 5.240000e+02, 9.400000e+00, 3.965800e+02,\n       3.624000e+01])"
     },
     "execution_count": 11,
     "metadata": {},
     "output_type": "execute_result"
    }
   ],
   "source": [
    "range_scaler = RobustScaler(with_centering=False,with_scaling=True,quantile_range=(0,100))\n",
    "range_scaler.fit(data)\n",
    "range_scaler.scale_"
   ],
   "metadata": {
    "collapsed": false,
    "pycharm": {
     "name": "#%%\n"
    }
   }
  },
  {
   "cell_type": "code",
   "execution_count": 12,
   "outputs": [
    {
     "data": {
      "text/plain": "array([[7.10352762e-05, 1.80000000e-01, 8.46774194e-02, ...,\n        1.62765957e+00, 1.00080690e+00, 1.37417219e-01],\n       [3.06957815e-04, 0.00000000e+00, 2.59164223e-01, ...,\n        1.89361702e+00, 1.00080690e+00, 2.52207506e-01],\n       [3.06733020e-04, 0.00000000e+00, 2.59164223e-01, ...,\n        1.89361702e+00, 9.90544153e-01, 1.11203091e-01],\n       ...,\n       [6.82927750e-04, 0.00000000e+00, 4.37316716e-01, ...,\n        2.23404255e+00, 1.00080690e+00, 1.55629139e-01],\n       [1.23176518e-03, 0.00000000e+00, 4.37316716e-01, ...,\n        2.23404255e+00, 9.92107519e-01, 1.78807947e-01],\n       [5.32876969e-04, 0.00000000e+00, 4.37316716e-01, ...,\n        2.23404255e+00, 1.00080690e+00, 2.17439294e-01]])"
     },
     "execution_count": 12,
     "metadata": {},
     "output_type": "execute_result"
    }
   ],
   "source": [
    "range_scaler.transform(data)"
   ],
   "metadata": {
    "collapsed": false,
    "pycharm": {
     "name": "#%%\n"
    }
   }
  },
  {
   "cell_type": "code",
   "execution_count": 13,
   "outputs": [
    {
     "data": {
      "text/plain": "array([[-0.0405441 ,  0.06636364, -0.32356227, ..., -0.33569506,\n         0.10143217, -0.21172912],\n       [-0.04030818, -0.11363636, -0.14907546, ..., -0.06973762,\n         0.10143217, -0.09693883],\n       [-0.0403084 , -0.11363636, -0.14907546, ..., -0.06973762,\n         0.09116942, -0.23794325],\n       ...,\n       [-0.03993221, -0.11363636,  0.02907703, ...,  0.27068792,\n         0.10143217, -0.1935172 ],\n       [-0.03938337, -0.11363636,  0.02907703, ...,  0.27068792,\n         0.09273279, -0.17033839],\n       [-0.04008226, -0.11363636,  0.02907703, ...,  0.27068792,\n         0.10143217, -0.13170704]])"
     },
     "execution_count": 13,
     "metadata": {},
     "output_type": "execute_result"
    }
   ],
   "source": [
    "range_scaler.transform(mean_scaler.transform(data))"
   ],
   "metadata": {
    "collapsed": false,
    "pycharm": {
     "name": "#%%\n"
    }
   }
  },
  {
   "cell_type": "markdown",
   "source": [
    "## Scaling to the maximum and minimum values\n",
    "Scaling to the minimum and maximum values squeezes the values of the variables between 0 and 1. To implement this\n",
    "scaling technique, we need to subtract the minimum value from all the observations and divide the result by the\n",
    "value range."
   ],
   "metadata": {
    "collapsed": false,
    "pycharm": {
     "name": "#%% md\n"
    }
   }
  },
  {
   "cell_type": "code",
   "execution_count": 15,
   "outputs": [],
   "source": [
    "def minmax_normalizer(dataframe):\n",
    "    norm_data = pd.DataFrame()\n",
    "    for col in dataframe:\n",
    "        col_min = np.min(dataframe[col])\n",
    "        col_max = np.max(dataframe[col])\n",
    "        norm_data[col] = (dataframe[col] - col_min)/(col_max - col_min)\n",
    "\n",
    "    return norm_data"
   ],
   "metadata": {
    "collapsed": false,
    "pycharm": {
     "name": "#%%\n"
    }
   }
  },
  {
   "cell_type": "code",
   "execution_count": 16,
   "outputs": [
    {
     "data": {
      "text/plain": "         CRIM    ZN     INDUS  CHAS       NOX        RM       AGE       DIS  \\\n0    0.000000  0.18  0.067815   0.0  0.314815  0.577505  0.641607  0.269203   \n1    0.000236  0.00  0.242302   0.0  0.172840  0.547998  0.782698  0.348962   \n2    0.000236  0.00  0.242302   0.0  0.172840  0.694386  0.599382  0.348962   \n3    0.000293  0.00  0.063050   0.0  0.150206  0.658555  0.441813  0.448545   \n4    0.000705  0.00  0.063050   0.0  0.150206  0.687105  0.528321  0.448545   \n..        ...   ...       ...   ...       ...       ...       ...       ...   \n501  0.000633  0.00  0.420455   0.0  0.386831  0.580954  0.681771  0.122671   \n502  0.000438  0.00  0.420455   0.0  0.386831  0.490324  0.760041  0.105293   \n503  0.000612  0.00  0.420455   0.0  0.386831  0.654340  0.907312  0.094381   \n504  0.001161  0.00  0.420455   0.0  0.386831  0.619467  0.889804  0.114514   \n505  0.000462  0.00  0.420455   0.0  0.386831  0.473079  0.802266  0.125072   \n\n          RAD       TAX   PTRATIO         B     LSTAT  \n0    0.000000  0.208015  0.287234  1.000000  0.089680  \n1    0.043478  0.104962  0.553191  1.000000  0.204470  \n2    0.043478  0.104962  0.553191  0.989737  0.063466  \n3    0.086957  0.066794  0.648936  0.994276  0.033389  \n4    0.086957  0.066794  0.648936  1.000000  0.099338  \n..        ...       ...       ...       ...       ...  \n501  0.000000  0.164122  0.893617  0.987619  0.219095  \n502  0.000000  0.164122  0.893617  1.000000  0.202815  \n503  0.000000  0.164122  0.893617  1.000000  0.107892  \n504  0.000000  0.164122  0.893617  0.991301  0.131071  \n505  0.000000  0.164122  0.893617  1.000000  0.169702  \n\n[506 rows x 13 columns]",
      "text/html": "<div>\n<style scoped>\n    .dataframe tbody tr th:only-of-type {\n        vertical-align: middle;\n    }\n\n    .dataframe tbody tr th {\n        vertical-align: top;\n    }\n\n    .dataframe thead th {\n        text-align: right;\n    }\n</style>\n<table border=\"1\" class=\"dataframe\">\n  <thead>\n    <tr style=\"text-align: right;\">\n      <th></th>\n      <th>CRIM</th>\n      <th>ZN</th>\n      <th>INDUS</th>\n      <th>CHAS</th>\n      <th>NOX</th>\n      <th>RM</th>\n      <th>AGE</th>\n      <th>DIS</th>\n      <th>RAD</th>\n      <th>TAX</th>\n      <th>PTRATIO</th>\n      <th>B</th>\n      <th>LSTAT</th>\n    </tr>\n  </thead>\n  <tbody>\n    <tr>\n      <th>0</th>\n      <td>0.000000</td>\n      <td>0.18</td>\n      <td>0.067815</td>\n      <td>0.0</td>\n      <td>0.314815</td>\n      <td>0.577505</td>\n      <td>0.641607</td>\n      <td>0.269203</td>\n      <td>0.000000</td>\n      <td>0.208015</td>\n      <td>0.287234</td>\n      <td>1.000000</td>\n      <td>0.089680</td>\n    </tr>\n    <tr>\n      <th>1</th>\n      <td>0.000236</td>\n      <td>0.00</td>\n      <td>0.242302</td>\n      <td>0.0</td>\n      <td>0.172840</td>\n      <td>0.547998</td>\n      <td>0.782698</td>\n      <td>0.348962</td>\n      <td>0.043478</td>\n      <td>0.104962</td>\n      <td>0.553191</td>\n      <td>1.000000</td>\n      <td>0.204470</td>\n    </tr>\n    <tr>\n      <th>2</th>\n      <td>0.000236</td>\n      <td>0.00</td>\n      <td>0.242302</td>\n      <td>0.0</td>\n      <td>0.172840</td>\n      <td>0.694386</td>\n      <td>0.599382</td>\n      <td>0.348962</td>\n      <td>0.043478</td>\n      <td>0.104962</td>\n      <td>0.553191</td>\n      <td>0.989737</td>\n      <td>0.063466</td>\n    </tr>\n    <tr>\n      <th>3</th>\n      <td>0.000293</td>\n      <td>0.00</td>\n      <td>0.063050</td>\n      <td>0.0</td>\n      <td>0.150206</td>\n      <td>0.658555</td>\n      <td>0.441813</td>\n      <td>0.448545</td>\n      <td>0.086957</td>\n      <td>0.066794</td>\n      <td>0.648936</td>\n      <td>0.994276</td>\n      <td>0.033389</td>\n    </tr>\n    <tr>\n      <th>4</th>\n      <td>0.000705</td>\n      <td>0.00</td>\n      <td>0.063050</td>\n      <td>0.0</td>\n      <td>0.150206</td>\n      <td>0.687105</td>\n      <td>0.528321</td>\n      <td>0.448545</td>\n      <td>0.086957</td>\n      <td>0.066794</td>\n      <td>0.648936</td>\n      <td>1.000000</td>\n      <td>0.099338</td>\n    </tr>\n    <tr>\n      <th>...</th>\n      <td>...</td>\n      <td>...</td>\n      <td>...</td>\n      <td>...</td>\n      <td>...</td>\n      <td>...</td>\n      <td>...</td>\n      <td>...</td>\n      <td>...</td>\n      <td>...</td>\n      <td>...</td>\n      <td>...</td>\n      <td>...</td>\n    </tr>\n    <tr>\n      <th>501</th>\n      <td>0.000633</td>\n      <td>0.00</td>\n      <td>0.420455</td>\n      <td>0.0</td>\n      <td>0.386831</td>\n      <td>0.580954</td>\n      <td>0.681771</td>\n      <td>0.122671</td>\n      <td>0.000000</td>\n      <td>0.164122</td>\n      <td>0.893617</td>\n      <td>0.987619</td>\n      <td>0.219095</td>\n    </tr>\n    <tr>\n      <th>502</th>\n      <td>0.000438</td>\n      <td>0.00</td>\n      <td>0.420455</td>\n      <td>0.0</td>\n      <td>0.386831</td>\n      <td>0.490324</td>\n      <td>0.760041</td>\n      <td>0.105293</td>\n      <td>0.000000</td>\n      <td>0.164122</td>\n      <td>0.893617</td>\n      <td>1.000000</td>\n      <td>0.202815</td>\n    </tr>\n    <tr>\n      <th>503</th>\n      <td>0.000612</td>\n      <td>0.00</td>\n      <td>0.420455</td>\n      <td>0.0</td>\n      <td>0.386831</td>\n      <td>0.654340</td>\n      <td>0.907312</td>\n      <td>0.094381</td>\n      <td>0.000000</td>\n      <td>0.164122</td>\n      <td>0.893617</td>\n      <td>1.000000</td>\n      <td>0.107892</td>\n    </tr>\n    <tr>\n      <th>504</th>\n      <td>0.001161</td>\n      <td>0.00</td>\n      <td>0.420455</td>\n      <td>0.0</td>\n      <td>0.386831</td>\n      <td>0.619467</td>\n      <td>0.889804</td>\n      <td>0.114514</td>\n      <td>0.000000</td>\n      <td>0.164122</td>\n      <td>0.893617</td>\n      <td>0.991301</td>\n      <td>0.131071</td>\n    </tr>\n    <tr>\n      <th>505</th>\n      <td>0.000462</td>\n      <td>0.00</td>\n      <td>0.420455</td>\n      <td>0.0</td>\n      <td>0.386831</td>\n      <td>0.473079</td>\n      <td>0.802266</td>\n      <td>0.125072</td>\n      <td>0.000000</td>\n      <td>0.164122</td>\n      <td>0.893617</td>\n      <td>1.000000</td>\n      <td>0.169702</td>\n    </tr>\n  </tbody>\n</table>\n<p>506 rows × 13 columns</p>\n</div>"
     },
     "execution_count": 16,
     "metadata": {},
     "output_type": "execute_result"
    }
   ],
   "source": [
    "minmax_normalizer(data)"
   ],
   "metadata": {
    "collapsed": false,
    "pycharm": {
     "name": "#%%\n"
    }
   }
  },
  {
   "cell_type": "code",
   "execution_count": 18,
   "outputs": [
    {
     "data": {
      "text/plain": "array([1.12397589e-02, 1.00000000e-02, 3.66568915e-02, 1.00000000e+00,\n       2.05761317e+00, 1.91607588e-01, 1.02986612e-02, 9.09347180e-02,\n       4.34782609e-02, 1.90839695e-03, 1.06382979e-01, 2.52155933e-03,\n       2.75938190e-02])"
     },
     "execution_count": 18,
     "metadata": {},
     "output_type": "execute_result"
    }
   ],
   "source": [
    "scaler = MinMaxScaler()\n",
    "scaler.fit(data)\n",
    "scaler.scale_"
   ],
   "metadata": {
    "collapsed": false,
    "pycharm": {
     "name": "#%%\n"
    }
   }
  },
  {
   "cell_type": "code",
   "execution_count": 19,
   "outputs": [
    {
     "data": {
      "text/plain": "array([[0.00000000e+00, 1.80000000e-01, 6.78152493e-02, ...,\n        2.87234043e-01, 1.00000000e+00, 8.96799117e-02],\n       [2.35922539e-04, 0.00000000e+00, 2.42302053e-01, ...,\n        5.53191489e-01, 1.00000000e+00, 2.04470199e-01],\n       [2.35697744e-04, 0.00000000e+00, 2.42302053e-01, ...,\n        5.53191489e-01, 9.89737254e-01, 6.34657837e-02],\n       ...,\n       [6.11892474e-04, 0.00000000e+00, 4.20454545e-01, ...,\n        8.93617021e-01, 1.00000000e+00, 1.07891832e-01],\n       [1.16072990e-03, 0.00000000e+00, 4.20454545e-01, ...,\n        8.93617021e-01, 9.91300620e-01, 1.31070640e-01],\n       [4.61841693e-04, 0.00000000e+00, 4.20454545e-01, ...,\n        8.93617021e-01, 1.00000000e+00, 1.69701987e-01]])"
     },
     "execution_count": 19,
     "metadata": {},
     "output_type": "execute_result"
    }
   ],
   "source": [
    "scaler.transform(data)"
   ],
   "metadata": {
    "collapsed": false,
    "pycharm": {
     "name": "#%%\n"
    }
   }
  },
  {
   "cell_type": "markdown",
   "source": [
    "## Implementing maximum absolute scaling\n",
    "Maximum absolute scaling scales the data to its maximum value; that is, it divides every observation by the maximum\n",
    "value of the variable"
   ],
   "metadata": {
    "collapsed": false,
    "pycharm": {
     "name": "#%% md\n"
    }
   }
  },
  {
   "cell_type": "code",
   "execution_count": 22,
   "outputs": [],
   "source": [
    "def abs_transformer(dataframe):\n",
    "    norm_data = pd.DataFrame()\n",
    "    for col in dataframe:\n",
    "        col_max = np.max(dataframe[col])\n",
    "        norm_data[col] = dataframe[col]/col_max\n",
    "\n",
    "    return norm_data"
   ],
   "metadata": {
    "collapsed": false,
    "pycharm": {
     "name": "#%%\n"
    }
   }
  },
  {
   "cell_type": "code",
   "execution_count": 23,
   "outputs": [
    {
     "data": {
      "text/plain": "         CRIM    ZN     INDUS  CHAS       NOX        RM    AGE       DIS  \\\n0    0.000071  0.18  0.083273   0.0  0.617681  0.748861  0.652  0.337278   \n1    0.000307  0.00  0.254867   0.0  0.538462  0.731321  0.789  0.409607   \n2    0.000307  0.00  0.254867   0.0  0.538462  0.818337  0.611  0.409607   \n3    0.000364  0.00  0.078587   0.0  0.525832  0.797039  0.458  0.499913   \n4    0.000776  0.00  0.078587   0.0  0.525832  0.814009  0.542  0.499913   \n..        ...   ...       ...   ...       ...       ...    ...       ...   \n501  0.000704  0.00  0.430065   0.0  0.657865  0.750911  0.691  0.204395   \n502  0.000509  0.00  0.430065   0.0  0.657865  0.697039  0.767  0.188636   \n503  0.000683  0.00  0.430065   0.0  0.657865  0.794533  0.910  0.178741   \n504  0.001232  0.00  0.430065   0.0  0.657865  0.773804  0.893  0.196998   \n505  0.000533  0.00  0.430065   0.0  0.657865  0.686788  0.808  0.206572   \n\n          RAD       TAX   PTRATIO         B     LSTAT  \n0    0.041667  0.416315  0.695455  1.000000  0.131156  \n1    0.083333  0.340366  0.809091  1.000000  0.240716  \n2    0.083333  0.340366  0.809091  0.989746  0.106136  \n3    0.125000  0.312236  0.850000  0.994281  0.077430  \n4    0.125000  0.312236  0.850000  1.000000  0.140374  \n..        ...       ...       ...       ...       ...  \n501  0.041667  0.383966  0.954545  0.987629  0.254675  \n502  0.041667  0.383966  0.954545  1.000000  0.239136  \n503  0.041667  0.383966  0.954545  1.000000  0.148538  \n504  0.041667  0.383966  0.954545  0.991308  0.170661  \n505  0.041667  0.383966  0.954545  1.000000  0.207532  \n\n[506 rows x 13 columns]",
      "text/html": "<div>\n<style scoped>\n    .dataframe tbody tr th:only-of-type {\n        vertical-align: middle;\n    }\n\n    .dataframe tbody tr th {\n        vertical-align: top;\n    }\n\n    .dataframe thead th {\n        text-align: right;\n    }\n</style>\n<table border=\"1\" class=\"dataframe\">\n  <thead>\n    <tr style=\"text-align: right;\">\n      <th></th>\n      <th>CRIM</th>\n      <th>ZN</th>\n      <th>INDUS</th>\n      <th>CHAS</th>\n      <th>NOX</th>\n      <th>RM</th>\n      <th>AGE</th>\n      <th>DIS</th>\n      <th>RAD</th>\n      <th>TAX</th>\n      <th>PTRATIO</th>\n      <th>B</th>\n      <th>LSTAT</th>\n    </tr>\n  </thead>\n  <tbody>\n    <tr>\n      <th>0</th>\n      <td>0.000071</td>\n      <td>0.18</td>\n      <td>0.083273</td>\n      <td>0.0</td>\n      <td>0.617681</td>\n      <td>0.748861</td>\n      <td>0.652</td>\n      <td>0.337278</td>\n      <td>0.041667</td>\n      <td>0.416315</td>\n      <td>0.695455</td>\n      <td>1.000000</td>\n      <td>0.131156</td>\n    </tr>\n    <tr>\n      <th>1</th>\n      <td>0.000307</td>\n      <td>0.00</td>\n      <td>0.254867</td>\n      <td>0.0</td>\n      <td>0.538462</td>\n      <td>0.731321</td>\n      <td>0.789</td>\n      <td>0.409607</td>\n      <td>0.083333</td>\n      <td>0.340366</td>\n      <td>0.809091</td>\n      <td>1.000000</td>\n      <td>0.240716</td>\n    </tr>\n    <tr>\n      <th>2</th>\n      <td>0.000307</td>\n      <td>0.00</td>\n      <td>0.254867</td>\n      <td>0.0</td>\n      <td>0.538462</td>\n      <td>0.818337</td>\n      <td>0.611</td>\n      <td>0.409607</td>\n      <td>0.083333</td>\n      <td>0.340366</td>\n      <td>0.809091</td>\n      <td>0.989746</td>\n      <td>0.106136</td>\n    </tr>\n    <tr>\n      <th>3</th>\n      <td>0.000364</td>\n      <td>0.00</td>\n      <td>0.078587</td>\n      <td>0.0</td>\n      <td>0.525832</td>\n      <td>0.797039</td>\n      <td>0.458</td>\n      <td>0.499913</td>\n      <td>0.125000</td>\n      <td>0.312236</td>\n      <td>0.850000</td>\n      <td>0.994281</td>\n      <td>0.077430</td>\n    </tr>\n    <tr>\n      <th>4</th>\n      <td>0.000776</td>\n      <td>0.00</td>\n      <td>0.078587</td>\n      <td>0.0</td>\n      <td>0.525832</td>\n      <td>0.814009</td>\n      <td>0.542</td>\n      <td>0.499913</td>\n      <td>0.125000</td>\n      <td>0.312236</td>\n      <td>0.850000</td>\n      <td>1.000000</td>\n      <td>0.140374</td>\n    </tr>\n    <tr>\n      <th>...</th>\n      <td>...</td>\n      <td>...</td>\n      <td>...</td>\n      <td>...</td>\n      <td>...</td>\n      <td>...</td>\n      <td>...</td>\n      <td>...</td>\n      <td>...</td>\n      <td>...</td>\n      <td>...</td>\n      <td>...</td>\n      <td>...</td>\n    </tr>\n    <tr>\n      <th>501</th>\n      <td>0.000704</td>\n      <td>0.00</td>\n      <td>0.430065</td>\n      <td>0.0</td>\n      <td>0.657865</td>\n      <td>0.750911</td>\n      <td>0.691</td>\n      <td>0.204395</td>\n      <td>0.041667</td>\n      <td>0.383966</td>\n      <td>0.954545</td>\n      <td>0.987629</td>\n      <td>0.254675</td>\n    </tr>\n    <tr>\n      <th>502</th>\n      <td>0.000509</td>\n      <td>0.00</td>\n      <td>0.430065</td>\n      <td>0.0</td>\n      <td>0.657865</td>\n      <td>0.697039</td>\n      <td>0.767</td>\n      <td>0.188636</td>\n      <td>0.041667</td>\n      <td>0.383966</td>\n      <td>0.954545</td>\n      <td>1.000000</td>\n      <td>0.239136</td>\n    </tr>\n    <tr>\n      <th>503</th>\n      <td>0.000683</td>\n      <td>0.00</td>\n      <td>0.430065</td>\n      <td>0.0</td>\n      <td>0.657865</td>\n      <td>0.794533</td>\n      <td>0.910</td>\n      <td>0.178741</td>\n      <td>0.041667</td>\n      <td>0.383966</td>\n      <td>0.954545</td>\n      <td>1.000000</td>\n      <td>0.148538</td>\n    </tr>\n    <tr>\n      <th>504</th>\n      <td>0.001232</td>\n      <td>0.00</td>\n      <td>0.430065</td>\n      <td>0.0</td>\n      <td>0.657865</td>\n      <td>0.773804</td>\n      <td>0.893</td>\n      <td>0.196998</td>\n      <td>0.041667</td>\n      <td>0.383966</td>\n      <td>0.954545</td>\n      <td>0.991308</td>\n      <td>0.170661</td>\n    </tr>\n    <tr>\n      <th>505</th>\n      <td>0.000533</td>\n      <td>0.00</td>\n      <td>0.430065</td>\n      <td>0.0</td>\n      <td>0.657865</td>\n      <td>0.686788</td>\n      <td>0.808</td>\n      <td>0.206572</td>\n      <td>0.041667</td>\n      <td>0.383966</td>\n      <td>0.954545</td>\n      <td>1.000000</td>\n      <td>0.207532</td>\n    </tr>\n  </tbody>\n</table>\n<p>506 rows × 13 columns</p>\n</div>"
     },
     "execution_count": 23,
     "metadata": {},
     "output_type": "execute_result"
    }
   ],
   "source": [
    "abs_transformer(data)"
   ],
   "metadata": {
    "collapsed": false,
    "pycharm": {
     "name": "#%%\n"
    }
   }
  },
  {
   "cell_type": "code",
   "execution_count": 25,
   "outputs": [
    {
     "data": {
      "text/plain": "array([[-0.04054122,  0.06636364, -0.31819678, ..., -0.14343335,\n         0.10135039, -0.20208226],\n       [-0.04030531, -0.11363636, -0.14660341, ..., -0.02979698,\n         0.10135039, -0.09252208],\n       [-0.04030554, -0.11363636, -0.14660341, ..., -0.02979698,\n         0.09109591, -0.22710201],\n       ...,\n       [-0.03992937, -0.11363636,  0.02859486, ...,  0.11565756,\n         0.10135039, -0.18470011],\n       [-0.03938057, -0.11363636,  0.02859486, ...,  0.11565756,\n         0.09265802, -0.16257738],\n       [-0.04007941, -0.11363636,  0.02859486, ...,  0.11565756,\n         0.10135039, -0.12570617]])"
     },
     "execution_count": 25,
     "metadata": {},
     "output_type": "execute_result"
    }
   ],
   "source": [
    "mean_scaler = StandardScaler(with_mean=True,with_std=False)\n",
    "abs_scaler = MaxAbsScaler()\n",
    "\n",
    "mean_scaler.fit(data)\n",
    "abs_scaler.fit(data)\n",
    "abs_scaler.transform(mean_scaler.transform(data))"
   ],
   "metadata": {
    "collapsed": false,
    "pycharm": {
     "name": "#%%\n"
    }
   }
  },
  {
   "cell_type": "markdown",
   "source": [
    "## Scaling with the median and quantiles\n",
    "When scaling variables to the median and quantiles, the median value is removed from the observations and the result is\n",
    "divided by the inter-quartile range (IQR). The IQR is the range between the 1st quartile and the 3rd quartile, or, in\n",
    "other words, the range between the 25th quantile and the 75th quantile"
   ],
   "metadata": {
    "collapsed": false,
    "pycharm": {
     "name": "#%% md\n"
    }
   }
  },
  {
   "cell_type": "code",
   "execution_count": 27,
   "outputs": [],
   "source": [
    "def med_q_transformer(dataframe):\n",
    "    norm_data = pd.DataFrame()\n",
    "    for col in dataframe:\n",
    "        col_median = np.median(dataframe[col])\n",
    "        col_iqr = ss.iqr(dataframe[col])\n",
    "        norm_data[col] = (dataframe[col] - col_median)/col_iqr\n",
    "\n",
    "    return norm_data"
   ],
   "metadata": {
    "collapsed": false,
    "pycharm": {
     "name": "#%%\n"
    }
   }
  },
  {
   "cell_type": "code",
   "execution_count": 28,
   "outputs": [
    {
     "data": {
      "text/plain": "         CRIM    ZN     INDUS  CHAS       NOX        RM       AGE       DIS  \\\n0   -0.069593  1.44 -0.571650   NaN  0.000000  0.496612 -0.250765  0.285777   \n1   -0.063755  0.00 -0.202943   NaN -0.394286  0.287940  0.028542  0.569789   \n2   -0.063760  0.00 -0.202943   NaN -0.394286  1.323171 -0.334353  0.569789   \n3   -0.062347  0.00 -0.581720   NaN -0.457143  1.069783 -0.646279  0.924391   \n4   -0.052144  0.00 -0.581720   NaN -0.457143  1.271680 -0.475025  0.924391   \n..        ...   ...       ...   ...       ...       ...       ...       ...   \n501 -0.053930  0.00  0.173509   NaN  0.200000  0.521003 -0.171254 -0.236007   \n502 -0.058759  0.00  0.173509   NaN  0.200000 -0.119919 -0.016310 -0.297887   \n503 -0.054450  0.00  0.173509   NaN  0.200000  1.039973  0.275229 -0.336744   \n504 -0.040867  0.00  0.173509   NaN  0.200000  0.793360  0.240571 -0.265053   \n505 -0.058164  0.00  0.173509   NaN  0.200000 -0.241870  0.067278 -0.227459   \n\n      RAD       TAX   PTRATIO         B     LSTAT  \n0   -0.20 -0.087855 -1.339286  0.261902 -0.637681  \n1   -0.15 -0.227390 -0.446429  0.261902 -0.221889  \n2   -0.15 -0.227390 -0.446429  0.066675 -0.732634  \n3   -0.10 -0.279070 -0.125000  0.153016 -0.841579  \n4   -0.10 -0.279070 -0.125000  0.261902 -0.602699  \n..    ...       ...       ...       ...       ...  \n501 -0.20 -0.147287  0.696429  0.026382 -0.168916  \n502 -0.20 -0.147287  0.696429  0.261902 -0.227886  \n503 -0.20 -0.147287  0.696429  0.261902 -0.571714  \n504 -0.20 -0.147287  0.696429  0.096414 -0.487756  \n505 -0.20 -0.147287  0.696429  0.261902 -0.347826  \n\n[506 rows x 13 columns]",
      "text/html": "<div>\n<style scoped>\n    .dataframe tbody tr th:only-of-type {\n        vertical-align: middle;\n    }\n\n    .dataframe tbody tr th {\n        vertical-align: top;\n    }\n\n    .dataframe thead th {\n        text-align: right;\n    }\n</style>\n<table border=\"1\" class=\"dataframe\">\n  <thead>\n    <tr style=\"text-align: right;\">\n      <th></th>\n      <th>CRIM</th>\n      <th>ZN</th>\n      <th>INDUS</th>\n      <th>CHAS</th>\n      <th>NOX</th>\n      <th>RM</th>\n      <th>AGE</th>\n      <th>DIS</th>\n      <th>RAD</th>\n      <th>TAX</th>\n      <th>PTRATIO</th>\n      <th>B</th>\n      <th>LSTAT</th>\n    </tr>\n  </thead>\n  <tbody>\n    <tr>\n      <th>0</th>\n      <td>-0.069593</td>\n      <td>1.44</td>\n      <td>-0.571650</td>\n      <td>NaN</td>\n      <td>0.000000</td>\n      <td>0.496612</td>\n      <td>-0.250765</td>\n      <td>0.285777</td>\n      <td>-0.20</td>\n      <td>-0.087855</td>\n      <td>-1.339286</td>\n      <td>0.261902</td>\n      <td>-0.637681</td>\n    </tr>\n    <tr>\n      <th>1</th>\n      <td>-0.063755</td>\n      <td>0.00</td>\n      <td>-0.202943</td>\n      <td>NaN</td>\n      <td>-0.394286</td>\n      <td>0.287940</td>\n      <td>0.028542</td>\n      <td>0.569789</td>\n      <td>-0.15</td>\n      <td>-0.227390</td>\n      <td>-0.446429</td>\n      <td>0.261902</td>\n      <td>-0.221889</td>\n    </tr>\n    <tr>\n      <th>2</th>\n      <td>-0.063760</td>\n      <td>0.00</td>\n      <td>-0.202943</td>\n      <td>NaN</td>\n      <td>-0.394286</td>\n      <td>1.323171</td>\n      <td>-0.334353</td>\n      <td>0.569789</td>\n      <td>-0.15</td>\n      <td>-0.227390</td>\n      <td>-0.446429</td>\n      <td>0.066675</td>\n      <td>-0.732634</td>\n    </tr>\n    <tr>\n      <th>3</th>\n      <td>-0.062347</td>\n      <td>0.00</td>\n      <td>-0.581720</td>\n      <td>NaN</td>\n      <td>-0.457143</td>\n      <td>1.069783</td>\n      <td>-0.646279</td>\n      <td>0.924391</td>\n      <td>-0.10</td>\n      <td>-0.279070</td>\n      <td>-0.125000</td>\n      <td>0.153016</td>\n      <td>-0.841579</td>\n    </tr>\n    <tr>\n      <th>4</th>\n      <td>-0.052144</td>\n      <td>0.00</td>\n      <td>-0.581720</td>\n      <td>NaN</td>\n      <td>-0.457143</td>\n      <td>1.271680</td>\n      <td>-0.475025</td>\n      <td>0.924391</td>\n      <td>-0.10</td>\n      <td>-0.279070</td>\n      <td>-0.125000</td>\n      <td>0.261902</td>\n      <td>-0.602699</td>\n    </tr>\n    <tr>\n      <th>...</th>\n      <td>...</td>\n      <td>...</td>\n      <td>...</td>\n      <td>...</td>\n      <td>...</td>\n      <td>...</td>\n      <td>...</td>\n      <td>...</td>\n      <td>...</td>\n      <td>...</td>\n      <td>...</td>\n      <td>...</td>\n      <td>...</td>\n    </tr>\n    <tr>\n      <th>501</th>\n      <td>-0.053930</td>\n      <td>0.00</td>\n      <td>0.173509</td>\n      <td>NaN</td>\n      <td>0.200000</td>\n      <td>0.521003</td>\n      <td>-0.171254</td>\n      <td>-0.236007</td>\n      <td>-0.20</td>\n      <td>-0.147287</td>\n      <td>0.696429</td>\n      <td>0.026382</td>\n      <td>-0.168916</td>\n    </tr>\n    <tr>\n      <th>502</th>\n      <td>-0.058759</td>\n      <td>0.00</td>\n      <td>0.173509</td>\n      <td>NaN</td>\n      <td>0.200000</td>\n      <td>-0.119919</td>\n      <td>-0.016310</td>\n      <td>-0.297887</td>\n      <td>-0.20</td>\n      <td>-0.147287</td>\n      <td>0.696429</td>\n      <td>0.261902</td>\n      <td>-0.227886</td>\n    </tr>\n    <tr>\n      <th>503</th>\n      <td>-0.054450</td>\n      <td>0.00</td>\n      <td>0.173509</td>\n      <td>NaN</td>\n      <td>0.200000</td>\n      <td>1.039973</td>\n      <td>0.275229</td>\n      <td>-0.336744</td>\n      <td>-0.20</td>\n      <td>-0.147287</td>\n      <td>0.696429</td>\n      <td>0.261902</td>\n      <td>-0.571714</td>\n    </tr>\n    <tr>\n      <th>504</th>\n      <td>-0.040867</td>\n      <td>0.00</td>\n      <td>0.173509</td>\n      <td>NaN</td>\n      <td>0.200000</td>\n      <td>0.793360</td>\n      <td>0.240571</td>\n      <td>-0.265053</td>\n      <td>-0.20</td>\n      <td>-0.147287</td>\n      <td>0.696429</td>\n      <td>0.096414</td>\n      <td>-0.487756</td>\n    </tr>\n    <tr>\n      <th>505</th>\n      <td>-0.058164</td>\n      <td>0.00</td>\n      <td>0.173509</td>\n      <td>NaN</td>\n      <td>0.200000</td>\n      <td>-0.241870</td>\n      <td>0.067278</td>\n      <td>-0.227459</td>\n      <td>-0.20</td>\n      <td>-0.147287</td>\n      <td>0.696429</td>\n      <td>0.261902</td>\n      <td>-0.347826</td>\n    </tr>\n  </tbody>\n</table>\n<p>506 rows × 13 columns</p>\n</div>"
     },
     "execution_count": 28,
     "metadata": {},
     "output_type": "execute_result"
    }
   ],
   "source": [
    "med_q_transformer(data)"
   ],
   "metadata": {
    "collapsed": false,
    "pycharm": {
     "name": "#%%\n"
    }
   }
  },
  {
   "cell_type": "code",
   "execution_count": 29,
   "outputs": [
    {
     "data": {
      "text/plain": "array([3.5950375e+00, 1.2500000e+01, 1.2910000e+01, 1.0000000e+00,\n       1.7500000e-01, 7.3800000e-01, 4.9050000e+01, 3.0882500e+00,\n       2.0000000e+01, 3.8700000e+02, 2.8000000e+00, 2.0847500e+01,\n       1.0005000e+01])"
     },
     "execution_count": 29,
     "metadata": {},
     "output_type": "execute_result"
    }
   ],
   "source": [
    "scaler = RobustScaler()\n",
    "scaler.fit(data)\n",
    "scaler.scale_"
   ],
   "metadata": {
    "collapsed": false,
    "pycharm": {
     "name": "#%%\n"
    }
   }
  },
  {
   "cell_type": "code",
   "execution_count": 30,
   "outputs": [
    {
     "data": {
      "text/plain": "array([[-0.06959315,  1.44      , -0.57164988, ..., -1.33928571,\n         0.26190191, -0.63768116],\n       [-0.06375455,  0.        , -0.20294345, ..., -0.44642857,\n         0.26190191, -0.22188906],\n       [-0.06376011,  0.        , -0.20294345, ..., -0.44642857,\n         0.06667466, -0.73263368],\n       ...,\n       [-0.05445006,  0.        ,  0.17350891, ...,  0.69642857,\n         0.26190191, -0.57171414],\n       [-0.04086745,  0.        ,  0.17350891, ...,  0.69642857,\n         0.09641444, -0.48775612],\n       [-0.05816351,  0.        ,  0.17350891, ...,  0.69642857,\n         0.26190191, -0.34782609]])"
     },
     "execution_count": 30,
     "metadata": {},
     "output_type": "execute_result"
    }
   ],
   "source": [
    "scaler.transform(data)"
   ],
   "metadata": {
    "collapsed": false,
    "pycharm": {
     "name": "#%%\n"
    }
   }
  },
  {
   "cell_type": "markdown",
   "source": [
    "## Scaling to vector unit length\n",
    "When scaling to vector unit length, we transform the components of a feature vector so that the transformed vector has a\n",
    "length of 1, or in other words, a norm of 1. Note that this scaling technique scales the feature vector, as opposed to\n",
    "each individual variable. Scaling to the unit norm is achieved by dividing each observation vector by either the\n",
    "Manhattan distance (l1 norm) or the Euclidean distance (l2 norm) of the vector. The Manhattan distance is given by the\n",
    "sum of the absolute components of the vector."
   ],
   "metadata": {
    "collapsed": false,
    "pycharm": {
     "name": "#%% md\n"
    }
   }
  },
  {
   "cell_type": "code",
   "execution_count": 32,
   "outputs": [],
   "source": [
    "def unit_len_transformer(dataframe,method='l1'):\n",
    "    norm_data = pd.DataFrame()\n",
    "    for col in dataframe:\n",
    "        if method is 'l1':\n",
    "            divider = np.sum(np.abs(dataframe[col]))\n",
    "        elif method is 'l2':\n",
    "            divider = np.sum(np.square(dataframe[col]))\n",
    "        norm_data[col] = dataframe[col]/divider\n",
    "\n",
    "    return norm_data"
   ],
   "metadata": {
    "collapsed": false,
    "pycharm": {
     "name": "#%%\n"
    }
   }
  },
  {
   "cell_type": "code",
   "execution_count": 33,
   "outputs": [
    {
     "data": {
      "text/plain": "         CRIM       ZN     INDUS  CHAS       NOX        RM       AGE  \\\n0    0.000003  0.00313  0.000410   0.0  0.001917  0.002068  0.001879   \n1    0.000015  0.00000  0.001255   0.0  0.001671  0.002019  0.002274   \n2    0.000015  0.00000  0.001255   0.0  0.001671  0.002259  0.001761   \n3    0.000018  0.00000  0.000387   0.0  0.001632  0.002201  0.001320   \n4    0.000038  0.00000  0.000387   0.0  0.001632  0.002247  0.001562   \n..        ...      ...       ...   ...       ...       ...       ...   \n501  0.000034  0.00000  0.002117   0.0  0.002042  0.002073  0.001991   \n502  0.000025  0.00000  0.002117   0.0  0.002042  0.001925  0.002210   \n503  0.000033  0.00000  0.002117   0.0  0.002042  0.002194  0.002623   \n504  0.000060  0.00000  0.002117   0.0  0.002042  0.002136  0.002574   \n505  0.000026  0.00000  0.002117   0.0  0.002042  0.001896  0.002329   \n\n          DIS       RAD       TAX   PTRATIO         B     LSTAT  \n0    0.002130  0.000207  0.001433  0.001638  0.002199  0.000778  \n1    0.002587  0.000414  0.001172  0.001906  0.002199  0.001428  \n2    0.002587  0.000414  0.001172  0.001906  0.002177  0.000629  \n3    0.003157  0.000621  0.001075  0.002002  0.002187  0.000459  \n4    0.003157  0.000621  0.001075  0.002002  0.002199  0.000832  \n..        ...       ...       ...       ...       ...       ...  \n501  0.001291  0.000207  0.001322  0.002249  0.002172  0.001510  \n502  0.001191  0.000207  0.001322  0.002249  0.002199  0.001418  \n503  0.001129  0.000207  0.001322  0.002249  0.002199  0.000881  \n504  0.001244  0.000207  0.001322  0.002249  0.002180  0.001012  \n505  0.001304  0.000207  0.001322  0.002249  0.002199  0.001231  \n\n[506 rows x 13 columns]",
      "text/html": "<div>\n<style scoped>\n    .dataframe tbody tr th:only-of-type {\n        vertical-align: middle;\n    }\n\n    .dataframe tbody tr th {\n        vertical-align: top;\n    }\n\n    .dataframe thead th {\n        text-align: right;\n    }\n</style>\n<table border=\"1\" class=\"dataframe\">\n  <thead>\n    <tr style=\"text-align: right;\">\n      <th></th>\n      <th>CRIM</th>\n      <th>ZN</th>\n      <th>INDUS</th>\n      <th>CHAS</th>\n      <th>NOX</th>\n      <th>RM</th>\n      <th>AGE</th>\n      <th>DIS</th>\n      <th>RAD</th>\n      <th>TAX</th>\n      <th>PTRATIO</th>\n      <th>B</th>\n      <th>LSTAT</th>\n    </tr>\n  </thead>\n  <tbody>\n    <tr>\n      <th>0</th>\n      <td>0.000003</td>\n      <td>0.00313</td>\n      <td>0.000410</td>\n      <td>0.0</td>\n      <td>0.001917</td>\n      <td>0.002068</td>\n      <td>0.001879</td>\n      <td>0.002130</td>\n      <td>0.000207</td>\n      <td>0.001433</td>\n      <td>0.001638</td>\n      <td>0.002199</td>\n      <td>0.000778</td>\n    </tr>\n    <tr>\n      <th>1</th>\n      <td>0.000015</td>\n      <td>0.00000</td>\n      <td>0.001255</td>\n      <td>0.0</td>\n      <td>0.001671</td>\n      <td>0.002019</td>\n      <td>0.002274</td>\n      <td>0.002587</td>\n      <td>0.000414</td>\n      <td>0.001172</td>\n      <td>0.001906</td>\n      <td>0.002199</td>\n      <td>0.001428</td>\n    </tr>\n    <tr>\n      <th>2</th>\n      <td>0.000015</td>\n      <td>0.00000</td>\n      <td>0.001255</td>\n      <td>0.0</td>\n      <td>0.001671</td>\n      <td>0.002259</td>\n      <td>0.001761</td>\n      <td>0.002587</td>\n      <td>0.000414</td>\n      <td>0.001172</td>\n      <td>0.001906</td>\n      <td>0.002177</td>\n      <td>0.000629</td>\n    </tr>\n    <tr>\n      <th>3</th>\n      <td>0.000018</td>\n      <td>0.00000</td>\n      <td>0.000387</td>\n      <td>0.0</td>\n      <td>0.001632</td>\n      <td>0.002201</td>\n      <td>0.001320</td>\n      <td>0.003157</td>\n      <td>0.000621</td>\n      <td>0.001075</td>\n      <td>0.002002</td>\n      <td>0.002187</td>\n      <td>0.000459</td>\n    </tr>\n    <tr>\n      <th>4</th>\n      <td>0.000038</td>\n      <td>0.00000</td>\n      <td>0.000387</td>\n      <td>0.0</td>\n      <td>0.001632</td>\n      <td>0.002247</td>\n      <td>0.001562</td>\n      <td>0.003157</td>\n      <td>0.000621</td>\n      <td>0.001075</td>\n      <td>0.002002</td>\n      <td>0.002199</td>\n      <td>0.000832</td>\n    </tr>\n    <tr>\n      <th>...</th>\n      <td>...</td>\n      <td>...</td>\n      <td>...</td>\n      <td>...</td>\n      <td>...</td>\n      <td>...</td>\n      <td>...</td>\n      <td>...</td>\n      <td>...</td>\n      <td>...</td>\n      <td>...</td>\n      <td>...</td>\n      <td>...</td>\n    </tr>\n    <tr>\n      <th>501</th>\n      <td>0.000034</td>\n      <td>0.00000</td>\n      <td>0.002117</td>\n      <td>0.0</td>\n      <td>0.002042</td>\n      <td>0.002073</td>\n      <td>0.001991</td>\n      <td>0.001291</td>\n      <td>0.000207</td>\n      <td>0.001322</td>\n      <td>0.002249</td>\n      <td>0.002172</td>\n      <td>0.001510</td>\n    </tr>\n    <tr>\n      <th>502</th>\n      <td>0.000025</td>\n      <td>0.00000</td>\n      <td>0.002117</td>\n      <td>0.0</td>\n      <td>0.002042</td>\n      <td>0.001925</td>\n      <td>0.002210</td>\n      <td>0.001191</td>\n      <td>0.000207</td>\n      <td>0.001322</td>\n      <td>0.002249</td>\n      <td>0.002199</td>\n      <td>0.001418</td>\n    </tr>\n    <tr>\n      <th>503</th>\n      <td>0.000033</td>\n      <td>0.00000</td>\n      <td>0.002117</td>\n      <td>0.0</td>\n      <td>0.002042</td>\n      <td>0.002194</td>\n      <td>0.002623</td>\n      <td>0.001129</td>\n      <td>0.000207</td>\n      <td>0.001322</td>\n      <td>0.002249</td>\n      <td>0.002199</td>\n      <td>0.000881</td>\n    </tr>\n    <tr>\n      <th>504</th>\n      <td>0.000060</td>\n      <td>0.00000</td>\n      <td>0.002117</td>\n      <td>0.0</td>\n      <td>0.002042</td>\n      <td>0.002136</td>\n      <td>0.002574</td>\n      <td>0.001244</td>\n      <td>0.000207</td>\n      <td>0.001322</td>\n      <td>0.002249</td>\n      <td>0.002180</td>\n      <td>0.001012</td>\n    </tr>\n    <tr>\n      <th>505</th>\n      <td>0.000026</td>\n      <td>0.00000</td>\n      <td>0.002117</td>\n      <td>0.0</td>\n      <td>0.002042</td>\n      <td>0.001896</td>\n      <td>0.002329</td>\n      <td>0.001304</td>\n      <td>0.000207</td>\n      <td>0.001322</td>\n      <td>0.002249</td>\n      <td>0.002199</td>\n      <td>0.001231</td>\n    </tr>\n  </tbody>\n</table>\n<p>506 rows × 13 columns</p>\n</div>"
     },
     "execution_count": 33,
     "metadata": {},
     "output_type": "execute_result"
    }
   ],
   "source": [
    "unit_len_transformer(data)"
   ],
   "metadata": {
    "collapsed": false,
    "pycharm": {
     "name": "#%%\n"
    }
   }
  },
  {
   "cell_type": "code",
   "execution_count": 34,
   "outputs": [
    {
     "data": {
      "text/plain": "             CRIM        ZN     INDUS  CHAS       NOX        RM       AGE  \\\n0    1.437332e-07  0.000053  0.000027   0.0  0.003311  0.000325  0.000023   \n1    6.211004e-07  0.000000  0.000082   0.0  0.002887  0.000317  0.000028   \n2    6.206456e-07  0.000000  0.000082   0.0  0.002887  0.000355  0.000022   \n3    7.361780e-07  0.000000  0.000025   0.0  0.002819  0.000346  0.000016   \n4    1.570377e-06  0.000000  0.000025   0.0  0.002819  0.000353  0.000019   \n..            ...       ...       ...   ...       ...       ...       ...   \n501  1.424369e-06  0.000000  0.000138   0.0  0.003527  0.000326  0.000025   \n502  1.029558e-06  0.000000  0.000138   0.0  0.003527  0.000302  0.000028   \n503  1.381840e-06  0.000000  0.000138   0.0  0.003527  0.000345  0.000033   \n504  2.492362e-06  0.000000  0.000138   0.0  0.003527  0.000336  0.000032   \n505  1.078227e-06  0.000000  0.000138   0.0  0.003527  0.000298  0.000029   \n\n          DIS       RAD       TAX   PTRATIO         B     LSTAT  \n0    0.000429  0.000012  0.000003  0.000088  0.000006  0.000047  \n1    0.000521  0.000024  0.000002  0.000102  0.000006  0.000086  \n2    0.000521  0.000024  0.000002  0.000102  0.000006  0.000038  \n3    0.000636  0.000036  0.000002  0.000107  0.000006  0.000028  \n4    0.000636  0.000036  0.000002  0.000107  0.000006  0.000050  \n..        ...       ...       ...       ...       ...       ...  \n501  0.000260  0.000012  0.000003  0.000120  0.000006  0.000091  \n502  0.000240  0.000012  0.000003  0.000120  0.000006  0.000085  \n503  0.000228  0.000012  0.000003  0.000120  0.000006  0.000053  \n504  0.000251  0.000012  0.000003  0.000120  0.000006  0.000061  \n505  0.000263  0.000012  0.000003  0.000120  0.000006  0.000074  \n\n[506 rows x 13 columns]",
      "text/html": "<div>\n<style scoped>\n    .dataframe tbody tr th:only-of-type {\n        vertical-align: middle;\n    }\n\n    .dataframe tbody tr th {\n        vertical-align: top;\n    }\n\n    .dataframe thead th {\n        text-align: right;\n    }\n</style>\n<table border=\"1\" class=\"dataframe\">\n  <thead>\n    <tr style=\"text-align: right;\">\n      <th></th>\n      <th>CRIM</th>\n      <th>ZN</th>\n      <th>INDUS</th>\n      <th>CHAS</th>\n      <th>NOX</th>\n      <th>RM</th>\n      <th>AGE</th>\n      <th>DIS</th>\n      <th>RAD</th>\n      <th>TAX</th>\n      <th>PTRATIO</th>\n      <th>B</th>\n      <th>LSTAT</th>\n    </tr>\n  </thead>\n  <tbody>\n    <tr>\n      <th>0</th>\n      <td>1.437332e-07</td>\n      <td>0.000053</td>\n      <td>0.000027</td>\n      <td>0.0</td>\n      <td>0.003311</td>\n      <td>0.000325</td>\n      <td>0.000023</td>\n      <td>0.000429</td>\n      <td>0.000012</td>\n      <td>0.000003</td>\n      <td>0.000088</td>\n      <td>0.000006</td>\n      <td>0.000047</td>\n    </tr>\n    <tr>\n      <th>1</th>\n      <td>6.211004e-07</td>\n      <td>0.000000</td>\n      <td>0.000082</td>\n      <td>0.0</td>\n      <td>0.002887</td>\n      <td>0.000317</td>\n      <td>0.000028</td>\n      <td>0.000521</td>\n      <td>0.000024</td>\n      <td>0.000002</td>\n      <td>0.000102</td>\n      <td>0.000006</td>\n      <td>0.000086</td>\n    </tr>\n    <tr>\n      <th>2</th>\n      <td>6.206456e-07</td>\n      <td>0.000000</td>\n      <td>0.000082</td>\n      <td>0.0</td>\n      <td>0.002887</td>\n      <td>0.000355</td>\n      <td>0.000022</td>\n      <td>0.000521</td>\n      <td>0.000024</td>\n      <td>0.000002</td>\n      <td>0.000102</td>\n      <td>0.000006</td>\n      <td>0.000038</td>\n    </tr>\n    <tr>\n      <th>3</th>\n      <td>7.361780e-07</td>\n      <td>0.000000</td>\n      <td>0.000025</td>\n      <td>0.0</td>\n      <td>0.002819</td>\n      <td>0.000346</td>\n      <td>0.000016</td>\n      <td>0.000636</td>\n      <td>0.000036</td>\n      <td>0.000002</td>\n      <td>0.000107</td>\n      <td>0.000006</td>\n      <td>0.000028</td>\n    </tr>\n    <tr>\n      <th>4</th>\n      <td>1.570377e-06</td>\n      <td>0.000000</td>\n      <td>0.000025</td>\n      <td>0.0</td>\n      <td>0.002819</td>\n      <td>0.000353</td>\n      <td>0.000019</td>\n      <td>0.000636</td>\n      <td>0.000036</td>\n      <td>0.000002</td>\n      <td>0.000107</td>\n      <td>0.000006</td>\n      <td>0.000050</td>\n    </tr>\n    <tr>\n      <th>...</th>\n      <td>...</td>\n      <td>...</td>\n      <td>...</td>\n      <td>...</td>\n      <td>...</td>\n      <td>...</td>\n      <td>...</td>\n      <td>...</td>\n      <td>...</td>\n      <td>...</td>\n      <td>...</td>\n      <td>...</td>\n      <td>...</td>\n    </tr>\n    <tr>\n      <th>501</th>\n      <td>1.424369e-06</td>\n      <td>0.000000</td>\n      <td>0.000138</td>\n      <td>0.0</td>\n      <td>0.003527</td>\n      <td>0.000326</td>\n      <td>0.000025</td>\n      <td>0.000260</td>\n      <td>0.000012</td>\n      <td>0.000003</td>\n      <td>0.000120</td>\n      <td>0.000006</td>\n      <td>0.000091</td>\n    </tr>\n    <tr>\n      <th>502</th>\n      <td>1.029558e-06</td>\n      <td>0.000000</td>\n      <td>0.000138</td>\n      <td>0.0</td>\n      <td>0.003527</td>\n      <td>0.000302</td>\n      <td>0.000028</td>\n      <td>0.000240</td>\n      <td>0.000012</td>\n      <td>0.000003</td>\n      <td>0.000120</td>\n      <td>0.000006</td>\n      <td>0.000085</td>\n    </tr>\n    <tr>\n      <th>503</th>\n      <td>1.381840e-06</td>\n      <td>0.000000</td>\n      <td>0.000138</td>\n      <td>0.0</td>\n      <td>0.003527</td>\n      <td>0.000345</td>\n      <td>0.000033</td>\n      <td>0.000228</td>\n      <td>0.000012</td>\n      <td>0.000003</td>\n      <td>0.000120</td>\n      <td>0.000006</td>\n      <td>0.000053</td>\n    </tr>\n    <tr>\n      <th>504</th>\n      <td>2.492362e-06</td>\n      <td>0.000000</td>\n      <td>0.000138</td>\n      <td>0.0</td>\n      <td>0.003527</td>\n      <td>0.000336</td>\n      <td>0.000032</td>\n      <td>0.000251</td>\n      <td>0.000012</td>\n      <td>0.000003</td>\n      <td>0.000120</td>\n      <td>0.000006</td>\n      <td>0.000061</td>\n    </tr>\n    <tr>\n      <th>505</th>\n      <td>1.078227e-06</td>\n      <td>0.000000</td>\n      <td>0.000138</td>\n      <td>0.0</td>\n      <td>0.003527</td>\n      <td>0.000298</td>\n      <td>0.000029</td>\n      <td>0.000263</td>\n      <td>0.000012</td>\n      <td>0.000003</td>\n      <td>0.000120</td>\n      <td>0.000006</td>\n      <td>0.000074</td>\n    </tr>\n  </tbody>\n</table>\n<p>506 rows × 13 columns</p>\n</div>"
     },
     "execution_count": 34,
     "metadata": {},
     "output_type": "execute_result"
    }
   ],
   "source": [
    "unit_len_transformer(data,'l2')"
   ],
   "metadata": {
    "collapsed": false,
    "pycharm": {
     "name": "#%%\n"
    }
   }
  },
  {
   "cell_type": "code",
   "execution_count": 37,
   "outputs": [
    {
     "data": {
      "text/plain": "array([[7.79381588e-06, 2.21975769e-02, 2.84868903e-03, ...,\n        1.88679404e-02, 4.89456570e-01, 6.14132960e-03],\n       [3.56669706e-05, 0.00000000e+00, 9.23344863e-03, ...,\n        2.32468721e-02, 5.18353007e-01, 1.19368770e-02],\n       [3.69043915e-05, 0.00000000e+00, 9.56079325e-03, ...,\n        2.40710212e-02, 5.31225801e-01, 5.44978738e-03],\n       ...,\n       [7.49894545e-05, 0.00000000e+00, 1.47239005e-02, ...,\n        2.59180142e-02, 4.89850469e-01, 6.96083810e-03],\n       [1.35963442e-04, 0.00000000e+00, 1.48010207e-02, ...,\n        2.60537666e-02, 4.88135927e-01, 8.03944798e-03],\n       [5.91393858e-05, 0.00000000e+00, 1.48815202e-02, ...,\n        2.61954673e-02, 4.95094331e-01, 9.82953724e-03]])"
     },
     "execution_count": 37,
     "metadata": {},
     "output_type": "execute_result"
    }
   ],
   "source": [
    "scaler = Normalizer(norm='l1')\n",
    "scaler.fit(data)\n",
    "scaler.transform(data)"
   ],
   "metadata": {
    "collapsed": false,
    "pycharm": {
     "name": "#%%\n"
    }
   }
  }
 ],
 "metadata": {
  "kernelspec": {
   "display_name": "Python 3",
   "language": "python",
   "name": "python3"
  },
  "language_info": {
   "codemirror_mode": {
    "name": "ipython",
    "version": 2
   },
   "file_extension": ".py",
   "mimetype": "text/x-python",
   "name": "python",
   "nbconvert_exporter": "python",
   "pygments_lexer": "ipython2",
   "version": "2.7.6"
  }
 },
 "nbformat": 4,
 "nbformat_minor": 0
}